{
 "cells": [
  {
   "cell_type": "code",
   "execution_count": 1,
   "metadata": {},
   "outputs": [],
   "source": [
    "import sklearn as skt\n",
    "import pandas as pd\n",
    "import numpy as np \n",
    "import  matplotlib.pyplot as plt\n",
    "%matplotlib inline\n",
    "import math \n",
    "from statsmodels.tsa.arima_model import ARIMA"
   ]
  },
  {
   "cell_type": "markdown",
   "metadata": {},
   "source": [
    "Reading Data"
   ]
  },
  {
   "cell_type": "code",
   "execution_count": 2,
   "metadata": {},
   "outputs": [
    {
     "data": {
      "text/html": [
       "<div>\n",
       "<style scoped>\n",
       "    .dataframe tbody tr th:only-of-type {\n",
       "        vertical-align: middle;\n",
       "    }\n",
       "\n",
       "    .dataframe tbody tr th {\n",
       "        vertical-align: top;\n",
       "    }\n",
       "\n",
       "    .dataframe thead th {\n",
       "        text-align: right;\n",
       "    }\n",
       "</style>\n",
       "<table border=\"1\" class=\"dataframe\">\n",
       "  <thead>\n",
       "    <tr style=\"text-align: right;\">\n",
       "      <th></th>\n",
       "      <th>Country code</th>\n",
       "      <th>Country</th>\n",
       "      <th>City Code</th>\n",
       "      <th>Urban Agglomeration</th>\n",
       "      <th>Latitude</th>\n",
       "      <th>Longitude</th>\n",
       "      <th>1950</th>\n",
       "      <th>1955</th>\n",
       "      <th>1960</th>\n",
       "      <th>1965</th>\n",
       "      <th>...</th>\n",
       "      <th>2010</th>\n",
       "      <th>2015</th>\n",
       "      <th>2020</th>\n",
       "      <th>2025</th>\n",
       "      <th>Cyclone risk (0=low, 3=high)</th>\n",
       "      <th>Drought risk</th>\n",
       "      <th>Earthquake risk</th>\n",
       "      <th>Flood risk</th>\n",
       "      <th>Landslide risk</th>\n",
       "      <th>Volcano risk</th>\n",
       "    </tr>\n",
       "  </thead>\n",
       "  <tbody>\n",
       "    <tr>\n",
       "      <td>0</td>\n",
       "      <td>4</td>\n",
       "      <td>Afghanistan</td>\n",
       "      <td>20002</td>\n",
       "      <td>Kabul</td>\n",
       "      <td>34.54</td>\n",
       "      <td>69.17</td>\n",
       "      <td>128.931</td>\n",
       "      <td>184.622</td>\n",
       "      <td>264.803</td>\n",
       "      <td>368.809</td>\n",
       "      <td>...</td>\n",
       "      <td>3052.000</td>\n",
       "      <td>3402.137</td>\n",
       "      <td>4135.559</td>\n",
       "      <td>5125.916</td>\n",
       "      <td>0</td>\n",
       "      <td>3</td>\n",
       "      <td>1</td>\n",
       "      <td>3</td>\n",
       "      <td>0</td>\n",
       "      <td>0</td>\n",
       "    </tr>\n",
       "    <tr>\n",
       "      <td>1</td>\n",
       "      <td>12</td>\n",
       "      <td>Algeria</td>\n",
       "      <td>20006</td>\n",
       "      <td>El Djazaïr  (Algiers)</td>\n",
       "      <td>36.76</td>\n",
       "      <td>3.05</td>\n",
       "      <td>516.450</td>\n",
       "      <td>622.921</td>\n",
       "      <td>871.636</td>\n",
       "      <td>1081.394</td>\n",
       "      <td>...</td>\n",
       "      <td>2850.907</td>\n",
       "      <td>3202.959</td>\n",
       "      <td>3607.835</td>\n",
       "      <td>3976.732</td>\n",
       "      <td>0</td>\n",
       "      <td>2</td>\n",
       "      <td>1</td>\n",
       "      <td>2</td>\n",
       "      <td>0</td>\n",
       "      <td>0</td>\n",
       "    </tr>\n",
       "    <tr>\n",
       "      <td>2</td>\n",
       "      <td>12</td>\n",
       "      <td>Algeria</td>\n",
       "      <td>20035</td>\n",
       "      <td>Wahran (Oran)</td>\n",
       "      <td>35.75</td>\n",
       "      <td>-0.63</td>\n",
       "      <td>268.935</td>\n",
       "      <td>286.368</td>\n",
       "      <td>304.936</td>\n",
       "      <td>324.697</td>\n",
       "      <td>...</td>\n",
       "      <td>775.666</td>\n",
       "      <td>825.859</td>\n",
       "      <td>920.440</td>\n",
       "      <td>1025.705</td>\n",
       "      <td>0</td>\n",
       "      <td>3</td>\n",
       "      <td>0</td>\n",
       "      <td>1</td>\n",
       "      <td>0</td>\n",
       "      <td>0</td>\n",
       "    </tr>\n",
       "    <tr>\n",
       "      <td>3</td>\n",
       "      <td>24</td>\n",
       "      <td>Angola</td>\n",
       "      <td>20050</td>\n",
       "      <td>Huambo</td>\n",
       "      <td>-12.76</td>\n",
       "      <td>15.75</td>\n",
       "      <td>15.306</td>\n",
       "      <td>23.818</td>\n",
       "      <td>37.069</td>\n",
       "      <td>47.875</td>\n",
       "      <td>...</td>\n",
       "      <td>1038.581</td>\n",
       "      <td>1345.176</td>\n",
       "      <td>1665.779</td>\n",
       "      <td>1996.751</td>\n",
       "      <td>0</td>\n",
       "      <td>3</td>\n",
       "      <td>0</td>\n",
       "      <td>0</td>\n",
       "      <td>0</td>\n",
       "      <td>0</td>\n",
       "    </tr>\n",
       "    <tr>\n",
       "      <td>4</td>\n",
       "      <td>24</td>\n",
       "      <td>Angola</td>\n",
       "      <td>20049</td>\n",
       "      <td>Luanda</td>\n",
       "      <td>-8.84</td>\n",
       "      <td>13.23</td>\n",
       "      <td>138.413</td>\n",
       "      <td>174.268</td>\n",
       "      <td>219.427</td>\n",
       "      <td>315.108</td>\n",
       "      <td>...</td>\n",
       "      <td>4790.142</td>\n",
       "      <td>6183.162</td>\n",
       "      <td>7555.184</td>\n",
       "      <td>8924.042</td>\n",
       "      <td>0</td>\n",
       "      <td>3</td>\n",
       "      <td>0</td>\n",
       "      <td>1</td>\n",
       "      <td>0</td>\n",
       "      <td>0</td>\n",
       "    </tr>\n",
       "  </tbody>\n",
       "</table>\n",
       "<p>5 rows × 28 columns</p>\n",
       "</div>"
      ],
      "text/plain": [
       "   Country code      Country  City Code    Urban Agglomeration  Latitude  \\\n",
       "0             4  Afghanistan      20002                  Kabul     34.54   \n",
       "1            12      Algeria      20006  El Djazaïr  (Algiers)     36.76   \n",
       "2            12      Algeria      20035          Wahran (Oran)     35.75   \n",
       "3            24       Angola      20050                 Huambo    -12.76   \n",
       "4            24       Angola      20049                 Luanda     -8.84   \n",
       "\n",
       "   Longitude     1950     1955     1960      1965  ...      2010      2015  \\\n",
       "0      69.17  128.931  184.622  264.803   368.809  ...  3052.000  3402.137   \n",
       "1       3.05  516.450  622.921  871.636  1081.394  ...  2850.907  3202.959   \n",
       "2      -0.63  268.935  286.368  304.936   324.697  ...   775.666   825.859   \n",
       "3      15.75   15.306   23.818   37.069    47.875  ...  1038.581  1345.176   \n",
       "4      13.23  138.413  174.268  219.427   315.108  ...  4790.142  6183.162   \n",
       "\n",
       "       2020      2025  Cyclone risk (0=low, 3=high)  Drought risk  \\\n",
       "0  4135.559  5125.916                             0             3   \n",
       "1  3607.835  3976.732                             0             2   \n",
       "2   920.440  1025.705                             0             3   \n",
       "3  1665.779  1996.751                             0             3   \n",
       "4  7555.184  8924.042                             0             3   \n",
       "\n",
       "   Earthquake risk  Flood risk  Landslide risk  Volcano risk  \n",
       "0                1           3               0             0  \n",
       "1                1           2               0             0  \n",
       "2                0           1               0             0  \n",
       "3                0           0               0             0  \n",
       "4                0           1               0             0  \n",
       "\n",
       "[5 rows x 28 columns]"
      ]
     },
     "execution_count": 2,
     "metadata": {},
     "output_type": "execute_result"
    }
   ],
   "source": [
    "data = pd.read_csv(\"UN_cities_data.csv\", \"\\t\")\n",
    "data.head()"
   ]
  },
  {
   "cell_type": "markdown",
   "metadata": {},
   "source": [
    "This analysis will be a time series analysis of the population of Afghanistan. The data will start in 1950\n",
    "and will extrapolate until 2025. "
   ]
  },
  {
   "cell_type": "code",
   "execution_count": 3,
   "metadata": {},
   "outputs": [],
   "source": [
    "Afghan = data[data.Country == \"Afghanistan\"]\n",
    "Afghan.columns\n",
    "afghanYear = Afghan[['1950', '1955', '1960', '1965', '1970', '1975', '1980',\n",
    "                    '1985', '1990','2000','2005','2010', '2015', '2020', '2025']]\n",
    "afghanYear = np.transpose(afghanYear)\n",
    "afghanYear.columns = ['Population']\n",
    "\n"
   ]
  },
  {
   "cell_type": "markdown",
   "metadata": {},
   "source": [
    "Growth of Population in Afghanistan from 1950 "
   ]
  },
  {
   "cell_type": "markdown",
   "metadata": {},
   "source": [
    "It appears that the population has been steadily increasing throughout the entire duration \n",
    "of the data set. There appear to be a few upticks in 1990 and 2005. However, it appears to be mostly \n",
    "smooth and increasing. "
   ]
  },
  {
   "cell_type": "code",
   "execution_count": 4,
   "metadata": {
    "scrolled": true
   },
   "outputs": [
    {
     "data": {
      "text/plain": [
       "<matplotlib.axes._subplots.AxesSubplot at 0x2442738e948>"
      ]
     },
     "execution_count": 4,
     "metadata": {},
     "output_type": "execute_result"
    },
    {
     "data": {
      "image/png": "[encoded data removed]",
      "text/plain": [
       "<Figure size 432x288 with 1 Axes>"
      ]
     },
     "metadata": {
      "needs_background": "light"
     },
     "output_type": "display_data"
    }
   ],
   "source": [
    "afghanYear.plot()"
   ]
  },
  {
   "cell_type": "markdown",
   "metadata": {},
   "source": [
    "The percent change of  the population tells a different story. While looking at absolute numbers, the population is climbing. The percent change is more interesting. There is a big drop in the percentage starting at the tailend of 70's and becomes increasingly pronounced until the 90's. This corresponds to the Soviet Invasion. Likewise, \n",
    "the American invasion is seen after 2005 with a large spike towards a gradual incline. "
   ]
  },
  {
   "cell_type": "code",
   "execution_count": 5,
   "metadata": {},
   "outputs": [
    {
     "data": {
      "text/plain": [
       "<matplotlib.axes._subplots.AxesSubplot at 0x2442a513588>"
      ]
     },
     "execution_count": 5,
     "metadata": {},
     "output_type": "execute_result"
    },
    {
     "data": {
      "image/png": "[encoded data removed]",
      "text/plain": [
       "<Figure size 432x288 with 1 Axes>"
      ]
     },
     "metadata": {
      "needs_background": "light"
     },
     "output_type": "display_data"
    }
   ],
   "source": [
    "popChange = afghanYear.Population\n",
    "popChange = popChange.pct_change()\n",
    "popChange = pd.DataFrame(popChange)\n",
    "popChange.plot()"
   ]
  },
  {
   "cell_type": "markdown",
   "metadata": {},
   "source": [
    "This corresponds to the second derivative. The rate of change of growth increased the most after the Soviet and American\n",
    "Invasion. But, the slope in the 80's is a bit interesting. The graph of the first derative is very negative, but \n",
    "the period was just long. The second derivative's graph is not as dramatic as one would expect in those segments. During the 90's this graph reflects expectations. After the Soviet invasion, population was booming, and it fell after the American invasion. This graph does provide more information. For instance, the the graph startes turning negative at the turn of 2000's. The first derivative's graph only really highlights the negative change around 2005. However, it is clearly suggested in the second derivative's graph. "
   ]
  },
  {
   "cell_type": "code",
   "execution_count": 6,
   "metadata": {},
   "outputs": [
    {
     "data": {
      "text/plain": [
       "<matplotlib.axes._subplots.AxesSubplot at 0x2442c7da988>"
      ]
     },
     "execution_count": 6,
     "metadata": {},
     "output_type": "execute_result"
    },
    {
     "data": {
      "image/png": "[encoded data removed]",
      "text/plain": [
       "<Figure size 432x288 with 1 Axes>"
      ]
     },
     "metadata": {
      "needs_background": "light"
     },
     "output_type": "display_data"
    }
   ],
   "source": [
    "popChangeTwo = popChange.pct_change()\n",
    "popChange = pd.DataFrame(popChangeTwo)\n",
    "popChange.plot()"
   ]
  },
  {
   "cell_type": "markdown",
   "metadata": {},
   "source": [
    "From this analysis, it is clear that the role of invasions are instrumental in understanding the changes in \n",
    "Afghanistan. While population as a whole has consistently increased, this picture is a bit deceptive. \n",
    "By looking at the graph of derivatives, it possible to see more detail. There are clear spikes and dips that are revealed\n",
    "by observing the first derivative. Most notably, during the 80's and mid-2000's. These periods are during invasions when the population dropped the most significantly. However, the second derivative shows more detail. The drop from the American invasion can be detected \n",
    "in the early 2000's and is more accurate as the invasion started in 2001. This can be observed in the first derivative's graph, but it less clear. Through observing the combined graphs of the orginial data and the derivaties, a more complete understanding of the data may be gained. "
   ]
  }
 ],
 "metadata": {
  "kernelspec": {
   "display_name": "Python 3",
   "language": "python",
   "name": "python3"
  },
  "language_info": {
   "codemirror_mode": {
    "name": "ipython",
    "version": 3
   },
   "file_extension": ".py",
   "mimetype": "text/x-python",
   "name": "python",
   "nbconvert_exporter": "python",
   "pygments_lexer": "ipython3",
   "version": "3.7.4"
  }
 },
 "nbformat": 4,
 "nbformat_minor": 2
}
