{
  "nbformat": 4,
  "nbformat_minor": 0,
  "metadata": {
    "colab": {
      "name": "July 14th Tidy Tuesday",
      "provenance": [],
      "authorship_tag": "ABX9TyMOIfeepyn62gurIE2wBqPH",
      "include_colab_link": true
    },
    "kernelspec": {
      "name": "python3",
      "display_name": "Python 3"
    }
  },
  "cells": [
    {
      "cell_type": "markdown",
      "metadata": {
        "id": "view-in-github",
        "colab_type": "text"
      },
      "source": [
        "<a href=\"https://colab.research.google.com/github/rymarinelli/Python/blob/master/July_14th_Tidy_Tuesday.ipynb\" target=\"_parent\"><img src=\"https://colab.research.google.com/assets/colab-badge.svg\" alt=\"Open In Colab\"/></a>"
      ]
    },
    {
      "cell_type": "code",
      "metadata": {
        "id": "cInr1hwwsaqq",
        "colab_type": "code",
        "colab": {
          "base_uri": "https://localhost:8080/",
          "height": 190
        },
        "outputId": "bbb98bf7-6c1f-4d2c-a752-d0d519a595d9"
      },
      "source": [
        "!pip install wget\n",
        "import wget"
      ],
      "execution_count": null,
      "outputs": [
        {
          "output_type": "stream",
          "text": [
            "Collecting wget\n",
            "  Downloading https://files.pythonhosted.org/packages/47/6a/62e288da7bcda82b935ff0c6cfe542970f04e29c756b0e147251b2fb251f/wget-3.2.zip\n",
            "Building wheels for collected packages: wget\n",
            "  Building wheel for wget (setup.py) ... \u001b[?25l\u001b[?25hdone\n",
            "  Created wheel for wget: filename=wget-3.2-cp36-none-any.whl size=9682 sha256=e3e03a9451cbd7cb1afef15d36b81f189ece93036927e4009e47fc856b85d79a\n",
            "  Stored in directory: /root/.cache/pip/wheels/40/15/30/7d8f7cea2902b4db79e3fea550d7d7b85ecb27ef992b618f3f\n",
            "Successfully built wget\n",
            "Installing collected packages: wget\n",
            "Successfully installed wget-3.2\n"
          ],
          "name": "stdout"
        }
      ]
    },
    {
      "cell_type": "code",
      "metadata": {
        "id": "pDvqKbFws9oV",
        "colab_type": "code",
        "colab": {
          "base_uri": "https://localhost:8080/",
          "height": 496
        },
        "outputId": "43f96ce2-f323-4410-9cf5-6e4802ad6abc"
      },
      "source": [
        "!pip install pyspark \n",
        "!pip install plotly-express"
      ],
      "execution_count": null,
      "outputs": [
        {
          "output_type": "stream",
          "text": [
            "Collecting pyspark\n",
            "\u001b[?25l  Downloading https://files.pythonhosted.org/packages/8e/b0/bf9020b56492281b9c9d8aae8f44ff51e1bc91b3ef5a884385cb4e389a40/pyspark-3.0.0.tar.gz (204.7MB)\n",
            "\u001b[K     |████████████████████████████████| 204.7MB 61kB/s \n",
            "\u001b[?25hCollecting py4j==0.10.9\n",
            "\u001b[?25l  Downloading https://files.pythonhosted.org/packages/9e/b6/6a4fb90cd235dc8e265a6a2067f2a2c99f0d91787f06aca4bcf7c23f3f80/py4j-0.10.9-py2.py3-none-any.whl (198kB)\n",
            "\u001b[K     |████████████████████████████████| 204kB 45.5MB/s \n",
            "\u001b[?25hBuilding wheels for collected packages: pyspark\n",
            "  Building wheel for pyspark (setup.py) ... \u001b[?25l\u001b[?25hdone\n",
            "  Created wheel for pyspark: filename=pyspark-3.0.0-py2.py3-none-any.whl size=205044182 sha256=77b1f0104b0c3247a81dd30377cf0e6bf3d0c422234f39533610e53263d4cc4f\n",
            "  Stored in directory: /root/.cache/pip/wheels/57/27/4d/ddacf7143f8d5b76c45c61ee2e43d9f8492fc5a8e78ebd7d37\n",
            "Successfully built pyspark\n",
            "Installing collected packages: py4j, pyspark\n",
            "Successfully installed py4j-0.10.9 pyspark-3.0.0\n",
            "Collecting plotly-express\n",
            "  Downloading https://files.pythonhosted.org/packages/d4/d6/8a2906f51e073a4be80cab35cfa10e7a34853e60f3ed5304ac470852a08d/plotly_express-0.4.1-py2.py3-none-any.whl\n",
            "Requirement already satisfied: statsmodels>=0.9.0 in /usr/local/lib/python3.6/dist-packages (from plotly-express) (0.10.2)\n",
            "Requirement already satisfied: scipy>=0.18 in /usr/local/lib/python3.6/dist-packages (from plotly-express) (1.4.1)\n",
            "Requirement already satisfied: plotly>=4.1.0 in /usr/local/lib/python3.6/dist-packages (from plotly-express) (4.4.1)\n",
            "Requirement already satisfied: numpy>=1.11 in /usr/local/lib/python3.6/dist-packages (from plotly-express) (1.18.5)\n",
            "Requirement already satisfied: pandas>=0.20.0 in /usr/local/lib/python3.6/dist-packages (from plotly-express) (1.0.5)\n",
            "Requirement already satisfied: patsy>=0.5 in /usr/local/lib/python3.6/dist-packages (from plotly-express) (0.5.1)\n",
            "Requirement already satisfied: retrying>=1.3.3 in /usr/local/lib/python3.6/dist-packages (from plotly>=4.1.0->plotly-express) (1.3.3)\n",
            "Requirement already satisfied: six in /usr/local/lib/python3.6/dist-packages (from plotly>=4.1.0->plotly-express) (1.12.0)\n",
            "Requirement already satisfied: pytz>=2017.2 in /usr/local/lib/python3.6/dist-packages (from pandas>=0.20.0->plotly-express) (2018.9)\n",
            "Requirement already satisfied: python-dateutil>=2.6.1 in /usr/local/lib/python3.6/dist-packages (from pandas>=0.20.0->plotly-express) (2.8.1)\n",
            "Installing collected packages: plotly-express\n",
            "Successfully installed plotly-express-0.4.1\n"
          ],
          "name": "stdout"
        }
      ]
    },
    {
      "cell_type": "code",
      "metadata": {
        "id": "h8v5ig1gtgm5",
        "colab_type": "code",
        "colab": {}
      },
      "source": [
        "from pyspark import SparkConf, SparkContext\n",
        "from pyspark.sql import SQLContext\n",
        "import pandas as pd\n",
        "import os\n",
        "import plotly.express as px\n",
        "import numpy as np\n",
        "import plotly"
      ],
      "execution_count": 113,
      "outputs": []
    },
    {
      "cell_type": "code",
      "metadata": {
        "id": "oXF3t4mztnYi",
        "colab_type": "code",
        "colab": {}
      },
      "source": [
        "file = 'https://raw.githubusercontent.com/rfordatascience/tidytuesday/master/data/2020/2020-07-14/astronauts.csv'"
      ],
      "execution_count": null,
      "outputs": []
    },
    {
      "cell_type": "code",
      "metadata": {
        "id": "t0H3LIG6tqNH",
        "colab_type": "code",
        "colab": {
          "base_uri": "https://localhost:8080/",
          "height": 35
        },
        "outputId": "ddc91034-0a50-45e4-dd6b-c97535a9139e"
      },
      "source": [
        "wget.download(file)"
      ],
      "execution_count": null,
      "outputs": [
        {
          "output_type": "execute_result",
          "data": {
            "application/vnd.google.colaboratory.intrinsic": {
              "type": "string"
            },
            "text/plain": [
              "'astronauts.csv'"
            ]
          },
          "metadata": {
            "tags": []
          },
          "execution_count": 9
        }
      ]
    },
    {
      "cell_type": "code",
      "metadata": {
        "id": "eAtxiylXtyMn",
        "colab_type": "code",
        "colab": {}
      },
      "source": [
        "conf = SparkConf().setMaster(\"local\").setAppName(\"My App\")\n",
        "sc = SparkContext(conf = conf)\n"
      ],
      "execution_count": null,
      "outputs": []
    },
    {
      "cell_type": "code",
      "metadata": {
        "id": "tbcFbwBGuB5A",
        "colab_type": "code",
        "colab": {}
      },
      "source": [
        "sqlContext = SQLContext(sc)\n",
        "df = sqlContext.read.csv(\"/content/astronauts.csv\", header = True)"
      ],
      "execution_count": null,
      "outputs": []
    },
    {
      "cell_type": "code",
      "metadata": {
        "id": "Z9yRdqlzuRUL",
        "colab_type": "code",
        "colab": {}
      },
      "source": [
        "df_1 = df.groupBy(\"nationality\",\"year_of_selection\").count()"
      ],
      "execution_count": null,
      "outputs": []
    },
    {
      "cell_type": "code",
      "metadata": {
        "id": "__8AfdX7u50L",
        "colab_type": "code",
        "colab": {}
      },
      "source": [
        "df = df_1.toPandas()"
      ],
      "execution_count": null,
      "outputs": []
    },
    {
      "cell_type": "code",
      "metadata": {
        "id": "DxuNhTLk75uh",
        "colab_type": "code",
        "colab": {
          "base_uri": "https://localhost:8080/",
          "height": 204
        },
        "outputId": "0ee20c64-0806-438c-fa70-5ad16cf65c05"
      },
      "source": [
        "df['year_of_selection'] = pd.to_numeric(df['year_of_selection'], errors='coerce').fillna(0).astype(np.int64)\n",
        "df.filter(df['year_of_selection'] > 0)"
      ],
      "execution_count": null,
      "outputs": [
        {
          "output_type": "execute_result",
          "data": {
            "text/html": [
              "<div>\n",
              "<style scoped>\n",
              "    .dataframe tbody tr th:only-of-type {\n",
              "        vertical-align: middle;\n",
              "    }\n",
              "\n",
              "    .dataframe tbody tr th {\n",
              "        vertical-align: top;\n",
              "    }\n",
              "\n",
              "    .dataframe thead th {\n",
              "        text-align: right;\n",
              "    }\n",
              "</style>\n",
              "<table border=\"1\" class=\"dataframe\">\n",
              "  <thead>\n",
              "    <tr style=\"text-align: right;\">\n",
              "      <th></th>\n",
              "      <th>nationality</th>\n",
              "      <th>year_of_selection</th>\n",
              "      <th>count</th>\n",
              "    </tr>\n",
              "  </thead>\n",
              "  <tbody>\n",
              "    <tr>\n",
              "      <th>0</th>\n",
              "      <td>U.S.S.R/Russia</td>\n",
              "      <td>1965</td>\n",
              "      <td>10</td>\n",
              "    </tr>\n",
              "    <tr>\n",
              "      <th>1</th>\n",
              "      <td>Japan</td>\n",
              "      <td>1992</td>\n",
              "      <td>4</td>\n",
              "    </tr>\n",
              "    <tr>\n",
              "      <th>2</th>\n",
              "      <td>U.S.</td>\n",
              "      <td>1962</td>\n",
              "      <td>25</td>\n",
              "    </tr>\n",
              "    <tr>\n",
              "      <th>3</th>\n",
              "      <td>Hungry</td>\n",
              "      <td>1978</td>\n",
              "      <td>1</td>\n",
              "    </tr>\n",
              "    <tr>\n",
              "      <th>4</th>\n",
              "      <td>Austria</td>\n",
              "      <td>1989</td>\n",
              "      <td>1</td>\n",
              "    </tr>\n",
              "  </tbody>\n",
              "</table>\n",
              "</div>"
            ],
            "text/plain": [
              "      nationality  year_of_selection  count\n",
              "0  U.S.S.R/Russia               1965     10\n",
              "1           Japan               1992      4\n",
              "2            U.S.               1962     25\n",
              "3          Hungry               1978      1\n",
              "4         Austria               1989      1"
            ]
          },
          "metadata": {
            "tags": []
          },
          "execution_count": 59
        }
      ]
    },
    {
      "cell_type": "code",
      "metadata": {
        "id": "mPBjg805ufvQ",
        "colab_type": "code",
        "colab": {}
      },
      "source": [
        "#fig = px.line(df, x=\"year_of_selection\", y = \"count\", line_group= 'nationality',  color = 'nationality', \n",
        " #             range_x=[1980, 2018], range_y = [0,15])\n",
        "fig = px.bar(df, x='year_of_selection', y = 'count', range_x=[1980, 2018], color = 'nationality', range_y = [0,105],\n",
        "             title = \"Number and Country of Origin of Astronauts\", labels={\n",
        "                     \"year_of_selection\":\"Years\",\n",
        "                     \"count\": \"Number of Astronauts\",\n",
        "                     \"nationality\":\"Countries\"\n",
        "                 }).for_each_trace(lambda t: t.update(name=t.name.replace(\"=\",\":\")))\n",
        "\n"
      ],
      "execution_count": 115,
      "outputs": []
    },
    {
      "cell_type": "code",
      "metadata": {
        "id": "moLSCbtpcaWQ",
        "colab_type": "code",
        "colab": {
          "base_uri": "https://localhost:8080/",
          "height": 542
        },
        "outputId": "bb9da6f3-1641-4f71-c0d4-795655a4d5d2"
      },
      "source": [
        "fig.update_layout(\n",
        "    font_family=\"Times New Roman\",\n",
        "    font_color=\"blue\",\n",
        "    font_size= 14,\n",
        "    title_font_family=\"Times New Roman\",\n",
        "    title_font_size=16,\n",
        ")"
      ],
      "execution_count": 133,
      "outputs": [
        {
          "output_type": "display_data",
          "data": {
            "text/html": [
              "<html>\n",
              "<head><meta charset=\"utf-8\" /></head>\n",
              "<body>\n",
              "    <div>\n",
              "            <script src=\"https://cdnjs.cloudflare.com/ajax/libs/mathjax/2.7.5/MathJax.js?config=TeX-AMS-MML_SVG\"></script><script type=\"text/javascript\">if (window.MathJax) {MathJax.Hub.Config({SVG: {font: \"STIX-Web\"}});}</script>\n",
              "                <script type=\"text/javascript\">window.PlotlyConfig = {MathJaxConfig: 'local'};</script>\n",
              "        <script src=\"https://cdn.plot.ly/plotly-latest.min.js\"></script>    \n",
              "            <div id=\"7ab01d10-3713-489b-8967-4e48f3ea875c\" class=\"plotly-graph-div\" style=\"height:525px; width:100%;\"></div>\n",
              "            <script type=\"text/javascript\">\n",
              "                \n",
              "                    window.PLOTLYENV=window.PLOTLYENV || {};\n",
              "                    \n",
              "                if (document.getElementById(\"7ab01d10-3713-489b-8967-4e48f3ea875c\")) {\n",
              "                    Plotly.newPlot(\n",
              "                        '7ab01d10-3713-489b-8967-4e48f3ea875c',\n",
              "                        [{\"alignmentgroup\": \"True\", \"hoverlabel\": {\"namelength\": 0}, \"hovertemplate\": \"Countries=U.S.S.R/Russia<br>Years=%{x}<br>Number of Astronauts=%{y}\", \"legendgroup\": \"Countries=U.S.S.R/Russia\", \"marker\": {\"color\": \"#636efa\"}, \"name\": \"Countries:U.S.S.R/Russia\", \"offsetgroup\": \"Countries=U.S.S.R/Russia\", \"orientation\": \"v\", \"showlegend\": true, \"textposition\": \"auto\", \"type\": \"bar\", \"x\": [1965, 1968, 1970, 1998, 2010, 1983, 1991, 1978, 1985, 1960, 1964, 1992, 1987, 1994, 1963, 1976, 1997, 2003, 1980, 2006, 1990, 1972, 1977, 1973, 1989, 1967, 1984, 1996, 1962], \"xaxis\": \"x\", \"y\": [10, 20, 12, 2, 1, 1, 1, 19, 13, 21, 4, 5, 18, 3, 11, 13, 24, 14, 2, 9, 7, 4, 2, 13, 20, 8, 5, 10, 1], \"yaxis\": \"y\"}, {\"alignmentgroup\": \"True\", \"hoverlabel\": {\"namelength\": 0}, \"hovertemplate\": \"Countries=Japan<br>Years=%{x}<br>Number of Astronauts=%{y}\", \"legendgroup\": \"Countries=Japan\", \"marker\": {\"color\": \"#EF553B\"}, \"name\": \"Countries:Japan\", \"offsetgroup\": \"Countries=Japan\", \"orientation\": \"v\", \"showlegend\": true, \"textposition\": \"auto\", \"type\": \"bar\", \"x\": [1992, 1985, 1999, 1989, 1996, 2009], \"xaxis\": \"x\", \"y\": [4, 6, 4, 1, 2, 3], \"yaxis\": \"y\"}, {\"alignmentgroup\": \"True\", \"hoverlabel\": {\"namelength\": 0}, \"hovertemplate\": \"Countries=U.S.<br>Years=%{x}<br>Number of Astronauts=%{y}\", \"legendgroup\": \"Countries=U.S.\", \"marker\": {\"color\": \"#00cc96\"}, \"name\": \"Countries:U.S.\", \"offsetgroup\": \"Countries=U.S.\", \"orientation\": \"v\", \"showlegend\": true, \"textposition\": \"auto\", \"type\": \"bar\", \"x\": [1962, 2013, 1995, 1983, 1996, 1987, 2004, 2009, 1966, 1963, 1967, 1984, 1998, 1978, 1982, 1985, 0, 1979, 2006, 1969, 2000, 1990, 1980, 1992, 1959, 1994, 1991, 1965, 1988], \"xaxis\": \"x\", \"y\": [25, 6, 38, 6, 72, 53, 19, 8, 28, 18, 15, 60, 42, 105, 3, 47, 2, 1, 3, 13, 36, 88, 60, 65, 11, 23, 1, 5, 1], \"yaxis\": \"y\"}, {\"alignmentgroup\": \"True\", \"hoverlabel\": {\"namelength\": 0}, \"hovertemplate\": \"Countries=Hungry<br>Years=%{x}<br>Number of Astronauts=%{y}\", \"legendgroup\": \"Countries=Hungry\", \"marker\": {\"color\": \"#ab63fa\"}, \"name\": \"Countries:Hungry\", \"offsetgroup\": \"Countries=Hungry\", \"orientation\": \"v\", \"showlegend\": true, \"textposition\": \"auto\", \"type\": \"bar\", \"x\": [1978], \"xaxis\": \"x\", \"y\": [1], \"yaxis\": \"y\"}, {\"alignmentgroup\": \"True\", \"hoverlabel\": {\"namelength\": 0}, \"hovertemplate\": \"Countries=Austria<br>Years=%{x}<br>Number of Astronauts=%{y}\", \"legendgroup\": \"Countries=Austria\", \"marker\": {\"color\": \"#FFA15A\"}, \"name\": \"Countries:Austria\", \"offsetgroup\": \"Countries=Austria\", \"orientation\": \"v\", \"showlegend\": true, \"textposition\": \"auto\", \"type\": \"bar\", \"x\": [1989], \"xaxis\": \"x\", \"y\": [1], \"yaxis\": \"y\"}, {\"alignmentgroup\": \"True\", \"hoverlabel\": {\"namelength\": 0}, \"hovertemplate\": \"Countries=China<br>Years=%{x}<br>Number of Astronauts=%{y}\", \"legendgroup\": \"Countries=China\", \"marker\": {\"color\": \"#19d3f3\"}, \"name\": \"Countries:China\", \"offsetgroup\": \"Countries=China\", \"orientation\": \"v\", \"showlegend\": true, \"textposition\": \"auto\", \"type\": \"bar\", \"x\": [2005, 2013, 2003, 2010, 2008, 2012], \"xaxis\": \"x\", \"y\": [3, 2, 1, 1, 5, 2], \"yaxis\": \"y\"}, {\"alignmentgroup\": \"True\", \"hoverlabel\": {\"namelength\": 0}, \"hovertemplate\": \"Countries=Germany<br>Years=%{x}<br>Number of Astronauts=%{y}\", \"legendgroup\": \"Countries=Germany\", \"marker\": {\"color\": \"#FF6692\"}, \"name\": \"Countries:Germany\", \"offsetgroup\": \"Countries=Germany\", \"orientation\": \"v\", \"showlegend\": true, \"textposition\": \"auto\", \"type\": \"bar\", \"x\": [1987, 1990, 1982, 2009, 1976, 1978, 1992], \"xaxis\": \"x\", \"y\": [4, 2, 2, 2, 1, 3, 2], \"yaxis\": \"y\"}, {\"alignmentgroup\": \"True\", \"hoverlabel\": {\"namelength\": 0}, \"hovertemplate\": \"Countries=Vietnam<br>Years=%{x}<br>Number of Astronauts=%{y}\", \"legendgroup\": \"Countries=Vietnam\", \"marker\": {\"color\": \"#B6E880\"}, \"name\": \"Countries:Vietnam\", \"offsetgroup\": \"Countries=Vietnam\", \"orientation\": \"v\", \"showlegend\": true, \"textposition\": \"auto\", \"type\": \"bar\", \"x\": [1979], \"xaxis\": \"x\", \"y\": [1], \"yaxis\": \"y\"}, {\"alignmentgroup\": \"True\", \"hoverlabel\": {\"namelength\": 0}, \"hovertemplate\": \"Countries=Sweden<br>Years=%{x}<br>Number of Astronauts=%{y}\", \"legendgroup\": \"Countries=Sweden\", \"marker\": {\"color\": \"#FF97FF\"}, \"name\": \"Countries:Sweden\", \"offsetgroup\": \"Countries=Sweden\", \"orientation\": \"v\", \"showlegend\": true, \"textposition\": \"auto\", \"type\": \"bar\", \"x\": [1992], \"xaxis\": \"x\", \"y\": [2], \"yaxis\": \"y\"}, {\"alignmentgroup\": \"True\", \"hoverlabel\": {\"namelength\": 0}, \"hovertemplate\": \"Countries=Israel<br>Years=%{x}<br>Number of Astronauts=%{y}\", \"legendgroup\": \"Countries=Israel\", \"marker\": {\"color\": \"#FECB52\"}, \"name\": \"Countries:Israel\", \"offsetgroup\": \"Countries=Israel\", \"orientation\": \"v\", \"showlegend\": true, \"textposition\": \"auto\", \"type\": \"bar\", \"x\": [1996], \"xaxis\": \"x\", \"y\": [1], \"yaxis\": \"y\"}, {\"alignmentgroup\": \"True\", \"hoverlabel\": {\"namelength\": 0}, \"hovertemplate\": \"Countries=Republic of South Africa<br>Years=%{x}<br>Number of Astronauts=%{y}\", \"legendgroup\": \"Countries=Republic of South Africa\", \"marker\": {\"color\": \"#636efa\"}, \"name\": \"Countries:Republic of South Africa\", \"offsetgroup\": \"Countries=Republic of South Africa\", \"orientation\": \"v\", \"showlegend\": true, \"textposition\": \"auto\", \"type\": \"bar\", \"x\": [2001], \"xaxis\": \"x\", \"y\": [1], \"yaxis\": \"y\"}, {\"alignmentgroup\": \"True\", \"hoverlabel\": {\"namelength\": 0}, \"hovertemplate\": \"Countries=Syria<br>Years=%{x}<br>Number of Astronauts=%{y}\", \"legendgroup\": \"Countries=Syria\", \"marker\": {\"color\": \"#EF553B\"}, \"name\": \"Countries:Syria\", \"offsetgroup\": \"Countries=Syria\", \"orientation\": \"v\", \"showlegend\": true, \"textposition\": \"auto\", \"type\": \"bar\", \"x\": [1985], \"xaxis\": \"x\", \"y\": [1], \"yaxis\": \"y\"}, {\"alignmentgroup\": \"True\", \"hoverlabel\": {\"namelength\": 0}, \"hovertemplate\": \"Countries=U.K./U.S.<br>Years=%{x}<br>Number of Astronauts=%{y}\", \"legendgroup\": \"Countries=U.K./U.S.\", \"marker\": {\"color\": \"#00cc96\"}, \"name\": \"Countries:U.K./U.S.\", \"offsetgroup\": \"Countries=U.K./U.S.\", \"orientation\": \"v\", \"showlegend\": true, \"textposition\": \"auto\", \"type\": \"bar\", \"x\": [2007, 1996, 1998], \"xaxis\": \"x\", \"y\": [1, 3, 2], \"yaxis\": \"y\"}, {\"alignmentgroup\": \"True\", \"hoverlabel\": {\"namelength\": 0}, \"hovertemplate\": \"Countries=U.K.<br>Years=%{x}<br>Number of Astronauts=%{y}\", \"legendgroup\": \"Countries=U.K.\", \"marker\": {\"color\": \"#ab63fa\"}, \"name\": \"Countries:U.K.\", \"offsetgroup\": \"Countries=U.K.\", \"orientation\": \"v\", \"showlegend\": true, \"textposition\": \"auto\", \"type\": \"bar\", \"x\": [1989, 2009], \"xaxis\": \"x\", \"y\": [1, 1], \"yaxis\": \"y\"}, {\"alignmentgroup\": \"True\", \"hoverlabel\": {\"namelength\": 0}, \"hovertemplate\": \"Countries=Czechoslovakia<br>Years=%{x}<br>Number of Astronauts=%{y}\", \"legendgroup\": \"Countries=Czechoslovakia\", \"marker\": {\"color\": \"#FFA15A\"}, \"name\": \"Countries:Czechoslovakia\", \"offsetgroup\": \"Countries=Czechoslovakia\", \"orientation\": \"v\", \"showlegend\": true, \"textposition\": \"auto\", \"type\": \"bar\", \"x\": [1976], \"xaxis\": \"x\", \"y\": [1], \"yaxis\": \"y\"}, {\"alignmentgroup\": \"True\", \"hoverlabel\": {\"namelength\": 0}, \"hovertemplate\": \"Countries=Spain<br>Years=%{x}<br>Number of Astronauts=%{y}\", \"legendgroup\": \"Countries=Spain\", \"marker\": {\"color\": \"#19d3f3\"}, \"name\": \"Countries:Spain\", \"offsetgroup\": \"Countries=Spain\", \"orientation\": \"v\", \"showlegend\": true, \"textposition\": \"auto\", \"type\": \"bar\", \"x\": [1992], \"xaxis\": \"x\", \"y\": [2], \"yaxis\": \"y\"}, {\"alignmentgroup\": \"True\", \"hoverlabel\": {\"namelength\": 0}, \"hovertemplate\": \"Countries=Netherland<br>Years=%{x}<br>Number of Astronauts=%{y}\", \"legendgroup\": \"Countries=Netherland\", \"marker\": {\"color\": \"#FF6692\"}, \"name\": \"Countries:Netherland\", \"offsetgroup\": \"Countries=Netherland\", \"orientation\": \"v\", \"showlegend\": true, \"textposition\": \"auto\", \"type\": \"bar\", \"x\": [1978, 1998], \"xaxis\": \"x\", \"y\": [1, 2], \"yaxis\": \"y\"}, {\"alignmentgroup\": \"True\", \"hoverlabel\": {\"namelength\": 0}, \"hovertemplate\": \"Countries=France<br>Years=%{x}<br>Number of Astronauts=%{y}\", \"legendgroup\": \"Countries=France\", \"marker\": {\"color\": \"#B6E880\"}, \"name\": \"Countries:France\", \"offsetgroup\": \"Countries=France\", \"orientation\": \"v\", \"showlegend\": true, \"textposition\": \"auto\", \"type\": \"bar\", \"x\": [1985, 1980, 2009, 1990], \"xaxis\": \"x\", \"y\": [10, 4, 1, 3], \"yaxis\": \"y\"}, {\"alignmentgroup\": \"True\", \"hoverlabel\": {\"namelength\": 0}, \"hovertemplate\": \"Countries=Italy<br>Years=%{x}<br>Number of Astronauts=%{y}\", \"legendgroup\": \"Countries=Italy\", \"marker\": {\"color\": \"#FF97FF\"}, \"name\": \"Countries:Italy\", \"offsetgroup\": \"Countries=Italy\", \"orientation\": \"v\", \"showlegend\": true, \"textposition\": \"auto\", \"type\": \"bar\", \"x\": [1992, 1998, 1996, 2009], \"xaxis\": \"x\", \"y\": [1, 7, 2, 3], \"yaxis\": \"y\"}, {\"alignmentgroup\": \"True\", \"hoverlabel\": {\"namelength\": 0}, \"hovertemplate\": \"Countries=Canada<br>Years=%{x}<br>Number of Astronauts=%{y}\", \"legendgroup\": \"Countries=Canada\", \"marker\": {\"color\": \"#FECB52\"}, \"name\": \"Countries:Canada\", \"offsetgroup\": \"Countries=Canada\", \"orientation\": \"v\", \"showlegend\": true, \"textposition\": \"auto\", \"type\": \"bar\", \"x\": [1992, 2009, 1983], \"xaxis\": \"x\", \"y\": [7, 2, 9], \"yaxis\": \"y\"}, {\"alignmentgroup\": \"True\", \"hoverlabel\": {\"namelength\": 0}, \"hovertemplate\": \"Countries=Afghanistan<br>Years=%{x}<br>Number of Astronauts=%{y}\", \"legendgroup\": \"Countries=Afghanistan\", \"marker\": {\"color\": \"#636efa\"}, \"name\": \"Countries:Afghanistan\", \"offsetgroup\": \"Countries=Afghanistan\", \"orientation\": \"v\", \"showlegend\": true, \"textposition\": \"auto\", \"type\": \"bar\", \"x\": [1988], \"xaxis\": \"x\", \"y\": [1], \"yaxis\": \"y\"}, {\"alignmentgroup\": \"True\", \"hoverlabel\": {\"namelength\": 0}, \"hovertemplate\": \"Countries=Denmark<br>Years=%{x}<br>Number of Astronauts=%{y}\", \"legendgroup\": \"Countries=Denmark\", \"marker\": {\"color\": \"#EF553B\"}, \"name\": \"Countries:Denmark\", \"offsetgroup\": \"Countries=Denmark\", \"orientation\": \"v\", \"showlegend\": true, \"textposition\": \"auto\", \"type\": \"bar\", \"x\": [2009], \"xaxis\": \"x\", \"y\": [1], \"yaxis\": \"y\"}, {\"alignmentgroup\": \"True\", \"hoverlabel\": {\"namelength\": 0}, \"hovertemplate\": \"Countries=Saudi Arabia<br>Years=%{x}<br>Number of Astronauts=%{y}\", \"legendgroup\": \"Countries=Saudi Arabia\", \"marker\": {\"color\": \"#00cc96\"}, \"name\": \"Countries:Saudi Arabia\", \"offsetgroup\": \"Countries=Saudi Arabia\", \"orientation\": \"v\", \"showlegend\": true, \"textposition\": \"auto\", \"type\": \"bar\", \"x\": [1985], \"xaxis\": \"x\", \"y\": [1], \"yaxis\": \"y\"}, {\"alignmentgroup\": \"True\", \"hoverlabel\": {\"namelength\": 0}, \"hovertemplate\": \"Countries=Korea<br>Years=%{x}<br>Number of Astronauts=%{y}\", \"legendgroup\": \"Countries=Korea\", \"marker\": {\"color\": \"#ab63fa\"}, \"name\": \"Countries:Korea\", \"offsetgroup\": \"Countries=Korea\", \"orientation\": \"v\", \"showlegend\": true, \"textposition\": \"auto\", \"type\": \"bar\", \"x\": [2006], \"xaxis\": \"x\", \"y\": [1], \"yaxis\": \"y\"}, {\"alignmentgroup\": \"True\", \"hoverlabel\": {\"namelength\": 0}, \"hovertemplate\": \"Countries=Poland<br>Years=%{x}<br>Number of Astronauts=%{y}\", \"legendgroup\": \"Countries=Poland\", \"marker\": {\"color\": \"#FFA15A\"}, \"name\": \"Countries:Poland\", \"offsetgroup\": \"Countries=Poland\", \"orientation\": \"v\", \"showlegend\": true, \"textposition\": \"auto\", \"type\": \"bar\", \"x\": [1976], \"xaxis\": \"x\", \"y\": [1], \"yaxis\": \"y\"}, {\"alignmentgroup\": \"True\", \"hoverlabel\": {\"namelength\": 0}, \"hovertemplate\": \"Countries=Brazil<br>Years=%{x}<br>Number of Astronauts=%{y}\", \"legendgroup\": \"Countries=Brazil\", \"marker\": {\"color\": \"#19d3f3\"}, \"name\": \"Countries:Brazil\", \"offsetgroup\": \"Countries=Brazil\", \"orientation\": \"v\", \"showlegend\": true, \"textposition\": \"auto\", \"type\": \"bar\", \"x\": [1998], \"xaxis\": \"x\", \"y\": [1], \"yaxis\": \"y\"}, {\"alignmentgroup\": \"True\", \"hoverlabel\": {\"namelength\": 0}, \"hovertemplate\": \"Countries=Cuba<br>Years=%{x}<br>Number of Astronauts=%{y}\", \"legendgroup\": \"Countries=Cuba\", \"marker\": {\"color\": \"#FF6692\"}, \"name\": \"Countries:Cuba\", \"offsetgroup\": \"Countries=Cuba\", \"orientation\": \"v\", \"showlegend\": true, \"textposition\": \"auto\", \"type\": \"bar\", \"x\": [1978], \"xaxis\": \"x\", \"y\": [1], \"yaxis\": \"y\"}, {\"alignmentgroup\": \"True\", \"hoverlabel\": {\"namelength\": 0}, \"hovertemplate\": \"Countries=Australia<br>Years=%{x}<br>Number of Astronauts=%{y}\", \"legendgroup\": \"Countries=Australia\", \"marker\": {\"color\": \"#B6E880\"}, \"name\": \"Countries:Australia\", \"offsetgroup\": \"Countries=Australia\", \"orientation\": \"v\", \"showlegend\": true, \"textposition\": \"auto\", \"type\": \"bar\", \"x\": [1992], \"xaxis\": \"x\", \"y\": [4], \"yaxis\": \"y\"}, {\"alignmentgroup\": \"True\", \"hoverlabel\": {\"namelength\": 0}, \"hovertemplate\": \"Countries=U.S.S.R/Ukraine<br>Years=%{x}<br>Number of Astronauts=%{y}\", \"legendgroup\": \"Countries=U.S.S.R/Ukraine\", \"marker\": {\"color\": \"#FF97FF\"}, \"name\": \"Countries:U.S.S.R/Ukraine\", \"offsetgroup\": \"Countries=U.S.S.R/Ukraine\", \"orientation\": \"v\", \"showlegend\": true, \"textposition\": \"auto\", \"type\": \"bar\", \"x\": [1976], \"xaxis\": \"x\", \"y\": [1], \"yaxis\": \"y\"}, {\"alignmentgroup\": \"True\", \"hoverlabel\": {\"namelength\": 0}, \"hovertemplate\": \"Countries=Bulgaria<br>Years=%{x}<br>Number of Astronauts=%{y}\", \"legendgroup\": \"Countries=Bulgaria\", \"marker\": {\"color\": \"#FECB52\"}, \"name\": \"Countries:Bulgaria\", \"offsetgroup\": \"Countries=Bulgaria\", \"orientation\": \"v\", \"showlegend\": true, \"textposition\": \"auto\", \"type\": \"bar\", \"x\": [1978], \"xaxis\": \"x\", \"y\": [2], \"yaxis\": \"y\"}, {\"alignmentgroup\": \"True\", \"hoverlabel\": {\"namelength\": 0}, \"hovertemplate\": \"Countries=Belgium<br>Years=%{x}<br>Number of Astronauts=%{y}\", \"legendgroup\": \"Countries=Belgium\", \"marker\": {\"color\": \"#636efa\"}, \"name\": \"Countries:Belgium\", \"offsetgroup\": \"Countries=Belgium\", \"orientation\": \"v\", \"showlegend\": true, \"textposition\": \"auto\", \"type\": \"bar\", \"x\": [1998, 1985], \"xaxis\": \"x\", \"y\": [2, 1], \"yaxis\": \"y\"}, {\"alignmentgroup\": \"True\", \"hoverlabel\": {\"namelength\": 0}, \"hovertemplate\": \"Countries=Slovakia<br>Years=%{x}<br>Number of Astronauts=%{y}\", \"legendgroup\": \"Countries=Slovakia\", \"marker\": {\"color\": \"#EF553B\"}, \"name\": \"Countries:Slovakia\", \"offsetgroup\": \"Countries=Slovakia\", \"orientation\": \"v\", \"showlegend\": true, \"textposition\": \"auto\", \"type\": \"bar\", \"x\": [1998], \"xaxis\": \"x\", \"y\": [1], \"yaxis\": \"y\"}, {\"alignmentgroup\": \"True\", \"hoverlabel\": {\"namelength\": 0}, \"hovertemplate\": \"Countries=STS-3<br>Years=%{x}<br>Number of Astronauts=%{y}\", \"legendgroup\": \"Countries=STS-3\", \"marker\": {\"color\": \"#00cc96\"}, \"name\": \"Countries:STS-3\", \"offsetgroup\": \"Countries=STS-3\", \"orientation\": \"v\", \"showlegend\": true, \"textposition\": \"auto\", \"type\": \"bar\", \"x\": [192], \"xaxis\": \"x\", \"y\": [1], \"yaxis\": \"y\"}, {\"alignmentgroup\": \"True\", \"hoverlabel\": {\"namelength\": 0}, \"hovertemplate\": \"Countries=UAE<br>Years=%{x}<br>Number of Astronauts=%{y}\", \"legendgroup\": \"Countries=UAE\", \"marker\": {\"color\": \"#ab63fa\"}, \"name\": \"Countries:UAE\", \"offsetgroup\": \"Countries=UAE\", \"orientation\": \"v\", \"showlegend\": true, \"textposition\": \"auto\", \"type\": \"bar\", \"x\": [2018], \"xaxis\": \"x\", \"y\": [1], \"yaxis\": \"y\"}, {\"alignmentgroup\": \"True\", \"hoverlabel\": {\"namelength\": 0}, \"hovertemplate\": \"Countries=Mongolia<br>Years=%{x}<br>Number of Astronauts=%{y}\", \"legendgroup\": \"Countries=Mongolia\", \"marker\": {\"color\": \"#FFA15A\"}, \"name\": \"Countries:Mongolia\", \"offsetgroup\": \"Countries=Mongolia\", \"orientation\": \"v\", \"showlegend\": true, \"textposition\": \"auto\", \"type\": \"bar\", \"x\": [1978], \"xaxis\": \"x\", \"y\": [1], \"yaxis\": \"y\"}, {\"alignmentgroup\": \"True\", \"hoverlabel\": {\"namelength\": 0}, \"hovertemplate\": \"Countries=Romania<br>Years=%{x}<br>Number of Astronauts=%{y}\", \"legendgroup\": \"Countries=Romania\", \"marker\": {\"color\": \"#19d3f3\"}, \"name\": \"Countries:Romania\", \"offsetgroup\": \"Countries=Romania\", \"orientation\": \"v\", \"showlegend\": true, \"textposition\": \"auto\", \"type\": \"bar\", \"x\": [1978], \"xaxis\": \"x\", \"y\": [1], \"yaxis\": \"y\"}, {\"alignmentgroup\": \"True\", \"hoverlabel\": {\"namelength\": 0}, \"hovertemplate\": \"Countries=STS-51-F<br>Years=%{x}<br>Number of Astronauts=%{y}\", \"legendgroup\": \"Countries=STS-51-F\", \"marker\": {\"color\": \"#FF6692\"}, \"name\": \"Countries:STS-51-F\", \"offsetgroup\": \"Countries=STS-51-F\", \"orientation\": \"v\", \"showlegend\": true, \"textposition\": \"auto\", \"type\": \"bar\", \"x\": [190], \"xaxis\": \"x\", \"y\": [1], \"yaxis\": \"y\"}, {\"alignmentgroup\": \"True\", \"hoverlabel\": {\"namelength\": 0}, \"hovertemplate\": \"Countries=Mexico<br>Years=%{x}<br>Number of Astronauts=%{y}\", \"legendgroup\": \"Countries=Mexico\", \"marker\": {\"color\": \"#B6E880\"}, \"name\": \"Countries:Mexico\", \"offsetgroup\": \"Countries=Mexico\", \"orientation\": \"v\", \"showlegend\": true, \"textposition\": \"auto\", \"type\": \"bar\", \"x\": [1985], \"xaxis\": \"x\", \"y\": [1], \"yaxis\": \"y\"}, {\"alignmentgroup\": \"True\", \"hoverlabel\": {\"namelength\": 0}, \"hovertemplate\": \"Countries=Kazakhstan<br>Years=%{x}<br>Number of Astronauts=%{y}\", \"legendgroup\": \"Countries=Kazakhstan\", \"marker\": {\"color\": \"#FF97FF\"}, \"name\": \"Countries:Kazakhstan\", \"offsetgroup\": \"Countries=Kazakhstan\", \"orientation\": \"v\", \"showlegend\": true, \"textposition\": \"auto\", \"type\": \"bar\", \"x\": [2012], \"xaxis\": \"x\", \"y\": [1], \"yaxis\": \"y\"}, {\"alignmentgroup\": \"True\", \"hoverlabel\": {\"namelength\": 0}, \"hovertemplate\": \"Countries=India<br>Years=%{x}<br>Number of Astronauts=%{y}\", \"legendgroup\": \"Countries=India\", \"marker\": {\"color\": \"#FECB52\"}, \"name\": \"Countries:India\", \"offsetgroup\": \"Countries=India\", \"orientation\": \"v\", \"showlegend\": true, \"textposition\": \"auto\", \"type\": \"bar\", \"x\": [1982], \"xaxis\": \"x\", \"y\": [1], \"yaxis\": \"y\"}, {\"alignmentgroup\": \"True\", \"hoverlabel\": {\"namelength\": 0}, \"hovertemplate\": \"Countries=Malysia<br>Years=%{x}<br>Number of Astronauts=%{y}\", \"legendgroup\": \"Countries=Malysia\", \"marker\": {\"color\": \"#636efa\"}, \"name\": \"Countries:Malysia\", \"offsetgroup\": \"Countries=Malysia\", \"orientation\": \"v\", \"showlegend\": true, \"textposition\": \"auto\", \"type\": \"bar\", \"x\": [2006], \"xaxis\": \"x\", \"y\": [1], \"yaxis\": \"y\"}, {\"alignmentgroup\": \"True\", \"hoverlabel\": {\"namelength\": 0}, \"hovertemplate\": \"Countries=Switzerland<br>Years=%{x}<br>Number of Astronauts=%{y}\", \"legendgroup\": \"Countries=Switzerland\", \"marker\": {\"color\": \"#EF553B\"}, \"name\": \"Countries:Switzerland\", \"offsetgroup\": \"Countries=Switzerland\", \"orientation\": \"v\", \"showlegend\": true, \"textposition\": \"auto\", \"type\": \"bar\", \"x\": [1978], \"xaxis\": \"x\", \"y\": [4], \"yaxis\": \"y\"}],\n",
              "                        {\"barmode\": \"relative\", \"font\": {\"color\": \"blue\", \"family\": \"Times New Roman\", \"size\": 14}, \"legend\": {\"tracegroupgap\": 0}, \"template\": {\"data\": {\"bar\": [{\"error_x\": {\"color\": \"#2a3f5f\"}, \"error_y\": {\"color\": \"#2a3f5f\"}, \"marker\": {\"line\": {\"color\": \"#E5ECF6\", \"width\": 0.5}}, \"type\": \"bar\"}], \"barpolar\": [{\"marker\": {\"line\": {\"color\": \"#E5ECF6\", \"width\": 0.5}}, \"type\": \"barpolar\"}], \"carpet\": [{\"aaxis\": {\"endlinecolor\": \"#2a3f5f\", \"gridcolor\": \"white\", \"linecolor\": \"white\", \"minorgridcolor\": \"white\", \"startlinecolor\": \"#2a3f5f\"}, \"baxis\": {\"endlinecolor\": \"#2a3f5f\", \"gridcolor\": \"white\", \"linecolor\": \"white\", \"minorgridcolor\": \"white\", \"startlinecolor\": \"#2a3f5f\"}, \"type\": \"carpet\"}], \"choropleth\": [{\"colorbar\": {\"outlinewidth\": 0, \"ticks\": \"\"}, \"type\": \"choropleth\"}], \"contour\": [{\"colorbar\": {\"outlinewidth\": 0, \"ticks\": \"\"}, \"colorscale\": [[0.0, \"#0d0887\"], [0.1111111111111111, \"#46039f\"], [0.2222222222222222, \"#7201a8\"], [0.3333333333333333, \"#9c179e\"], [0.4444444444444444, \"#bd3786\"], [0.5555555555555556, \"#d8576b\"], [0.6666666666666666, \"#ed7953\"], [0.7777777777777778, \"#fb9f3a\"], [0.8888888888888888, \"#fdca26\"], [1.0, \"#f0f921\"]], \"type\": \"contour\"}], \"contourcarpet\": [{\"colorbar\": {\"outlinewidth\": 0, \"ticks\": \"\"}, \"type\": \"contourcarpet\"}], \"heatmap\": [{\"colorbar\": {\"outlinewidth\": 0, \"ticks\": \"\"}, \"colorscale\": [[0.0, \"#0d0887\"], [0.1111111111111111, \"#46039f\"], [0.2222222222222222, \"#7201a8\"], [0.3333333333333333, \"#9c179e\"], [0.4444444444444444, \"#bd3786\"], [0.5555555555555556, \"#d8576b\"], [0.6666666666666666, \"#ed7953\"], [0.7777777777777778, \"#fb9f3a\"], [0.8888888888888888, \"#fdca26\"], [1.0, \"#f0f921\"]], \"type\": \"heatmap\"}], \"heatmapgl\": [{\"colorbar\": {\"outlinewidth\": 0, \"ticks\": \"\"}, \"colorscale\": [[0.0, \"#0d0887\"], [0.1111111111111111, \"#46039f\"], [0.2222222222222222, \"#7201a8\"], [0.3333333333333333, \"#9c179e\"], [0.4444444444444444, \"#bd3786\"], [0.5555555555555556, \"#d8576b\"], [0.6666666666666666, \"#ed7953\"], [0.7777777777777778, \"#fb9f3a\"], [0.8888888888888888, \"#fdca26\"], [1.0, \"#f0f921\"]], \"type\": \"heatmapgl\"}], \"histogram\": [{\"marker\": {\"colorbar\": {\"outlinewidth\": 0, \"ticks\": \"\"}}, \"type\": \"histogram\"}], \"histogram2d\": [{\"colorbar\": {\"outlinewidth\": 0, \"ticks\": \"\"}, \"colorscale\": [[0.0, \"#0d0887\"], [0.1111111111111111, \"#46039f\"], [0.2222222222222222, \"#7201a8\"], [0.3333333333333333, \"#9c179e\"], [0.4444444444444444, \"#bd3786\"], [0.5555555555555556, \"#d8576b\"], [0.6666666666666666, \"#ed7953\"], [0.7777777777777778, \"#fb9f3a\"], [0.8888888888888888, \"#fdca26\"], [1.0, \"#f0f921\"]], \"type\": \"histogram2d\"}], \"histogram2dcontour\": [{\"colorbar\": {\"outlinewidth\": 0, \"ticks\": \"\"}, \"colorscale\": [[0.0, \"#0d0887\"], [0.1111111111111111, \"#46039f\"], [0.2222222222222222, \"#7201a8\"], [0.3333333333333333, \"#9c179e\"], [0.4444444444444444, \"#bd3786\"], [0.5555555555555556, \"#d8576b\"], [0.6666666666666666, \"#ed7953\"], [0.7777777777777778, \"#fb9f3a\"], [0.8888888888888888, \"#fdca26\"], [1.0, \"#f0f921\"]], \"type\": \"histogram2dcontour\"}], \"mesh3d\": [{\"colorbar\": {\"outlinewidth\": 0, \"ticks\": \"\"}, \"type\": \"mesh3d\"}], \"parcoords\": [{\"line\": {\"colorbar\": {\"outlinewidth\": 0, \"ticks\": \"\"}}, \"type\": \"parcoords\"}], \"pie\": [{\"automargin\": true, \"type\": \"pie\"}], \"scatter\": [{\"marker\": {\"colorbar\": {\"outlinewidth\": 0, \"ticks\": \"\"}}, \"type\": \"scatter\"}], \"scatter3d\": [{\"line\": {\"colorbar\": {\"outlinewidth\": 0, \"ticks\": \"\"}}, \"marker\": {\"colorbar\": {\"outlinewidth\": 0, \"ticks\": \"\"}}, \"type\": \"scatter3d\"}], \"scattercarpet\": [{\"marker\": {\"colorbar\": {\"outlinewidth\": 0, \"ticks\": \"\"}}, \"type\": \"scattercarpet\"}], \"scattergeo\": [{\"marker\": {\"colorbar\": {\"outlinewidth\": 0, \"ticks\": \"\"}}, \"type\": \"scattergeo\"}], \"scattergl\": [{\"marker\": {\"colorbar\": {\"outlinewidth\": 0, \"ticks\": \"\"}}, \"type\": \"scattergl\"}], \"scattermapbox\": [{\"marker\": {\"colorbar\": {\"outlinewidth\": 0, \"ticks\": \"\"}}, \"type\": \"scattermapbox\"}], \"scatterpolar\": [{\"marker\": {\"colorbar\": {\"outlinewidth\": 0, \"ticks\": \"\"}}, \"type\": \"scatterpolar\"}], \"scatterpolargl\": [{\"marker\": {\"colorbar\": {\"outlinewidth\": 0, \"ticks\": \"\"}}, \"type\": \"scatterpolargl\"}], \"scatterternary\": [{\"marker\": {\"colorbar\": {\"outlinewidth\": 0, \"ticks\": \"\"}}, \"type\": \"scatterternary\"}], \"surface\": [{\"colorbar\": {\"outlinewidth\": 0, \"ticks\": \"\"}, \"colorscale\": [[0.0, \"#0d0887\"], [0.1111111111111111, \"#46039f\"], [0.2222222222222222, \"#7201a8\"], [0.3333333333333333, \"#9c179e\"], [0.4444444444444444, \"#bd3786\"], [0.5555555555555556, \"#d8576b\"], [0.6666666666666666, \"#ed7953\"], [0.7777777777777778, \"#fb9f3a\"], [0.8888888888888888, \"#fdca26\"], [1.0, \"#f0f921\"]], \"type\": \"surface\"}], \"table\": [{\"cells\": {\"fill\": {\"color\": \"#EBF0F8\"}, \"line\": {\"color\": \"white\"}}, \"header\": {\"fill\": {\"color\": \"#C8D4E3\"}, \"line\": {\"color\": \"white\"}}, \"type\": \"table\"}]}, \"layout\": {\"annotationdefaults\": {\"arrowcolor\": \"#2a3f5f\", \"arrowhead\": 0, \"arrowwidth\": 1}, \"coloraxis\": {\"colorbar\": {\"outlinewidth\": 0, \"ticks\": \"\"}}, \"colorscale\": {\"diverging\": [[0, \"#8e0152\"], [0.1, \"#c51b7d\"], [0.2, \"#de77ae\"], [0.3, \"#f1b6da\"], [0.4, \"#fde0ef\"], [0.5, \"#f7f7f7\"], [0.6, \"#e6f5d0\"], [0.7, \"#b8e186\"], [0.8, \"#7fbc41\"], [0.9, \"#4d9221\"], [1, \"#276419\"]], \"sequential\": [[0.0, \"#0d0887\"], [0.1111111111111111, \"#46039f\"], [0.2222222222222222, \"#7201a8\"], [0.3333333333333333, \"#9c179e\"], [0.4444444444444444, \"#bd3786\"], [0.5555555555555556, \"#d8576b\"], [0.6666666666666666, \"#ed7953\"], [0.7777777777777778, \"#fb9f3a\"], [0.8888888888888888, \"#fdca26\"], [1.0, \"#f0f921\"]], \"sequentialminus\": [[0.0, \"#0d0887\"], [0.1111111111111111, \"#46039f\"], [0.2222222222222222, \"#7201a8\"], [0.3333333333333333, \"#9c179e\"], [0.4444444444444444, \"#bd3786\"], [0.5555555555555556, \"#d8576b\"], [0.6666666666666666, \"#ed7953\"], [0.7777777777777778, \"#fb9f3a\"], [0.8888888888888888, \"#fdca26\"], [1.0, \"#f0f921\"]]}, \"colorway\": [\"#636efa\", \"#EF553B\", \"#00cc96\", \"#ab63fa\", \"#FFA15A\", \"#19d3f3\", \"#FF6692\", \"#B6E880\", \"#FF97FF\", \"#FECB52\"], \"font\": {\"color\": \"#2a3f5f\"}, \"geo\": {\"bgcolor\": \"white\", \"lakecolor\": \"white\", \"landcolor\": \"#E5ECF6\", \"showlakes\": true, \"showland\": true, \"subunitcolor\": \"white\"}, \"hoverlabel\": {\"align\": \"left\"}, \"hovermode\": \"closest\", \"mapbox\": {\"style\": \"light\"}, \"paper_bgcolor\": \"white\", \"plot_bgcolor\": \"#E5ECF6\", \"polar\": {\"angularaxis\": {\"gridcolor\": \"white\", \"linecolor\": \"white\", \"ticks\": \"\"}, \"bgcolor\": \"#E5ECF6\", \"radialaxis\": {\"gridcolor\": \"white\", \"linecolor\": \"white\", \"ticks\": \"\"}}, \"scene\": {\"xaxis\": {\"backgroundcolor\": \"#E5ECF6\", \"gridcolor\": \"white\", \"gridwidth\": 2, \"linecolor\": \"white\", \"showbackground\": true, \"ticks\": \"\", \"zerolinecolor\": \"white\"}, \"yaxis\": {\"backgroundcolor\": \"#E5ECF6\", \"gridcolor\": \"white\", \"gridwidth\": 2, \"linecolor\": \"white\", \"showbackground\": true, \"ticks\": \"\", \"zerolinecolor\": \"white\"}, \"zaxis\": {\"backgroundcolor\": \"#E5ECF6\", \"gridcolor\": \"white\", \"gridwidth\": 2, \"linecolor\": \"white\", \"showbackground\": true, \"ticks\": \"\", \"zerolinecolor\": \"white\"}}, \"shapedefaults\": {\"line\": {\"color\": \"#2a3f5f\"}}, \"ternary\": {\"aaxis\": {\"gridcolor\": \"white\", \"linecolor\": \"white\", \"ticks\": \"\"}, \"baxis\": {\"gridcolor\": \"white\", \"linecolor\": \"white\", \"ticks\": \"\"}, \"bgcolor\": \"#E5ECF6\", \"caxis\": {\"gridcolor\": \"white\", \"linecolor\": \"white\", \"ticks\": \"\"}}, \"title\": {\"x\": 0.05}, \"xaxis\": {\"automargin\": true, \"gridcolor\": \"white\", \"linecolor\": \"white\", \"ticks\": \"\", \"title\": {\"standoff\": 15}, \"zerolinecolor\": \"white\", \"zerolinewidth\": 2}, \"yaxis\": {\"automargin\": true, \"gridcolor\": \"white\", \"linecolor\": \"white\", \"ticks\": \"\", \"title\": {\"standoff\": 15}, \"zerolinecolor\": \"white\", \"zerolinewidth\": 2}}}, \"title\": {\"font\": {\"family\": \"Times New Roman\", \"size\": 16}, \"text\": \"Number and Country of Origin of Astronauts\"}, \"xaxis\": {\"anchor\": \"y\", \"domain\": [0.0, 1.0], \"range\": [1980, 2018], \"title\": {\"text\": \"Years\"}}, \"yaxis\": {\"anchor\": \"x\", \"domain\": [0.0, 1.0], \"range\": [0, 105], \"title\": {\"text\": \"Number of Astronauts\"}}},\n",
              "                        {\"responsive\": true}\n",
              "                    ).then(function(){\n",
              "                            \n",
              "var gd = document.getElementById('7ab01d10-3713-489b-8967-4e48f3ea875c');\n",
              "var x = new MutationObserver(function (mutations, observer) {{\n",
              "        var display = window.getComputedStyle(gd).display;\n",
              "        if (!display || display === 'none') {{\n",
              "            console.log([gd, 'removed!']);\n",
              "            Plotly.purge(gd);\n",
              "            observer.disconnect();\n",
              "        }}\n",
              "}});\n",
              "\n",
              "// Listen for the removal of the full notebook cells\n",
              "var notebookContainer = gd.closest('#notebook-container');\n",
              "if (notebookContainer) {{\n",
              "    x.observe(notebookContainer, {childList: true});\n",
              "}}\n",
              "\n",
              "// Listen for the clearing of the current output cell\n",
              "var outputEl = gd.closest('.output');\n",
              "if (outputEl) {{\n",
              "    x.observe(outputEl, {childList: true});\n",
              "}}\n",
              "\n",
              "                        })\n",
              "                };\n",
              "                \n",
              "            </script>\n",
              "        </div>\n",
              "</body>\n",
              "</html>"
            ]
          },
          "metadata": {
            "tags": []
          }
        }
      ]
    },
    {
      "cell_type": "code",
      "metadata": {
        "id": "FkG0ifpM2B-a",
        "colab_type": "code",
        "colab": {
          "base_uri": "https://localhost:8080/",
          "height": 542
        },
        "outputId": "5b622a0f-874a-4d5e-c34c-8efe9e0cc362"
      },
      "source": [
        "fig.show()"
      ],
      "execution_count": 134,
      "outputs": [
        {
          "output_type": "display_data",
          "data": {
            "text/html": [
              "<html>\n",
              "<head><meta charset=\"utf-8\" /></head>\n",
              "<body>\n",
              "    <div>\n",
              "            <script src=\"https://cdnjs.cloudflare.com/ajax/libs/mathjax/2.7.5/MathJax.js?config=TeX-AMS-MML_SVG\"></script><script type=\"text/javascript\">if (window.MathJax) {MathJax.Hub.Config({SVG: {font: \"STIX-Web\"}});}</script>\n",
              "                <script type=\"text/javascript\">window.PlotlyConfig = {MathJaxConfig: 'local'};</script>\n",
              "        <script src=\"https://cdn.plot.ly/plotly-latest.min.js\"></script>    \n",
              "            <div id=\"55196f1f-4059-4a56-9d47-c650520578f0\" class=\"plotly-graph-div\" style=\"height:525px; width:100%;\"></div>\n",
              "            <script type=\"text/javascript\">\n",
              "                \n",
              "                    window.PLOTLYENV=window.PLOTLYENV || {};\n",
              "                    \n",
              "                if (document.getElementById(\"55196f1f-4059-4a56-9d47-c650520578f0\")) {\n",
              "                    Plotly.newPlot(\n",
              "                        '55196f1f-4059-4a56-9d47-c650520578f0',\n",
              "                        [{\"alignmentgroup\": \"True\", \"hoverlabel\": {\"namelength\": 0}, \"hovertemplate\": \"Countries=U.S.S.R/Russia<br>Years=%{x}<br>Number of Astronauts=%{y}\", \"legendgroup\": \"Countries=U.S.S.R/Russia\", \"marker\": {\"color\": \"#636efa\"}, \"name\": \"Countries:U.S.S.R/Russia\", \"offsetgroup\": \"Countries=U.S.S.R/Russia\", \"orientation\": \"v\", \"showlegend\": true, \"textposition\": \"auto\", \"type\": \"bar\", \"x\": [1965, 1968, 1970, 1998, 2010, 1983, 1991, 1978, 1985, 1960, 1964, 1992, 1987, 1994, 1963, 1976, 1997, 2003, 1980, 2006, 1990, 1972, 1977, 1973, 1989, 1967, 1984, 1996, 1962], \"xaxis\": \"x\", \"y\": [10, 20, 12, 2, 1, 1, 1, 19, 13, 21, 4, 5, 18, 3, 11, 13, 24, 14, 2, 9, 7, 4, 2, 13, 20, 8, 5, 10, 1], \"yaxis\": \"y\"}, {\"alignmentgroup\": \"True\", \"hoverlabel\": {\"namelength\": 0}, \"hovertemplate\": \"Countries=Japan<br>Years=%{x}<br>Number of Astronauts=%{y}\", \"legendgroup\": \"Countries=Japan\", \"marker\": {\"color\": \"#EF553B\"}, \"name\": \"Countries:Japan\", \"offsetgroup\": \"Countries=Japan\", \"orientation\": \"v\", \"showlegend\": true, \"textposition\": \"auto\", \"type\": \"bar\", \"x\": [1992, 1985, 1999, 1989, 1996, 2009], \"xaxis\": \"x\", \"y\": [4, 6, 4, 1, 2, 3], \"yaxis\": \"y\"}, {\"alignmentgroup\": \"True\", \"hoverlabel\": {\"namelength\": 0}, \"hovertemplate\": \"Countries=U.S.<br>Years=%{x}<br>Number of Astronauts=%{y}\", \"legendgroup\": \"Countries=U.S.\", \"marker\": {\"color\": \"#00cc96\"}, \"name\": \"Countries:U.S.\", \"offsetgroup\": \"Countries=U.S.\", \"orientation\": \"v\", \"showlegend\": true, \"textposition\": \"auto\", \"type\": \"bar\", \"x\": [1962, 2013, 1995, 1983, 1996, 1987, 2004, 2009, 1966, 1963, 1967, 1984, 1998, 1978, 1982, 1985, 0, 1979, 2006, 1969, 2000, 1990, 1980, 1992, 1959, 1994, 1991, 1965, 1988], \"xaxis\": \"x\", \"y\": [25, 6, 38, 6, 72, 53, 19, 8, 28, 18, 15, 60, 42, 105, 3, 47, 2, 1, 3, 13, 36, 88, 60, 65, 11, 23, 1, 5, 1], \"yaxis\": \"y\"}, {\"alignmentgroup\": \"True\", \"hoverlabel\": {\"namelength\": 0}, \"hovertemplate\": \"Countries=Hungry<br>Years=%{x}<br>Number of Astronauts=%{y}\", \"legendgroup\": \"Countries=Hungry\", \"marker\": {\"color\": \"#ab63fa\"}, \"name\": \"Countries:Hungry\", \"offsetgroup\": \"Countries=Hungry\", \"orientation\": \"v\", \"showlegend\": true, \"textposition\": \"auto\", \"type\": \"bar\", \"x\": [1978], \"xaxis\": \"x\", \"y\": [1], \"yaxis\": \"y\"}, {\"alignmentgroup\": \"True\", \"hoverlabel\": {\"namelength\": 0}, \"hovertemplate\": \"Countries=Austria<br>Years=%{x}<br>Number of Astronauts=%{y}\", \"legendgroup\": \"Countries=Austria\", \"marker\": {\"color\": \"#FFA15A\"}, \"name\": \"Countries:Austria\", \"offsetgroup\": \"Countries=Austria\", \"orientation\": \"v\", \"showlegend\": true, \"textposition\": \"auto\", \"type\": \"bar\", \"x\": [1989], \"xaxis\": \"x\", \"y\": [1], \"yaxis\": \"y\"}, {\"alignmentgroup\": \"True\", \"hoverlabel\": {\"namelength\": 0}, \"hovertemplate\": \"Countries=China<br>Years=%{x}<br>Number of Astronauts=%{y}\", \"legendgroup\": \"Countries=China\", \"marker\": {\"color\": \"#19d3f3\"}, \"name\": \"Countries:China\", \"offsetgroup\": \"Countries=China\", \"orientation\": \"v\", \"showlegend\": true, \"textposition\": \"auto\", \"type\": \"bar\", \"x\": [2005, 2013, 2003, 2010, 2008, 2012], \"xaxis\": \"x\", \"y\": [3, 2, 1, 1, 5, 2], \"yaxis\": \"y\"}, {\"alignmentgroup\": \"True\", \"hoverlabel\": {\"namelength\": 0}, \"hovertemplate\": \"Countries=Germany<br>Years=%{x}<br>Number of Astronauts=%{y}\", \"legendgroup\": \"Countries=Germany\", \"marker\": {\"color\": \"#FF6692\"}, \"name\": \"Countries:Germany\", \"offsetgroup\": \"Countries=Germany\", \"orientation\": \"v\", \"showlegend\": true, \"textposition\": \"auto\", \"type\": \"bar\", \"x\": [1987, 1990, 1982, 2009, 1976, 1978, 1992], \"xaxis\": \"x\", \"y\": [4, 2, 2, 2, 1, 3, 2], \"yaxis\": \"y\"}, {\"alignmentgroup\": \"True\", \"hoverlabel\": {\"namelength\": 0}, \"hovertemplate\": \"Countries=Vietnam<br>Years=%{x}<br>Number of Astronauts=%{y}\", \"legendgroup\": \"Countries=Vietnam\", \"marker\": {\"color\": \"#B6E880\"}, \"name\": \"Countries:Vietnam\", \"offsetgroup\": \"Countries=Vietnam\", \"orientation\": \"v\", \"showlegend\": true, \"textposition\": \"auto\", \"type\": \"bar\", \"x\": [1979], \"xaxis\": \"x\", \"y\": [1], \"yaxis\": \"y\"}, {\"alignmentgroup\": \"True\", \"hoverlabel\": {\"namelength\": 0}, \"hovertemplate\": \"Countries=Sweden<br>Years=%{x}<br>Number of Astronauts=%{y}\", \"legendgroup\": \"Countries=Sweden\", \"marker\": {\"color\": \"#FF97FF\"}, \"name\": \"Countries:Sweden\", \"offsetgroup\": \"Countries=Sweden\", \"orientation\": \"v\", \"showlegend\": true, \"textposition\": \"auto\", \"type\": \"bar\", \"x\": [1992], \"xaxis\": \"x\", \"y\": [2], \"yaxis\": \"y\"}, {\"alignmentgroup\": \"True\", \"hoverlabel\": {\"namelength\": 0}, \"hovertemplate\": \"Countries=Israel<br>Years=%{x}<br>Number of Astronauts=%{y}\", \"legendgroup\": \"Countries=Israel\", \"marker\": {\"color\": \"#FECB52\"}, \"name\": \"Countries:Israel\", \"offsetgroup\": \"Countries=Israel\", \"orientation\": \"v\", \"showlegend\": true, \"textposition\": \"auto\", \"type\": \"bar\", \"x\": [1996], \"xaxis\": \"x\", \"y\": [1], \"yaxis\": \"y\"}, {\"alignmentgroup\": \"True\", \"hoverlabel\": {\"namelength\": 0}, \"hovertemplate\": \"Countries=Republic of South Africa<br>Years=%{x}<br>Number of Astronauts=%{y}\", \"legendgroup\": \"Countries=Republic of South Africa\", \"marker\": {\"color\": \"#636efa\"}, \"name\": \"Countries:Republic of South Africa\", \"offsetgroup\": \"Countries=Republic of South Africa\", \"orientation\": \"v\", \"showlegend\": true, \"textposition\": \"auto\", \"type\": \"bar\", \"x\": [2001], \"xaxis\": \"x\", \"y\": [1], \"yaxis\": \"y\"}, {\"alignmentgroup\": \"True\", \"hoverlabel\": {\"namelength\": 0}, \"hovertemplate\": \"Countries=Syria<br>Years=%{x}<br>Number of Astronauts=%{y}\", \"legendgroup\": \"Countries=Syria\", \"marker\": {\"color\": \"#EF553B\"}, \"name\": \"Countries:Syria\", \"offsetgroup\": \"Countries=Syria\", \"orientation\": \"v\", \"showlegend\": true, \"textposition\": \"auto\", \"type\": \"bar\", \"x\": [1985], \"xaxis\": \"x\", \"y\": [1], \"yaxis\": \"y\"}, {\"alignmentgroup\": \"True\", \"hoverlabel\": {\"namelength\": 0}, \"hovertemplate\": \"Countries=U.K./U.S.<br>Years=%{x}<br>Number of Astronauts=%{y}\", \"legendgroup\": \"Countries=U.K./U.S.\", \"marker\": {\"color\": \"#00cc96\"}, \"name\": \"Countries:U.K./U.S.\", \"offsetgroup\": \"Countries=U.K./U.S.\", \"orientation\": \"v\", \"showlegend\": true, \"textposition\": \"auto\", \"type\": \"bar\", \"x\": [2007, 1996, 1998], \"xaxis\": \"x\", \"y\": [1, 3, 2], \"yaxis\": \"y\"}, {\"alignmentgroup\": \"True\", \"hoverlabel\": {\"namelength\": 0}, \"hovertemplate\": \"Countries=U.K.<br>Years=%{x}<br>Number of Astronauts=%{y}\", \"legendgroup\": \"Countries=U.K.\", \"marker\": {\"color\": \"#ab63fa\"}, \"name\": \"Countries:U.K.\", \"offsetgroup\": \"Countries=U.K.\", \"orientation\": \"v\", \"showlegend\": true, \"textposition\": \"auto\", \"type\": \"bar\", \"x\": [1989, 2009], \"xaxis\": \"x\", \"y\": [1, 1], \"yaxis\": \"y\"}, {\"alignmentgroup\": \"True\", \"hoverlabel\": {\"namelength\": 0}, \"hovertemplate\": \"Countries=Czechoslovakia<br>Years=%{x}<br>Number of Astronauts=%{y}\", \"legendgroup\": \"Countries=Czechoslovakia\", \"marker\": {\"color\": \"#FFA15A\"}, \"name\": \"Countries:Czechoslovakia\", \"offsetgroup\": \"Countries=Czechoslovakia\", \"orientation\": \"v\", \"showlegend\": true, \"textposition\": \"auto\", \"type\": \"bar\", \"x\": [1976], \"xaxis\": \"x\", \"y\": [1], \"yaxis\": \"y\"}, {\"alignmentgroup\": \"True\", \"hoverlabel\": {\"namelength\": 0}, \"hovertemplate\": \"Countries=Spain<br>Years=%{x}<br>Number of Astronauts=%{y}\", \"legendgroup\": \"Countries=Spain\", \"marker\": {\"color\": \"#19d3f3\"}, \"name\": \"Countries:Spain\", \"offsetgroup\": \"Countries=Spain\", \"orientation\": \"v\", \"showlegend\": true, \"textposition\": \"auto\", \"type\": \"bar\", \"x\": [1992], \"xaxis\": \"x\", \"y\": [2], \"yaxis\": \"y\"}, {\"alignmentgroup\": \"True\", \"hoverlabel\": {\"namelength\": 0}, \"hovertemplate\": \"Countries=Netherland<br>Years=%{x}<br>Number of Astronauts=%{y}\", \"legendgroup\": \"Countries=Netherland\", \"marker\": {\"color\": \"#FF6692\"}, \"name\": \"Countries:Netherland\", \"offsetgroup\": \"Countries=Netherland\", \"orientation\": \"v\", \"showlegend\": true, \"textposition\": \"auto\", \"type\": \"bar\", \"x\": [1978, 1998], \"xaxis\": \"x\", \"y\": [1, 2], \"yaxis\": \"y\"}, {\"alignmentgroup\": \"True\", \"hoverlabel\": {\"namelength\": 0}, \"hovertemplate\": \"Countries=France<br>Years=%{x}<br>Number of Astronauts=%{y}\", \"legendgroup\": \"Countries=France\", \"marker\": {\"color\": \"#B6E880\"}, \"name\": \"Countries:France\", \"offsetgroup\": \"Countries=France\", \"orientation\": \"v\", \"showlegend\": true, \"textposition\": \"auto\", \"type\": \"bar\", \"x\": [1985, 1980, 2009, 1990], \"xaxis\": \"x\", \"y\": [10, 4, 1, 3], \"yaxis\": \"y\"}, {\"alignmentgroup\": \"True\", \"hoverlabel\": {\"namelength\": 0}, \"hovertemplate\": \"Countries=Italy<br>Years=%{x}<br>Number of Astronauts=%{y}\", \"legendgroup\": \"Countries=Italy\", \"marker\": {\"color\": \"#FF97FF\"}, \"name\": \"Countries:Italy\", \"offsetgroup\": \"Countries=Italy\", \"orientation\": \"v\", \"showlegend\": true, \"textposition\": \"auto\", \"type\": \"bar\", \"x\": [1992, 1998, 1996, 2009], \"xaxis\": \"x\", \"y\": [1, 7, 2, 3], \"yaxis\": \"y\"}, {\"alignmentgroup\": \"True\", \"hoverlabel\": {\"namelength\": 0}, \"hovertemplate\": \"Countries=Canada<br>Years=%{x}<br>Number of Astronauts=%{y}\", \"legendgroup\": \"Countries=Canada\", \"marker\": {\"color\": \"#FECB52\"}, \"name\": \"Countries:Canada\", \"offsetgroup\": \"Countries=Canada\", \"orientation\": \"v\", \"showlegend\": true, \"textposition\": \"auto\", \"type\": \"bar\", \"x\": [1992, 2009, 1983], \"xaxis\": \"x\", \"y\": [7, 2, 9], \"yaxis\": \"y\"}, {\"alignmentgroup\": \"True\", \"hoverlabel\": {\"namelength\": 0}, \"hovertemplate\": \"Countries=Afghanistan<br>Years=%{x}<br>Number of Astronauts=%{y}\", \"legendgroup\": \"Countries=Afghanistan\", \"marker\": {\"color\": \"#636efa\"}, \"name\": \"Countries:Afghanistan\", \"offsetgroup\": \"Countries=Afghanistan\", \"orientation\": \"v\", \"showlegend\": true, \"textposition\": \"auto\", \"type\": \"bar\", \"x\": [1988], \"xaxis\": \"x\", \"y\": [1], \"yaxis\": \"y\"}, {\"alignmentgroup\": \"True\", \"hoverlabel\": {\"namelength\": 0}, \"hovertemplate\": \"Countries=Denmark<br>Years=%{x}<br>Number of Astronauts=%{y}\", \"legendgroup\": \"Countries=Denmark\", \"marker\": {\"color\": \"#EF553B\"}, \"name\": \"Countries:Denmark\", \"offsetgroup\": \"Countries=Denmark\", \"orientation\": \"v\", \"showlegend\": true, \"textposition\": \"auto\", \"type\": \"bar\", \"x\": [2009], \"xaxis\": \"x\", \"y\": [1], \"yaxis\": \"y\"}, {\"alignmentgroup\": \"True\", \"hoverlabel\": {\"namelength\": 0}, \"hovertemplate\": \"Countries=Saudi Arabia<br>Years=%{x}<br>Number of Astronauts=%{y}\", \"legendgroup\": \"Countries=Saudi Arabia\", \"marker\": {\"color\": \"#00cc96\"}, \"name\": \"Countries:Saudi Arabia\", \"offsetgroup\": \"Countries=Saudi Arabia\", \"orientation\": \"v\", \"showlegend\": true, \"textposition\": \"auto\", \"type\": \"bar\", \"x\": [1985], \"xaxis\": \"x\", \"y\": [1], \"yaxis\": \"y\"}, {\"alignmentgroup\": \"True\", \"hoverlabel\": {\"namelength\": 0}, \"hovertemplate\": \"Countries=Korea<br>Years=%{x}<br>Number of Astronauts=%{y}\", \"legendgroup\": \"Countries=Korea\", \"marker\": {\"color\": \"#ab63fa\"}, \"name\": \"Countries:Korea\", \"offsetgroup\": \"Countries=Korea\", \"orientation\": \"v\", \"showlegend\": true, \"textposition\": \"auto\", \"type\": \"bar\", \"x\": [2006], \"xaxis\": \"x\", \"y\": [1], \"yaxis\": \"y\"}, {\"alignmentgroup\": \"True\", \"hoverlabel\": {\"namelength\": 0}, \"hovertemplate\": \"Countries=Poland<br>Years=%{x}<br>Number of Astronauts=%{y}\", \"legendgroup\": \"Countries=Poland\", \"marker\": {\"color\": \"#FFA15A\"}, \"name\": \"Countries:Poland\", \"offsetgroup\": \"Countries=Poland\", \"orientation\": \"v\", \"showlegend\": true, \"textposition\": \"auto\", \"type\": \"bar\", \"x\": [1976], \"xaxis\": \"x\", \"y\": [1], \"yaxis\": \"y\"}, {\"alignmentgroup\": \"True\", \"hoverlabel\": {\"namelength\": 0}, \"hovertemplate\": \"Countries=Brazil<br>Years=%{x}<br>Number of Astronauts=%{y}\", \"legendgroup\": \"Countries=Brazil\", \"marker\": {\"color\": \"#19d3f3\"}, \"name\": \"Countries:Brazil\", \"offsetgroup\": \"Countries=Brazil\", \"orientation\": \"v\", \"showlegend\": true, \"textposition\": \"auto\", \"type\": \"bar\", \"x\": [1998], \"xaxis\": \"x\", \"y\": [1], \"yaxis\": \"y\"}, {\"alignmentgroup\": \"True\", \"hoverlabel\": {\"namelength\": 0}, \"hovertemplate\": \"Countries=Cuba<br>Years=%{x}<br>Number of Astronauts=%{y}\", \"legendgroup\": \"Countries=Cuba\", \"marker\": {\"color\": \"#FF6692\"}, \"name\": \"Countries:Cuba\", \"offsetgroup\": \"Countries=Cuba\", \"orientation\": \"v\", \"showlegend\": true, \"textposition\": \"auto\", \"type\": \"bar\", \"x\": [1978], \"xaxis\": \"x\", \"y\": [1], \"yaxis\": \"y\"}, {\"alignmentgroup\": \"True\", \"hoverlabel\": {\"namelength\": 0}, \"hovertemplate\": \"Countries=Australia<br>Years=%{x}<br>Number of Astronauts=%{y}\", \"legendgroup\": \"Countries=Australia\", \"marker\": {\"color\": \"#B6E880\"}, \"name\": \"Countries:Australia\", \"offsetgroup\": \"Countries=Australia\", \"orientation\": \"v\", \"showlegend\": true, \"textposition\": \"auto\", \"type\": \"bar\", \"x\": [1992], \"xaxis\": \"x\", \"y\": [4], \"yaxis\": \"y\"}, {\"alignmentgroup\": \"True\", \"hoverlabel\": {\"namelength\": 0}, \"hovertemplate\": \"Countries=U.S.S.R/Ukraine<br>Years=%{x}<br>Number of Astronauts=%{y}\", \"legendgroup\": \"Countries=U.S.S.R/Ukraine\", \"marker\": {\"color\": \"#FF97FF\"}, \"name\": \"Countries:U.S.S.R/Ukraine\", \"offsetgroup\": \"Countries=U.S.S.R/Ukraine\", \"orientation\": \"v\", \"showlegend\": true, \"textposition\": \"auto\", \"type\": \"bar\", \"x\": [1976], \"xaxis\": \"x\", \"y\": [1], \"yaxis\": \"y\"}, {\"alignmentgroup\": \"True\", \"hoverlabel\": {\"namelength\": 0}, \"hovertemplate\": \"Countries=Bulgaria<br>Years=%{x}<br>Number of Astronauts=%{y}\", \"legendgroup\": \"Countries=Bulgaria\", \"marker\": {\"color\": \"#FECB52\"}, \"name\": \"Countries:Bulgaria\", \"offsetgroup\": \"Countries=Bulgaria\", \"orientation\": \"v\", \"showlegend\": true, \"textposition\": \"auto\", \"type\": \"bar\", \"x\": [1978], \"xaxis\": \"x\", \"y\": [2], \"yaxis\": \"y\"}, {\"alignmentgroup\": \"True\", \"hoverlabel\": {\"namelength\": 0}, \"hovertemplate\": \"Countries=Belgium<br>Years=%{x}<br>Number of Astronauts=%{y}\", \"legendgroup\": \"Countries=Belgium\", \"marker\": {\"color\": \"#636efa\"}, \"name\": \"Countries:Belgium\", \"offsetgroup\": \"Countries=Belgium\", \"orientation\": \"v\", \"showlegend\": true, \"textposition\": \"auto\", \"type\": \"bar\", \"x\": [1998, 1985], \"xaxis\": \"x\", \"y\": [2, 1], \"yaxis\": \"y\"}, {\"alignmentgroup\": \"True\", \"hoverlabel\": {\"namelength\": 0}, \"hovertemplate\": \"Countries=Slovakia<br>Years=%{x}<br>Number of Astronauts=%{y}\", \"legendgroup\": \"Countries=Slovakia\", \"marker\": {\"color\": \"#EF553B\"}, \"name\": \"Countries:Slovakia\", \"offsetgroup\": \"Countries=Slovakia\", \"orientation\": \"v\", \"showlegend\": true, \"textposition\": \"auto\", \"type\": \"bar\", \"x\": [1998], \"xaxis\": \"x\", \"y\": [1], \"yaxis\": \"y\"}, {\"alignmentgroup\": \"True\", \"hoverlabel\": {\"namelength\": 0}, \"hovertemplate\": \"Countries=STS-3<br>Years=%{x}<br>Number of Astronauts=%{y}\", \"legendgroup\": \"Countries=STS-3\", \"marker\": {\"color\": \"#00cc96\"}, \"name\": \"Countries:STS-3\", \"offsetgroup\": \"Countries=STS-3\", \"orientation\": \"v\", \"showlegend\": true, \"textposition\": \"auto\", \"type\": \"bar\", \"x\": [192], \"xaxis\": \"x\", \"y\": [1], \"yaxis\": \"y\"}, {\"alignmentgroup\": \"True\", \"hoverlabel\": {\"namelength\": 0}, \"hovertemplate\": \"Countries=UAE<br>Years=%{x}<br>Number of Astronauts=%{y}\", \"legendgroup\": \"Countries=UAE\", \"marker\": {\"color\": \"#ab63fa\"}, \"name\": \"Countries:UAE\", \"offsetgroup\": \"Countries=UAE\", \"orientation\": \"v\", \"showlegend\": true, \"textposition\": \"auto\", \"type\": \"bar\", \"x\": [2018], \"xaxis\": \"x\", \"y\": [1], \"yaxis\": \"y\"}, {\"alignmentgroup\": \"True\", \"hoverlabel\": {\"namelength\": 0}, \"hovertemplate\": \"Countries=Mongolia<br>Years=%{x}<br>Number of Astronauts=%{y}\", \"legendgroup\": \"Countries=Mongolia\", \"marker\": {\"color\": \"#FFA15A\"}, \"name\": \"Countries:Mongolia\", \"offsetgroup\": \"Countries=Mongolia\", \"orientation\": \"v\", \"showlegend\": true, \"textposition\": \"auto\", \"type\": \"bar\", \"x\": [1978], \"xaxis\": \"x\", \"y\": [1], \"yaxis\": \"y\"}, {\"alignmentgroup\": \"True\", \"hoverlabel\": {\"namelength\": 0}, \"hovertemplate\": \"Countries=Romania<br>Years=%{x}<br>Number of Astronauts=%{y}\", \"legendgroup\": \"Countries=Romania\", \"marker\": {\"color\": \"#19d3f3\"}, \"name\": \"Countries:Romania\", \"offsetgroup\": \"Countries=Romania\", \"orientation\": \"v\", \"showlegend\": true, \"textposition\": \"auto\", \"type\": \"bar\", \"x\": [1978], \"xaxis\": \"x\", \"y\": [1], \"yaxis\": \"y\"}, {\"alignmentgroup\": \"True\", \"hoverlabel\": {\"namelength\": 0}, \"hovertemplate\": \"Countries=STS-51-F<br>Years=%{x}<br>Number of Astronauts=%{y}\", \"legendgroup\": \"Countries=STS-51-F\", \"marker\": {\"color\": \"#FF6692\"}, \"name\": \"Countries:STS-51-F\", \"offsetgroup\": \"Countries=STS-51-F\", \"orientation\": \"v\", \"showlegend\": true, \"textposition\": \"auto\", \"type\": \"bar\", \"x\": [190], \"xaxis\": \"x\", \"y\": [1], \"yaxis\": \"y\"}, {\"alignmentgroup\": \"True\", \"hoverlabel\": {\"namelength\": 0}, \"hovertemplate\": \"Countries=Mexico<br>Years=%{x}<br>Number of Astronauts=%{y}\", \"legendgroup\": \"Countries=Mexico\", \"marker\": {\"color\": \"#B6E880\"}, \"name\": \"Countries:Mexico\", \"offsetgroup\": \"Countries=Mexico\", \"orientation\": \"v\", \"showlegend\": true, \"textposition\": \"auto\", \"type\": \"bar\", \"x\": [1985], \"xaxis\": \"x\", \"y\": [1], \"yaxis\": \"y\"}, {\"alignmentgroup\": \"True\", \"hoverlabel\": {\"namelength\": 0}, \"hovertemplate\": \"Countries=Kazakhstan<br>Years=%{x}<br>Number of Astronauts=%{y}\", \"legendgroup\": \"Countries=Kazakhstan\", \"marker\": {\"color\": \"#FF97FF\"}, \"name\": \"Countries:Kazakhstan\", \"offsetgroup\": \"Countries=Kazakhstan\", \"orientation\": \"v\", \"showlegend\": true, \"textposition\": \"auto\", \"type\": \"bar\", \"x\": [2012], \"xaxis\": \"x\", \"y\": [1], \"yaxis\": \"y\"}, {\"alignmentgroup\": \"True\", \"hoverlabel\": {\"namelength\": 0}, \"hovertemplate\": \"Countries=India<br>Years=%{x}<br>Number of Astronauts=%{y}\", \"legendgroup\": \"Countries=India\", \"marker\": {\"color\": \"#FECB52\"}, \"name\": \"Countries:India\", \"offsetgroup\": \"Countries=India\", \"orientation\": \"v\", \"showlegend\": true, \"textposition\": \"auto\", \"type\": \"bar\", \"x\": [1982], \"xaxis\": \"x\", \"y\": [1], \"yaxis\": \"y\"}, {\"alignmentgroup\": \"True\", \"hoverlabel\": {\"namelength\": 0}, \"hovertemplate\": \"Countries=Malysia<br>Years=%{x}<br>Number of Astronauts=%{y}\", \"legendgroup\": \"Countries=Malysia\", \"marker\": {\"color\": \"#636efa\"}, \"name\": \"Countries:Malysia\", \"offsetgroup\": \"Countries=Malysia\", \"orientation\": \"v\", \"showlegend\": true, \"textposition\": \"auto\", \"type\": \"bar\", \"x\": [2006], \"xaxis\": \"x\", \"y\": [1], \"yaxis\": \"y\"}, {\"alignmentgroup\": \"True\", \"hoverlabel\": {\"namelength\": 0}, \"hovertemplate\": \"Countries=Switzerland<br>Years=%{x}<br>Number of Astronauts=%{y}\", \"legendgroup\": \"Countries=Switzerland\", \"marker\": {\"color\": \"#EF553B\"}, \"name\": \"Countries:Switzerland\", \"offsetgroup\": \"Countries=Switzerland\", \"orientation\": \"v\", \"showlegend\": true, \"textposition\": \"auto\", \"type\": \"bar\", \"x\": [1978], \"xaxis\": \"x\", \"y\": [4], \"yaxis\": \"y\"}],\n",
              "                        {\"barmode\": \"relative\", \"font\": {\"color\": \"blue\", \"family\": \"Times New Roman\", \"size\": 14}, \"legend\": {\"tracegroupgap\": 0}, \"template\": {\"data\": {\"bar\": [{\"error_x\": {\"color\": \"#2a3f5f\"}, \"error_y\": {\"color\": \"#2a3f5f\"}, \"marker\": {\"line\": {\"color\": \"#E5ECF6\", \"width\": 0.5}}, \"type\": \"bar\"}], \"barpolar\": [{\"marker\": {\"line\": {\"color\": \"#E5ECF6\", \"width\": 0.5}}, \"type\": \"barpolar\"}], \"carpet\": [{\"aaxis\": {\"endlinecolor\": \"#2a3f5f\", \"gridcolor\": \"white\", \"linecolor\": \"white\", \"minorgridcolor\": \"white\", \"startlinecolor\": \"#2a3f5f\"}, \"baxis\": {\"endlinecolor\": \"#2a3f5f\", \"gridcolor\": \"white\", \"linecolor\": \"white\", \"minorgridcolor\": \"white\", \"startlinecolor\": \"#2a3f5f\"}, \"type\": \"carpet\"}], \"choropleth\": [{\"colorbar\": {\"outlinewidth\": 0, \"ticks\": \"\"}, \"type\": \"choropleth\"}], \"contour\": [{\"colorbar\": {\"outlinewidth\": 0, \"ticks\": \"\"}, \"colorscale\": [[0.0, \"#0d0887\"], [0.1111111111111111, \"#46039f\"], [0.2222222222222222, \"#7201a8\"], [0.3333333333333333, \"#9c179e\"], [0.4444444444444444, \"#bd3786\"], [0.5555555555555556, \"#d8576b\"], [0.6666666666666666, \"#ed7953\"], [0.7777777777777778, \"#fb9f3a\"], [0.8888888888888888, \"#fdca26\"], [1.0, \"#f0f921\"]], \"type\": \"contour\"}], \"contourcarpet\": [{\"colorbar\": {\"outlinewidth\": 0, \"ticks\": \"\"}, \"type\": \"contourcarpet\"}], \"heatmap\": [{\"colorbar\": {\"outlinewidth\": 0, \"ticks\": \"\"}, \"colorscale\": [[0.0, \"#0d0887\"], [0.1111111111111111, \"#46039f\"], [0.2222222222222222, \"#7201a8\"], [0.3333333333333333, \"#9c179e\"], [0.4444444444444444, \"#bd3786\"], [0.5555555555555556, \"#d8576b\"], [0.6666666666666666, \"#ed7953\"], [0.7777777777777778, \"#fb9f3a\"], [0.8888888888888888, \"#fdca26\"], [1.0, \"#f0f921\"]], \"type\": \"heatmap\"}], \"heatmapgl\": [{\"colorbar\": {\"outlinewidth\": 0, \"ticks\": \"\"}, \"colorscale\": [[0.0, \"#0d0887\"], [0.1111111111111111, \"#46039f\"], [0.2222222222222222, \"#7201a8\"], [0.3333333333333333, \"#9c179e\"], [0.4444444444444444, \"#bd3786\"], [0.5555555555555556, \"#d8576b\"], [0.6666666666666666, \"#ed7953\"], [0.7777777777777778, \"#fb9f3a\"], [0.8888888888888888, \"#fdca26\"], [1.0, \"#f0f921\"]], \"type\": \"heatmapgl\"}], \"histogram\": [{\"marker\": {\"colorbar\": {\"outlinewidth\": 0, \"ticks\": \"\"}}, \"type\": \"histogram\"}], \"histogram2d\": [{\"colorbar\": {\"outlinewidth\": 0, \"ticks\": \"\"}, \"colorscale\": [[0.0, \"#0d0887\"], [0.1111111111111111, \"#46039f\"], [0.2222222222222222, \"#7201a8\"], [0.3333333333333333, \"#9c179e\"], [0.4444444444444444, \"#bd3786\"], [0.5555555555555556, \"#d8576b\"], [0.6666666666666666, \"#ed7953\"], [0.7777777777777778, \"#fb9f3a\"], [0.8888888888888888, \"#fdca26\"], [1.0, \"#f0f921\"]], \"type\": \"histogram2d\"}], \"histogram2dcontour\": [{\"colorbar\": {\"outlinewidth\": 0, \"ticks\": \"\"}, \"colorscale\": [[0.0, \"#0d0887\"], [0.1111111111111111, \"#46039f\"], [0.2222222222222222, \"#7201a8\"], [0.3333333333333333, \"#9c179e\"], [0.4444444444444444, \"#bd3786\"], [0.5555555555555556, \"#d8576b\"], [0.6666666666666666, \"#ed7953\"], [0.7777777777777778, \"#fb9f3a\"], [0.8888888888888888, \"#fdca26\"], [1.0, \"#f0f921\"]], \"type\": \"histogram2dcontour\"}], \"mesh3d\": [{\"colorbar\": {\"outlinewidth\": 0, \"ticks\": \"\"}, \"type\": \"mesh3d\"}], \"parcoords\": [{\"line\": {\"colorbar\": {\"outlinewidth\": 0, \"ticks\": \"\"}}, \"type\": \"parcoords\"}], \"pie\": [{\"automargin\": true, \"type\": \"pie\"}], \"scatter\": [{\"marker\": {\"colorbar\": {\"outlinewidth\": 0, \"ticks\": \"\"}}, \"type\": \"scatter\"}], \"scatter3d\": [{\"line\": {\"colorbar\": {\"outlinewidth\": 0, \"ticks\": \"\"}}, \"marker\": {\"colorbar\": {\"outlinewidth\": 0, \"ticks\": \"\"}}, \"type\": \"scatter3d\"}], \"scattercarpet\": [{\"marker\": {\"colorbar\": {\"outlinewidth\": 0, \"ticks\": \"\"}}, \"type\": \"scattercarpet\"}], \"scattergeo\": [{\"marker\": {\"colorbar\": {\"outlinewidth\": 0, \"ticks\": \"\"}}, \"type\": \"scattergeo\"}], \"scattergl\": [{\"marker\": {\"colorbar\": {\"outlinewidth\": 0, \"ticks\": \"\"}}, \"type\": \"scattergl\"}], \"scattermapbox\": [{\"marker\": {\"colorbar\": {\"outlinewidth\": 0, \"ticks\": \"\"}}, \"type\": \"scattermapbox\"}], \"scatterpolar\": [{\"marker\": {\"colorbar\": {\"outlinewidth\": 0, \"ticks\": \"\"}}, \"type\": \"scatterpolar\"}], \"scatterpolargl\": [{\"marker\": {\"colorbar\": {\"outlinewidth\": 0, \"ticks\": \"\"}}, \"type\": \"scatterpolargl\"}], \"scatterternary\": [{\"marker\": {\"colorbar\": {\"outlinewidth\": 0, \"ticks\": \"\"}}, \"type\": \"scatterternary\"}], \"surface\": [{\"colorbar\": {\"outlinewidth\": 0, \"ticks\": \"\"}, \"colorscale\": [[0.0, \"#0d0887\"], [0.1111111111111111, \"#46039f\"], [0.2222222222222222, \"#7201a8\"], [0.3333333333333333, \"#9c179e\"], [0.4444444444444444, \"#bd3786\"], [0.5555555555555556, \"#d8576b\"], [0.6666666666666666, \"#ed7953\"], [0.7777777777777778, \"#fb9f3a\"], [0.8888888888888888, \"#fdca26\"], [1.0, \"#f0f921\"]], \"type\": \"surface\"}], \"table\": [{\"cells\": {\"fill\": {\"color\": \"#EBF0F8\"}, \"line\": {\"color\": \"white\"}}, \"header\": {\"fill\": {\"color\": \"#C8D4E3\"}, \"line\": {\"color\": \"white\"}}, \"type\": \"table\"}]}, \"layout\": {\"annotationdefaults\": {\"arrowcolor\": \"#2a3f5f\", \"arrowhead\": 0, \"arrowwidth\": 1}, \"coloraxis\": {\"colorbar\": {\"outlinewidth\": 0, \"ticks\": \"\"}}, \"colorscale\": {\"diverging\": [[0, \"#8e0152\"], [0.1, \"#c51b7d\"], [0.2, \"#de77ae\"], [0.3, \"#f1b6da\"], [0.4, \"#fde0ef\"], [0.5, \"#f7f7f7\"], [0.6, \"#e6f5d0\"], [0.7, \"#b8e186\"], [0.8, \"#7fbc41\"], [0.9, \"#4d9221\"], [1, \"#276419\"]], \"sequential\": [[0.0, \"#0d0887\"], [0.1111111111111111, \"#46039f\"], [0.2222222222222222, \"#7201a8\"], [0.3333333333333333, \"#9c179e\"], [0.4444444444444444, \"#bd3786\"], [0.5555555555555556, \"#d8576b\"], [0.6666666666666666, \"#ed7953\"], [0.7777777777777778, \"#fb9f3a\"], [0.8888888888888888, \"#fdca26\"], [1.0, \"#f0f921\"]], \"sequentialminus\": [[0.0, \"#0d0887\"], [0.1111111111111111, \"#46039f\"], [0.2222222222222222, \"#7201a8\"], [0.3333333333333333, \"#9c179e\"], [0.4444444444444444, \"#bd3786\"], [0.5555555555555556, \"#d8576b\"], [0.6666666666666666, \"#ed7953\"], [0.7777777777777778, \"#fb9f3a\"], [0.8888888888888888, \"#fdca26\"], [1.0, \"#f0f921\"]]}, \"colorway\": [\"#636efa\", \"#EF553B\", \"#00cc96\", \"#ab63fa\", \"#FFA15A\", \"#19d3f3\", \"#FF6692\", \"#B6E880\", \"#FF97FF\", \"#FECB52\"], \"font\": {\"color\": \"#2a3f5f\"}, \"geo\": {\"bgcolor\": \"white\", \"lakecolor\": \"white\", \"landcolor\": \"#E5ECF6\", \"showlakes\": true, \"showland\": true, \"subunitcolor\": \"white\"}, \"hoverlabel\": {\"align\": \"left\"}, \"hovermode\": \"closest\", \"mapbox\": {\"style\": \"light\"}, \"paper_bgcolor\": \"white\", \"plot_bgcolor\": \"#E5ECF6\", \"polar\": {\"angularaxis\": {\"gridcolor\": \"white\", \"linecolor\": \"white\", \"ticks\": \"\"}, \"bgcolor\": \"#E5ECF6\", \"radialaxis\": {\"gridcolor\": \"white\", \"linecolor\": \"white\", \"ticks\": \"\"}}, \"scene\": {\"xaxis\": {\"backgroundcolor\": \"#E5ECF6\", \"gridcolor\": \"white\", \"gridwidth\": 2, \"linecolor\": \"white\", \"showbackground\": true, \"ticks\": \"\", \"zerolinecolor\": \"white\"}, \"yaxis\": {\"backgroundcolor\": \"#E5ECF6\", \"gridcolor\": \"white\", \"gridwidth\": 2, \"linecolor\": \"white\", \"showbackground\": true, \"ticks\": \"\", \"zerolinecolor\": \"white\"}, \"zaxis\": {\"backgroundcolor\": \"#E5ECF6\", \"gridcolor\": \"white\", \"gridwidth\": 2, \"linecolor\": \"white\", \"showbackground\": true, \"ticks\": \"\", \"zerolinecolor\": \"white\"}}, \"shapedefaults\": {\"line\": {\"color\": \"#2a3f5f\"}}, \"ternary\": {\"aaxis\": {\"gridcolor\": \"white\", \"linecolor\": \"white\", \"ticks\": \"\"}, \"baxis\": {\"gridcolor\": \"white\", \"linecolor\": \"white\", \"ticks\": \"\"}, \"bgcolor\": \"#E5ECF6\", \"caxis\": {\"gridcolor\": \"white\", \"linecolor\": \"white\", \"ticks\": \"\"}}, \"title\": {\"x\": 0.05}, \"xaxis\": {\"automargin\": true, \"gridcolor\": \"white\", \"linecolor\": \"white\", \"ticks\": \"\", \"title\": {\"standoff\": 15}, \"zerolinecolor\": \"white\", \"zerolinewidth\": 2}, \"yaxis\": {\"automargin\": true, \"gridcolor\": \"white\", \"linecolor\": \"white\", \"ticks\": \"\", \"title\": {\"standoff\": 15}, \"zerolinecolor\": \"white\", \"zerolinewidth\": 2}}}, \"title\": {\"font\": {\"family\": \"Times New Roman\", \"size\": 16}, \"text\": \"Number and Country of Origin of Astronauts\"}, \"xaxis\": {\"anchor\": \"y\", \"domain\": [0.0, 1.0], \"range\": [1980, 2018], \"title\": {\"text\": \"Years\"}}, \"yaxis\": {\"anchor\": \"x\", \"domain\": [0.0, 1.0], \"range\": [0, 105], \"title\": {\"text\": \"Number of Astronauts\"}}},\n",
              "                        {\"responsive\": true}\n",
              "                    ).then(function(){\n",
              "                            \n",
              "var gd = document.getElementById('55196f1f-4059-4a56-9d47-c650520578f0');\n",
              "var x = new MutationObserver(function (mutations, observer) {{\n",
              "        var display = window.getComputedStyle(gd).display;\n",
              "        if (!display || display === 'none') {{\n",
              "            console.log([gd, 'removed!']);\n",
              "            Plotly.purge(gd);\n",
              "            observer.disconnect();\n",
              "        }}\n",
              "}});\n",
              "\n",
              "// Listen for the removal of the full notebook cells\n",
              "var notebookContainer = gd.closest('#notebook-container');\n",
              "if (notebookContainer) {{\n",
              "    x.observe(notebookContainer, {childList: true});\n",
              "}}\n",
              "\n",
              "// Listen for the clearing of the current output cell\n",
              "var outputEl = gd.closest('.output');\n",
              "if (outputEl) {{\n",
              "    x.observe(outputEl, {childList: true});\n",
              "}}\n",
              "\n",
              "                        })\n",
              "                };\n",
              "                \n",
              "            </script>\n",
              "        </div>\n",
              "</body>\n",
              "</html>"
            ]
          },
          "metadata": {
            "tags": []
          }
        }
      ]
    },
    {
      "cell_type": "code",
      "metadata": {
        "id": "ugCoAkMzgY0-",
        "colab_type": "code",
        "colab": {}
      },
      "source": [
        "fig.write_html(\"TidyTuesday.html\")"
      ],
      "execution_count": 137,
      "outputs": []
    }
  ]
}
