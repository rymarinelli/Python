{
  "nbformat": 4,
  "nbformat_minor": 0,
  "metadata": {
    "colab": {
      "provenance": [],
      "authorship_tag": "ABX9TyOYDZlE3WbAzKW4Qc7YeQ4G",
      "include_colab_link": true
    },
    "kernelspec": {
      "name": "python3",
      "display_name": "Python 3"
    },
    "language_info": {
      "name": "python"
    }
  },
  "cells": [
    {
      "cell_type": "markdown",
      "metadata": {
        "id": "view-in-github",
        "colab_type": "text"
      },
      "source": [
        "<a href=\"https://colab.research.google.com/github/rymarinelli/Python/blob/master/Advent_of_Code_1.ipynb\" target=\"_parent\"><img src=\"https://colab.research.google.com/assets/colab-badge.svg\" alt=\"Open In Colab\"/></a>"
      ]
    },
    {
      "cell_type": "code",
      "execution_count": 1,
      "metadata": {
        "id": "RlvQl6A06OEg"
      },
      "outputs": [],
      "source": [
        "with open('/content/dayOne.txt', 'r') as file:\n",
        "    content = file.read()\n",
        "file.close()"
      ]
    },
    {
      "cell_type": "code",
      "source": [
        "import re\n",
        "\n",
        "val = 0\n",
        "for line in content.splitlines():\n",
        "  match = re.search(r'\\d', line)\n",
        "  if match:\n",
        "    digits = match.group()\n",
        "    digits = int(digits[0] + digits[-1])\n",
        "    digits = int(digits)\n",
        "    val += digits\n",
        "print(val)"
      ],
      "metadata": {
        "colab": {
          "base_uri": "https://localhost:8080/"
        },
        "id": "C5xkHhAG7emF",
        "outputId": "14966c76-1523-450d-c12b-23a7093b0daa"
      },
      "execution_count": 34,
      "outputs": [
        {
          "output_type": "stream",
          "name": "stdout",
          "text": [
            "55517\n"
          ]
        }
      ]
    },
    {
      "cell_type": "code",
      "source": [
        "import re\n",
        "\n",
        "# Function to extract the first and last digits and sum them up\n",
        "def sum_calibration_values(content):\n",
        "    # Split the content into lines\n",
        "    lines = content.splitlines()\n",
        "\n",
        "    # Initialize the sum\n",
        "    total_sum = 0\n",
        "\n",
        "    # Iterate over each line\n",
        "    for line in lines:\n",
        "        # Find all digits in the line\n",
        "        digits = re.findall(r'\\d', line)\n",
        "        if digits:\n",
        "            # Take the first and last digits to form a two-digit number\n",
        "            calibration_value = int(digits[0] + digits[-1])\n",
        "            total_sum += calibration_value\n",
        "\n",
        "    return total_sum\n",
        "\n",
        "# Calculate the total sum of calibration values\n",
        "total_sum = sum_calibration_values(content)\n",
        "print(f\"Total Sum of Calibration Values: {total_sum}\")\n"
      ],
      "metadata": {
        "colab": {
          "base_uri": "https://localhost:8080/"
        },
        "id": "mKPxbilEZ3a_",
        "outputId": "50515708-24bd-425c-b83b-de6ca9e1a9a9"
      },
      "execution_count": 20,
      "outputs": [
        {
          "output_type": "stream",
          "name": "stdout",
          "text": [
            "Total Sum of Calibration Values: 55538\n"
          ]
        }
      ]
    }
  ]
}