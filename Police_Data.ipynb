{
  "nbformat": 4,
  "nbformat_minor": 0,
  "metadata": {
    "colab": {
      "name": "Police Data",
      "provenance": [],
      "collapsed_sections": [],
      "authorship_tag": "ABX9TyNL4/rVq4uSwiqzxpmub9S+",
      "include_colab_link": true
    },
    "kernelspec": {
      "name": "python3",
      "display_name": "Python 3"
    }
  },
  "cells": [
    {
      "cell_type": "markdown",
      "metadata": {
        "id": "view-in-github",
        "colab_type": "text"
      },
      "source": [
        "<a href=\"https://colab.research.google.com/github/rymarinelli/Python/blob/master/Police_Data.ipynb\" target=\"_parent\"><img src=\"https://colab.research.google.com/assets/colab-badge.svg\" alt=\"Open In Colab\"/></a>"
      ]
    },
    {
      "cell_type": "code",
      "metadata": {
        "id": "aSsv-IfTy0GI",
        "colab_type": "code",
        "colab": {}
      },
      "source": [
        "import pandas as pd\n",
        "from time import sleep\n",
        "import time \n",
        "from threading import *"
      ],
      "execution_count": 1,
      "outputs": []
    },
    {
      "cell_type": "code",
      "metadata": {
        "id": "uslRKdJQ9_Fi",
        "colab_type": "code",
        "colab": {
          "base_uri": "https://localhost:8080/",
          "height": 50
        },
        "outputId": "c5017887-7f11-4ac9-9ec4-eb030613f581"
      },
      "source": [
        "!pip install pyspark \n",
        "from pyspark import SparkConf, SparkContext\n",
        "from pyspark.sql import SQLContext\n",
        "from pyspark.sql.types import StringType"
      ],
      "execution_count": 2,
      "outputs": [
        {
          "output_type": "stream",
          "text": [
            "Requirement already satisfied: pyspark in /usr/local/lib/python3.6/dist-packages (3.0.0)\n",
            "Requirement already satisfied: py4j==0.10.9 in /usr/local/lib/python3.6/dist-packages (from pyspark) (0.10.9)\n"
          ],
          "name": "stdout"
        }
      ]
    },
    {
      "cell_type": "code",
      "metadata": {
        "id": "xwMvNmiJ0ntR",
        "colab_type": "code",
        "colab": {}
      },
      "source": [
        "import plotly.express as px\n",
        "import pyspark.sql.functions as f\n",
        "from pyspark.sql.functions import desc\n",
        "from pyspark.sql.functions import col,concat, lit"
      ],
      "execution_count": 3,
      "outputs": []
    },
    {
      "cell_type": "code",
      "metadata": {
        "id": "QUUjeHNis_vA",
        "colab_type": "code",
        "colab": {}
      },
      "source": [
        "file = \"https://raw.githubusercontent.com/rymarinelli/Python/master/Tidy%20Tuesday/Data/allegations_202007271729.csv\""
      ],
      "execution_count": 4,
      "outputs": []
    },
    {
      "cell_type": "code",
      "metadata": {
        "id": "9VVPHVd2AKbh",
        "colab_type": "code",
        "colab": {}
      },
      "source": [
        "conf = SparkConf().setMaster(\"local\").setAppName(\"Police_Analysis\")\n",
        "conf.set(\"spark.scheduler.mode\", \"FAIR\")\n",
        "sc = SparkContext(conf = conf)\n",
        "sqlContext = SQLContext(sc)"
      ],
      "execution_count": 5,
      "outputs": []
    },
    {
      "cell_type": "code",
      "metadata": {
        "id": "TPrnekejU1oz",
        "colab_type": "code",
        "colab": {}
      },
      "source": [
        "def set_spark_context(app_name=None):\n",
        "    conf = SparkConf().\\\n",
        "            setAppName(app_name).\\\n",
        "            set('spark.hadoop.mapreduce.output.fileoutputformat.compress', 'false').\\\n",
        "            set('spark.sql.parquet.compression.codec','uncompressed').\\\n",
        "            set('spark.scheduler.mode','FAIR') # need to set this on the sparkContext\n",
        "    sc = SparkContext(conf=conf)\n",
        "    try:\n",
        "        sc._jvm.org.apache.hadoop.hive.conf.HiveConf()\n",
        "        sqlCtx = sqlContext = HiveContext(sc)\n",
        "    except py4j.protocol.Py4JError:\n",
        "        sqlCtx = sqlContext = SQLContext(sc)\n",
        "    return sc, sqlContext"
      ],
      "execution_count": 6,
      "outputs": []
    },
    {
      "cell_type": "code",
      "metadata": {
        "id": "HUmgSISy6IN2",
        "colab_type": "code",
        "colab": {}
      },
      "source": [
        "df = pd.read_csv(file, error_bad_lines=False)\n",
        "df.to_csv(\"data.csv\")\n"
      ],
      "execution_count": 7,
      "outputs": []
    },
    {
      "cell_type": "code",
      "metadata": {
        "id": "1XBy8eMHNLpa",
        "colab_type": "code",
        "colab": {}
      },
      "source": [
        "df = sqlContext.read.csv(\"/content/data.csv\", header= True)"
      ],
      "execution_count": 8,
      "outputs": []
    },
    {
      "cell_type": "code",
      "metadata": {
        "id": "OjhjI0Afj-_x",
        "colab_type": "code",
        "colab": {}
      },
      "source": [
        "# month and year \n",
        "# rank_now\n",
        "# rank_incident\n",
        "# complainant_ethnicity\n",
        "# complainant_gender\n",
        "# allegation \n",
        "# board_disposition\n",
        "\n",
        "# Questions \n",
        "# Are people getting promoted that have violated policy?\n",
        "# Are there habitual offenders? \n",
        "# How does the board respond?\n",
        "# Is the board more or less likely to substanitate a compliant based on gender or ethnicity of person giving the compliant. \n",
        "# How do rates of compliants vary over time? \n",
        "\n"
      ],
      "execution_count": 9,
      "outputs": []
    },
    {
      "cell_type": "code",
      "metadata": {
        "id": "HlwJvrPxNLoQ",
        "colab_type": "code",
        "colab": {}
      },
      "source": [
        "df = df.select(\"unique_mos_id\", \"rank_now\",\"rank_incident\",\"complainant_ethnicity\",\"complainant_age_incident\",\"complainant_gender\",\"allegation\",\"board_disposition\")"
      ],
      "execution_count": 10,
      "outputs": []
    },
    {
      "cell_type": "code",
      "metadata": {
        "id": "BcPdwxELtN41",
        "colab_type": "code",
        "colab": {
          "base_uri": "https://localhost:8080/",
          "height": 218
        },
        "outputId": "8022e874-9a47-4da1-f20c-405f5bb820dc"
      },
      "source": [
        "habit = df.groupBy(\"unique_mos_id\",\"allegation\").count()\n",
        "habit.agg({'count':'max'}).show()\n",
        "habit.agg({'count':'mean'}).show()"
      ],
      "execution_count": 11,
      "outputs": [
        {
          "output_type": "stream",
          "text": [
            "+----------+\n",
            "|max(count)|\n",
            "+----------+\n",
            "|        15|\n",
            "+----------+\n",
            "\n",
            "+------------------+\n",
            "|        avg(count)|\n",
            "+------------------+\n",
            "|1.4538243626062324|\n",
            "+------------------+\n",
            "\n"
          ],
          "name": "stdout"
        }
      ]
    },
    {
      "cell_type": "code",
      "metadata": {
        "id": "CZt9Encd4UlN",
        "colab_type": "code",
        "colab": {}
      },
      "source": [
        "habit = habit.filter(habit[2] > 4)\n"
      ],
      "execution_count": 12,
      "outputs": []
    },
    {
      "cell_type": "code",
      "metadata": {
        "id": "o6Q7bG1d0pte",
        "colab_type": "code",
        "colab": {
          "base_uri": "https://localhost:8080/",
          "height": 542
        },
        "outputId": "2b832d36-2775-4b82-d682-fa770159c1db"
      },
      "source": [
        "df = habit.toPandas()\n",
        "fig = px.box(df, y=\"count\")\n",
        "fig.show()"
      ],
      "execution_count": 13,
      "outputs": [
        {
          "output_type": "display_data",
          "data": {
            "text/html": [
              "<html>\n",
              "<head><meta charset=\"utf-8\" /></head>\n",
              "<body>\n",
              "    <div>\n",
              "            <script src=\"https://cdnjs.cloudflare.com/ajax/libs/mathjax/2.7.5/MathJax.js?config=TeX-AMS-MML_SVG\"></script><script type=\"text/javascript\">if (window.MathJax) {MathJax.Hub.Config({SVG: {font: \"STIX-Web\"}});}</script>\n",
              "                <script type=\"text/javascript\">window.PlotlyConfig = {MathJaxConfig: 'local'};</script>\n",
              "        <script src=\"https://cdn.plot.ly/plotly-latest.min.js\"></script>    \n",
              "            <div id=\"689ac0ec-d124-4b56-996e-5d4d792feef2\" class=\"plotly-graph-div\" style=\"height:525px; width:100%;\"></div>\n",
              "            <script type=\"text/javascript\">\n",
              "                \n",
              "                    window.PLOTLYENV=window.PLOTLYENV || {};\n",
              "                    \n",
              "                if (document.getElementById(\"689ac0ec-d124-4b56-996e-5d4d792feef2\")) {\n",
              "                    Plotly.newPlot(\n",
              "                        '689ac0ec-d124-4b56-996e-5d4d792feef2',\n",
              "                        [{\"alignmentgroup\": \"True\", \"hoverlabel\": {\"namelength\": 0}, \"hovertemplate\": \"count=%{y}\", \"legendgroup\": \"\", \"marker\": {\"color\": \"#636efa\"}, \"name\": \"\", \"notched\": false, \"offsetgroup\": \"\", \"orientation\": \"v\", \"showlegend\": false, \"type\": \"box\", \"x0\": \" \", \"xaxis\": \"x\", \"y\": [5, 6, 5, 7, 5, 5, 5, 5, 5, 5, 6, 5, 6, 5, 5, 9, 5, 5, 5, 5, 5, 8, 5, 5, 8, 5, 5, 8, 5, 8, 10, 5, 5, 5, 6, 5, 5, 5, 5, 5, 5, 6, 5, 5, 7, 5, 10, 5, 6, 6, 5, 9, 5, 6, 6, 6, 5, 7, 8, 6, 5, 8, 5, 5, 7, 5, 5, 5, 5, 5, 6, 7, 6, 5, 5, 6, 6, 5, 12, 7, 5, 6, 5, 5, 5, 5, 5, 6, 8, 6, 5, 5, 5, 5, 6, 5, 13, 5, 5, 7, 5, 8, 5, 6, 5, 5, 5, 5, 7, 6, 5, 6, 6, 5, 6, 6, 13, 6, 6, 5, 6, 7, 9, 5, 5, 5, 5, 9, 10, 7, 6, 5, 5, 9, 5, 6, 5, 9, 6, 8, 5, 5, 5, 5, 5, 5, 7, 5, 7, 10, 5, 7, 5, 5, 5, 7, 8, 9, 10, 7, 6, 7, 5, 7, 5, 5, 6, 5, 6, 5, 6, 7, 5, 5, 5, 6, 5, 5, 5, 7, 5, 8, 9, 5, 11, 5, 7, 5, 8, 5, 5, 14, 5, 5, 6, 6, 7, 6, 5, 6, 5, 5, 5, 5, 5, 5, 5, 5, 6, 5, 5, 6, 7, 7, 7, 6, 9, 7, 7, 5, 5, 6, 5, 5, 10, 12, 5, 5, 7, 7, 7, 6, 7, 5, 7, 5, 6, 5, 5, 7, 5, 5, 15, 7, 7, 5, 5, 13, 7, 6, 6, 6, 8, 5, 5, 7, 5, 6, 7, 8, 6, 7, 5, 6, 6, 5, 5, 7, 5, 5, 8, 7, 5, 7, 6, 11, 8, 7, 5, 8, 5, 6, 6, 5, 5, 5, 5, 5, 7, 5, 5, 7, 5, 6, 5, 8, 7, 7, 5, 5, 6, 5, 5, 5, 6, 6, 5, 5, 5, 6, 6, 5, 8, 5, 6, 5, 5, 6, 5, 6, 5, 7, 6, 6, 8, 8, 9, 13, 5, 5, 7, 5, 5, 5, 7, 5, 12, 6, 5, 5, 5, 6, 6, 6, 5, 5, 6, 5, 5, 9, 5, 7, 5, 6, 5, 8, 5, 6, 7, 5, 5, 5, 5, 5, 5, 5, 9, 5, 5, 8, 7, 5, 5, 9, 6, 7, 6, 7, 8, 6, 6, 5, 10, 6, 5, 7, 5, 6, 5, 5, 5, 5, 5, 9, 5, 12, 5, 7, 6, 7, 8, 5, 5, 5, 6, 5, 6, 6, 7, 12, 6, 6, 5, 7, 5, 8, 5, 6, 8, 5, 5, 6, 5, 6, 7, 5, 7, 5, 5, 7, 8, 7, 5, 5, 6, 7, 6, 5, 8, 5, 8, 8, 6, 6, 6, 6, 5, 7, 5, 6, 7, 6, 8, 6, 5, 7, 6, 6, 5, 5, 5, 6, 6, 5, 5, 9, 6, 5, 5, 5, 5, 6, 9, 6, 5, 5, 6, 5, 5, 5, 5, 5], \"y0\": \" \", \"yaxis\": \"y\"}],\n",
              "                        {\"boxmode\": \"group\", \"legend\": {\"tracegroupgap\": 0}, \"margin\": {\"t\": 60}, \"template\": {\"data\": {\"bar\": [{\"error_x\": {\"color\": \"#2a3f5f\"}, \"error_y\": {\"color\": \"#2a3f5f\"}, \"marker\": {\"line\": {\"color\": \"#E5ECF6\", \"width\": 0.5}}, \"type\": \"bar\"}], \"barpolar\": [{\"marker\": {\"line\": {\"color\": \"#E5ECF6\", \"width\": 0.5}}, \"type\": \"barpolar\"}], \"carpet\": [{\"aaxis\": {\"endlinecolor\": \"#2a3f5f\", \"gridcolor\": \"white\", \"linecolor\": \"white\", \"minorgridcolor\": \"white\", \"startlinecolor\": \"#2a3f5f\"}, \"baxis\": {\"endlinecolor\": \"#2a3f5f\", \"gridcolor\": \"white\", \"linecolor\": \"white\", \"minorgridcolor\": \"white\", \"startlinecolor\": \"#2a3f5f\"}, \"type\": \"carpet\"}], \"choropleth\": [{\"colorbar\": {\"outlinewidth\": 0, \"ticks\": \"\"}, \"type\": \"choropleth\"}], \"contour\": [{\"colorbar\": {\"outlinewidth\": 0, \"ticks\": \"\"}, \"colorscale\": [[0.0, \"#0d0887\"], [0.1111111111111111, \"#46039f\"], [0.2222222222222222, \"#7201a8\"], [0.3333333333333333, \"#9c179e\"], [0.4444444444444444, \"#bd3786\"], [0.5555555555555556, \"#d8576b\"], [0.6666666666666666, \"#ed7953\"], [0.7777777777777778, \"#fb9f3a\"], [0.8888888888888888, \"#fdca26\"], [1.0, \"#f0f921\"]], \"type\": \"contour\"}], \"contourcarpet\": [{\"colorbar\": {\"outlinewidth\": 0, \"ticks\": \"\"}, \"type\": \"contourcarpet\"}], \"heatmap\": [{\"colorbar\": {\"outlinewidth\": 0, \"ticks\": \"\"}, \"colorscale\": [[0.0, \"#0d0887\"], [0.1111111111111111, \"#46039f\"], [0.2222222222222222, \"#7201a8\"], [0.3333333333333333, \"#9c179e\"], [0.4444444444444444, \"#bd3786\"], [0.5555555555555556, \"#d8576b\"], [0.6666666666666666, \"#ed7953\"], [0.7777777777777778, \"#fb9f3a\"], [0.8888888888888888, \"#fdca26\"], [1.0, \"#f0f921\"]], \"type\": \"heatmap\"}], \"heatmapgl\": [{\"colorbar\": {\"outlinewidth\": 0, \"ticks\": \"\"}, \"colorscale\": [[0.0, \"#0d0887\"], [0.1111111111111111, \"#46039f\"], [0.2222222222222222, \"#7201a8\"], [0.3333333333333333, \"#9c179e\"], [0.4444444444444444, \"#bd3786\"], [0.5555555555555556, \"#d8576b\"], [0.6666666666666666, \"#ed7953\"], [0.7777777777777778, \"#fb9f3a\"], [0.8888888888888888, \"#fdca26\"], [1.0, \"#f0f921\"]], \"type\": \"heatmapgl\"}], \"histogram\": [{\"marker\": {\"colorbar\": {\"outlinewidth\": 0, \"ticks\": \"\"}}, \"type\": \"histogram\"}], \"histogram2d\": [{\"colorbar\": {\"outlinewidth\": 0, \"ticks\": \"\"}, \"colorscale\": [[0.0, \"#0d0887\"], [0.1111111111111111, \"#46039f\"], [0.2222222222222222, \"#7201a8\"], [0.3333333333333333, \"#9c179e\"], [0.4444444444444444, \"#bd3786\"], [0.5555555555555556, \"#d8576b\"], [0.6666666666666666, \"#ed7953\"], [0.7777777777777778, \"#fb9f3a\"], [0.8888888888888888, \"#fdca26\"], [1.0, \"#f0f921\"]], \"type\": \"histogram2d\"}], \"histogram2dcontour\": [{\"colorbar\": {\"outlinewidth\": 0, \"ticks\": \"\"}, \"colorscale\": [[0.0, \"#0d0887\"], [0.1111111111111111, \"#46039f\"], [0.2222222222222222, \"#7201a8\"], [0.3333333333333333, \"#9c179e\"], [0.4444444444444444, \"#bd3786\"], [0.5555555555555556, \"#d8576b\"], [0.6666666666666666, \"#ed7953\"], [0.7777777777777778, \"#fb9f3a\"], [0.8888888888888888, \"#fdca26\"], [1.0, \"#f0f921\"]], \"type\": \"histogram2dcontour\"}], \"mesh3d\": [{\"colorbar\": {\"outlinewidth\": 0, \"ticks\": \"\"}, \"type\": \"mesh3d\"}], \"parcoords\": [{\"line\": {\"colorbar\": {\"outlinewidth\": 0, \"ticks\": \"\"}}, \"type\": \"parcoords\"}], \"pie\": [{\"automargin\": true, \"type\": \"pie\"}], \"scatter\": [{\"marker\": {\"colorbar\": {\"outlinewidth\": 0, \"ticks\": \"\"}}, \"type\": \"scatter\"}], \"scatter3d\": [{\"line\": {\"colorbar\": {\"outlinewidth\": 0, \"ticks\": \"\"}}, \"marker\": {\"colorbar\": {\"outlinewidth\": 0, \"ticks\": \"\"}}, \"type\": \"scatter3d\"}], \"scattercarpet\": [{\"marker\": {\"colorbar\": {\"outlinewidth\": 0, \"ticks\": \"\"}}, \"type\": \"scattercarpet\"}], \"scattergeo\": [{\"marker\": {\"colorbar\": {\"outlinewidth\": 0, \"ticks\": \"\"}}, \"type\": \"scattergeo\"}], \"scattergl\": [{\"marker\": {\"colorbar\": {\"outlinewidth\": 0, \"ticks\": \"\"}}, \"type\": \"scattergl\"}], \"scattermapbox\": [{\"marker\": {\"colorbar\": {\"outlinewidth\": 0, \"ticks\": \"\"}}, \"type\": \"scattermapbox\"}], \"scatterpolar\": [{\"marker\": {\"colorbar\": {\"outlinewidth\": 0, \"ticks\": \"\"}}, \"type\": \"scatterpolar\"}], \"scatterpolargl\": [{\"marker\": {\"colorbar\": {\"outlinewidth\": 0, \"ticks\": \"\"}}, \"type\": \"scatterpolargl\"}], \"scatterternary\": [{\"marker\": {\"colorbar\": {\"outlinewidth\": 0, \"ticks\": \"\"}}, \"type\": \"scatterternary\"}], \"surface\": [{\"colorbar\": {\"outlinewidth\": 0, \"ticks\": \"\"}, \"colorscale\": [[0.0, \"#0d0887\"], [0.1111111111111111, \"#46039f\"], [0.2222222222222222, \"#7201a8\"], [0.3333333333333333, \"#9c179e\"], [0.4444444444444444, \"#bd3786\"], [0.5555555555555556, \"#d8576b\"], [0.6666666666666666, \"#ed7953\"], [0.7777777777777778, \"#fb9f3a\"], [0.8888888888888888, \"#fdca26\"], [1.0, \"#f0f921\"]], \"type\": \"surface\"}], \"table\": [{\"cells\": {\"fill\": {\"color\": \"#EBF0F8\"}, \"line\": {\"color\": \"white\"}}, \"header\": {\"fill\": {\"color\": \"#C8D4E3\"}, \"line\": {\"color\": \"white\"}}, \"type\": \"table\"}]}, \"layout\": {\"annotationdefaults\": {\"arrowcolor\": \"#2a3f5f\", \"arrowhead\": 0, \"arrowwidth\": 1}, \"coloraxis\": {\"colorbar\": {\"outlinewidth\": 0, \"ticks\": \"\"}}, \"colorscale\": {\"diverging\": [[0, \"#8e0152\"], [0.1, \"#c51b7d\"], [0.2, \"#de77ae\"], [0.3, \"#f1b6da\"], [0.4, \"#fde0ef\"], [0.5, \"#f7f7f7\"], [0.6, \"#e6f5d0\"], [0.7, \"#b8e186\"], [0.8, \"#7fbc41\"], [0.9, \"#4d9221\"], [1, \"#276419\"]], \"sequential\": [[0.0, \"#0d0887\"], [0.1111111111111111, \"#46039f\"], [0.2222222222222222, \"#7201a8\"], [0.3333333333333333, \"#9c179e\"], [0.4444444444444444, \"#bd3786\"], [0.5555555555555556, \"#d8576b\"], [0.6666666666666666, \"#ed7953\"], [0.7777777777777778, \"#fb9f3a\"], [0.8888888888888888, \"#fdca26\"], [1.0, \"#f0f921\"]], \"sequentialminus\": [[0.0, \"#0d0887\"], [0.1111111111111111, \"#46039f\"], [0.2222222222222222, \"#7201a8\"], [0.3333333333333333, \"#9c179e\"], [0.4444444444444444, \"#bd3786\"], [0.5555555555555556, \"#d8576b\"], [0.6666666666666666, \"#ed7953\"], [0.7777777777777778, \"#fb9f3a\"], [0.8888888888888888, \"#fdca26\"], [1.0, \"#f0f921\"]]}, \"colorway\": [\"#636efa\", \"#EF553B\", \"#00cc96\", \"#ab63fa\", \"#FFA15A\", \"#19d3f3\", \"#FF6692\", \"#B6E880\", \"#FF97FF\", \"#FECB52\"], \"font\": {\"color\": \"#2a3f5f\"}, \"geo\": {\"bgcolor\": \"white\", \"lakecolor\": \"white\", \"landcolor\": \"#E5ECF6\", \"showlakes\": true, \"showland\": true, \"subunitcolor\": \"white\"}, \"hoverlabel\": {\"align\": \"left\"}, \"hovermode\": \"closest\", \"mapbox\": {\"style\": \"light\"}, \"paper_bgcolor\": \"white\", \"plot_bgcolor\": \"#E5ECF6\", \"polar\": {\"angularaxis\": {\"gridcolor\": \"white\", \"linecolor\": \"white\", \"ticks\": \"\"}, \"bgcolor\": \"#E5ECF6\", \"radialaxis\": {\"gridcolor\": \"white\", \"linecolor\": \"white\", \"ticks\": \"\"}}, \"scene\": {\"xaxis\": {\"backgroundcolor\": \"#E5ECF6\", \"gridcolor\": \"white\", \"gridwidth\": 2, \"linecolor\": \"white\", \"showbackground\": true, \"ticks\": \"\", \"zerolinecolor\": \"white\"}, \"yaxis\": {\"backgroundcolor\": \"#E5ECF6\", \"gridcolor\": \"white\", \"gridwidth\": 2, \"linecolor\": \"white\", \"showbackground\": true, \"ticks\": \"\", \"zerolinecolor\": \"white\"}, \"zaxis\": {\"backgroundcolor\": \"#E5ECF6\", \"gridcolor\": \"white\", \"gridwidth\": 2, \"linecolor\": \"white\", \"showbackground\": true, \"ticks\": \"\", \"zerolinecolor\": \"white\"}}, \"shapedefaults\": {\"line\": {\"color\": \"#2a3f5f\"}}, \"ternary\": {\"aaxis\": {\"gridcolor\": \"white\", \"linecolor\": \"white\", \"ticks\": \"\"}, \"baxis\": {\"gridcolor\": \"white\", \"linecolor\": \"white\", \"ticks\": \"\"}, \"bgcolor\": \"#E5ECF6\", \"caxis\": {\"gridcolor\": \"white\", \"linecolor\": \"white\", \"ticks\": \"\"}}, \"title\": {\"x\": 0.05}, \"xaxis\": {\"automargin\": true, \"gridcolor\": \"white\", \"linecolor\": \"white\", \"ticks\": \"\", \"title\": {\"standoff\": 15}, \"zerolinecolor\": \"white\", \"zerolinewidth\": 2}, \"yaxis\": {\"automargin\": true, \"gridcolor\": \"white\", \"linecolor\": \"white\", \"ticks\": \"\", \"title\": {\"standoff\": 15}, \"zerolinecolor\": \"white\", \"zerolinewidth\": 2}}}, \"xaxis\": {\"anchor\": \"y\", \"domain\": [0.0, 1.0]}, \"yaxis\": {\"anchor\": \"x\", \"domain\": [0.0, 1.0], \"title\": {\"text\": \"count\"}}},\n",
              "                        {\"responsive\": true}\n",
              "                    ).then(function(){\n",
              "                            \n",
              "var gd = document.getElementById('689ac0ec-d124-4b56-996e-5d4d792feef2');\n",
              "var x = new MutationObserver(function (mutations, observer) {{\n",
              "        var display = window.getComputedStyle(gd).display;\n",
              "        if (!display || display === 'none') {{\n",
              "            console.log([gd, 'removed!']);\n",
              "            Plotly.purge(gd);\n",
              "            observer.disconnect();\n",
              "        }}\n",
              "}});\n",
              "\n",
              "// Listen for the removal of the full notebook cells\n",
              "var notebookContainer = gd.closest('#notebook-container');\n",
              "if (notebookContainer) {{\n",
              "    x.observe(notebookContainer, {childList: true});\n",
              "}}\n",
              "\n",
              "// Listen for the clearing of the current output cell\n",
              "var outputEl = gd.closest('.output');\n",
              "if (outputEl) {{\n",
              "    x.observe(outputEl, {childList: true});\n",
              "}}\n",
              "\n",
              "                        })\n",
              "                };\n",
              "                \n",
              "            </script>\n",
              "        </div>\n",
              "</body>\n",
              "</html>"
            ]
          },
          "metadata": {
            "tags": []
          }
        }
      ]
    },
    {
      "cell_type": "code",
      "metadata": {
        "id": "pefzDBB887yl",
        "colab_type": "code",
        "colab": {
          "base_uri": "https://localhost:8080/",
          "height": 67
        },
        "outputId": "82134906-16a2-461e-ac8a-29173d56bb9a"
      },
      "source": [
        "df.median()"
      ],
      "execution_count": 14,
      "outputs": [
        {
          "output_type": "execute_result",
          "data": {
            "text/plain": [
              "unique_mos_id    19602.0\n",
              "count                5.5\n",
              "dtype: float64"
            ]
          },
          "metadata": {
            "tags": []
          },
          "execution_count": 14
        }
      ]
    },
    {
      "cell_type": "markdown",
      "metadata": {
        "id": "hHiPxrRp8-6s",
        "colab_type": "text"
      },
      "source": [
        "The average of the total data is around 1.5. When you remove officers that have 4 or less, then the extremes become more pronounced. When removing the subset of officers with fewer compliants, the median becomes 5.5. "
      ]
    },
    {
      "cell_type": "code",
      "metadata": {
        "id": "vsKTKLylAto-",
        "colab_type": "code",
        "colab": {
          "base_uri": "https://localhost:8080/",
          "height": 542
        },
        "outputId": "2da1d3f9-fad1-44c8-c8c1-2d587fe8fe52"
      },
      "source": [
        "habit = habit.filter(habit[2] > 10)\n",
        "df = habit.toPandas()\n",
        "fig = px.box(df, y=\"count\")\n",
        "fig.show()"
      ],
      "execution_count": 15,
      "outputs": [
        {
          "output_type": "display_data",
          "data": {
            "text/html": [
              "<html>\n",
              "<head><meta charset=\"utf-8\" /></head>\n",
              "<body>\n",
              "    <div>\n",
              "            <script src=\"https://cdnjs.cloudflare.com/ajax/libs/mathjax/2.7.5/MathJax.js?config=TeX-AMS-MML_SVG\"></script><script type=\"text/javascript\">if (window.MathJax) {MathJax.Hub.Config({SVG: {font: \"STIX-Web\"}});}</script>\n",
              "                <script type=\"text/javascript\">window.PlotlyConfig = {MathJaxConfig: 'local'};</script>\n",
              "        <script src=\"https://cdn.plot.ly/plotly-latest.min.js\"></script>    \n",
              "            <div id=\"6ac37efa-9434-47f1-82fb-64210a17c9d8\" class=\"plotly-graph-div\" style=\"height:525px; width:100%;\"></div>\n",
              "            <script type=\"text/javascript\">\n",
              "                \n",
              "                    window.PLOTLYENV=window.PLOTLYENV || {};\n",
              "                    \n",
              "                if (document.getElementById(\"6ac37efa-9434-47f1-82fb-64210a17c9d8\")) {\n",
              "                    Plotly.newPlot(\n",
              "                        '6ac37efa-9434-47f1-82fb-64210a17c9d8',\n",
              "                        [{\"alignmentgroup\": \"True\", \"hoverlabel\": {\"namelength\": 0}, \"hovertemplate\": \"count=%{y}\", \"legendgroup\": \"\", \"marker\": {\"color\": \"#636efa\"}, \"name\": \"\", \"notched\": false, \"offsetgroup\": \"\", \"orientation\": \"v\", \"showlegend\": false, \"type\": \"box\", \"x0\": \" \", \"xaxis\": \"x\", \"y\": [12, 13, 13, 11, 14, 12, 15, 13, 11, 13, 12, 12, 12], \"y0\": \" \", \"yaxis\": \"y\"}],\n",
              "                        {\"boxmode\": \"group\", \"legend\": {\"tracegroupgap\": 0}, \"margin\": {\"t\": 60}, \"template\": {\"data\": {\"bar\": [{\"error_x\": {\"color\": \"#2a3f5f\"}, \"error_y\": {\"color\": \"#2a3f5f\"}, \"marker\": {\"line\": {\"color\": \"#E5ECF6\", \"width\": 0.5}}, \"type\": \"bar\"}], \"barpolar\": [{\"marker\": {\"line\": {\"color\": \"#E5ECF6\", \"width\": 0.5}}, \"type\": \"barpolar\"}], \"carpet\": [{\"aaxis\": {\"endlinecolor\": \"#2a3f5f\", \"gridcolor\": \"white\", \"linecolor\": \"white\", \"minorgridcolor\": \"white\", \"startlinecolor\": \"#2a3f5f\"}, \"baxis\": {\"endlinecolor\": \"#2a3f5f\", \"gridcolor\": \"white\", \"linecolor\": \"white\", \"minorgridcolor\": \"white\", \"startlinecolor\": \"#2a3f5f\"}, \"type\": \"carpet\"}], \"choropleth\": [{\"colorbar\": {\"outlinewidth\": 0, \"ticks\": \"\"}, \"type\": \"choropleth\"}], \"contour\": [{\"colorbar\": {\"outlinewidth\": 0, \"ticks\": \"\"}, \"colorscale\": [[0.0, \"#0d0887\"], [0.1111111111111111, \"#46039f\"], [0.2222222222222222, \"#7201a8\"], [0.3333333333333333, \"#9c179e\"], [0.4444444444444444, \"#bd3786\"], [0.5555555555555556, \"#d8576b\"], [0.6666666666666666, \"#ed7953\"], [0.7777777777777778, \"#fb9f3a\"], [0.8888888888888888, \"#fdca26\"], [1.0, \"#f0f921\"]], \"type\": \"contour\"}], \"contourcarpet\": [{\"colorbar\": {\"outlinewidth\": 0, \"ticks\": \"\"}, \"type\": \"contourcarpet\"}], \"heatmap\": [{\"colorbar\": {\"outlinewidth\": 0, \"ticks\": \"\"}, \"colorscale\": [[0.0, \"#0d0887\"], [0.1111111111111111, \"#46039f\"], [0.2222222222222222, \"#7201a8\"], [0.3333333333333333, \"#9c179e\"], [0.4444444444444444, \"#bd3786\"], [0.5555555555555556, \"#d8576b\"], [0.6666666666666666, \"#ed7953\"], [0.7777777777777778, \"#fb9f3a\"], [0.8888888888888888, \"#fdca26\"], [1.0, \"#f0f921\"]], \"type\": \"heatmap\"}], \"heatmapgl\": [{\"colorbar\": {\"outlinewidth\": 0, \"ticks\": \"\"}, \"colorscale\": [[0.0, \"#0d0887\"], [0.1111111111111111, \"#46039f\"], [0.2222222222222222, \"#7201a8\"], [0.3333333333333333, \"#9c179e\"], [0.4444444444444444, \"#bd3786\"], [0.5555555555555556, \"#d8576b\"], [0.6666666666666666, \"#ed7953\"], [0.7777777777777778, \"#fb9f3a\"], [0.8888888888888888, \"#fdca26\"], [1.0, \"#f0f921\"]], \"type\": \"heatmapgl\"}], \"histogram\": [{\"marker\": {\"colorbar\": {\"outlinewidth\": 0, \"ticks\": \"\"}}, \"type\": \"histogram\"}], \"histogram2d\": [{\"colorbar\": {\"outlinewidth\": 0, \"ticks\": \"\"}, \"colorscale\": [[0.0, \"#0d0887\"], [0.1111111111111111, \"#46039f\"], [0.2222222222222222, \"#7201a8\"], [0.3333333333333333, \"#9c179e\"], [0.4444444444444444, \"#bd3786\"], [0.5555555555555556, \"#d8576b\"], [0.6666666666666666, \"#ed7953\"], [0.7777777777777778, \"#fb9f3a\"], [0.8888888888888888, \"#fdca26\"], [1.0, \"#f0f921\"]], \"type\": \"histogram2d\"}], \"histogram2dcontour\": [{\"colorbar\": {\"outlinewidth\": 0, \"ticks\": \"\"}, \"colorscale\": [[0.0, \"#0d0887\"], [0.1111111111111111, \"#46039f\"], [0.2222222222222222, \"#7201a8\"], [0.3333333333333333, \"#9c179e\"], [0.4444444444444444, \"#bd3786\"], [0.5555555555555556, \"#d8576b\"], [0.6666666666666666, \"#ed7953\"], [0.7777777777777778, \"#fb9f3a\"], [0.8888888888888888, \"#fdca26\"], [1.0, \"#f0f921\"]], \"type\": \"histogram2dcontour\"}], \"mesh3d\": [{\"colorbar\": {\"outlinewidth\": 0, \"ticks\": \"\"}, \"type\": \"mesh3d\"}], \"parcoords\": [{\"line\": {\"colorbar\": {\"outlinewidth\": 0, \"ticks\": \"\"}}, \"type\": \"parcoords\"}], \"pie\": [{\"automargin\": true, \"type\": \"pie\"}], \"scatter\": [{\"marker\": {\"colorbar\": {\"outlinewidth\": 0, \"ticks\": \"\"}}, \"type\": \"scatter\"}], \"scatter3d\": [{\"line\": {\"colorbar\": {\"outlinewidth\": 0, \"ticks\": \"\"}}, \"marker\": {\"colorbar\": {\"outlinewidth\": 0, \"ticks\": \"\"}}, \"type\": \"scatter3d\"}], \"scattercarpet\": [{\"marker\": {\"colorbar\": {\"outlinewidth\": 0, \"ticks\": \"\"}}, \"type\": \"scattercarpet\"}], \"scattergeo\": [{\"marker\": {\"colorbar\": {\"outlinewidth\": 0, \"ticks\": \"\"}}, \"type\": \"scattergeo\"}], \"scattergl\": [{\"marker\": {\"colorbar\": {\"outlinewidth\": 0, \"ticks\": \"\"}}, \"type\": \"scattergl\"}], \"scattermapbox\": [{\"marker\": {\"colorbar\": {\"outlinewidth\": 0, \"ticks\": \"\"}}, \"type\": \"scattermapbox\"}], \"scatterpolar\": [{\"marker\": {\"colorbar\": {\"outlinewidth\": 0, \"ticks\": \"\"}}, \"type\": \"scatterpolar\"}], \"scatterpolargl\": [{\"marker\": {\"colorbar\": {\"outlinewidth\": 0, \"ticks\": \"\"}}, \"type\": \"scatterpolargl\"}], \"scatterternary\": [{\"marker\": {\"colorbar\": {\"outlinewidth\": 0, \"ticks\": \"\"}}, \"type\": \"scatterternary\"}], \"surface\": [{\"colorbar\": {\"outlinewidth\": 0, \"ticks\": \"\"}, \"colorscale\": [[0.0, \"#0d0887\"], [0.1111111111111111, \"#46039f\"], [0.2222222222222222, \"#7201a8\"], [0.3333333333333333, \"#9c179e\"], [0.4444444444444444, \"#bd3786\"], [0.5555555555555556, \"#d8576b\"], [0.6666666666666666, \"#ed7953\"], [0.7777777777777778, \"#fb9f3a\"], [0.8888888888888888, \"#fdca26\"], [1.0, \"#f0f921\"]], \"type\": \"surface\"}], \"table\": [{\"cells\": {\"fill\": {\"color\": \"#EBF0F8\"}, \"line\": {\"color\": \"white\"}}, \"header\": {\"fill\": {\"color\": \"#C8D4E3\"}, \"line\": {\"color\": \"white\"}}, \"type\": \"table\"}]}, \"layout\": {\"annotationdefaults\": {\"arrowcolor\": \"#2a3f5f\", \"arrowhead\": 0, \"arrowwidth\": 1}, \"coloraxis\": {\"colorbar\": {\"outlinewidth\": 0, \"ticks\": \"\"}}, \"colorscale\": {\"diverging\": [[0, \"#8e0152\"], [0.1, \"#c51b7d\"], [0.2, \"#de77ae\"], [0.3, \"#f1b6da\"], [0.4, \"#fde0ef\"], [0.5, \"#f7f7f7\"], [0.6, \"#e6f5d0\"], [0.7, \"#b8e186\"], [0.8, \"#7fbc41\"], [0.9, \"#4d9221\"], [1, \"#276419\"]], \"sequential\": [[0.0, \"#0d0887\"], [0.1111111111111111, \"#46039f\"], [0.2222222222222222, \"#7201a8\"], [0.3333333333333333, \"#9c179e\"], [0.4444444444444444, \"#bd3786\"], [0.5555555555555556, \"#d8576b\"], [0.6666666666666666, \"#ed7953\"], [0.7777777777777778, \"#fb9f3a\"], [0.8888888888888888, \"#fdca26\"], [1.0, \"#f0f921\"]], \"sequentialminus\": [[0.0, \"#0d0887\"], [0.1111111111111111, \"#46039f\"], [0.2222222222222222, \"#7201a8\"], [0.3333333333333333, \"#9c179e\"], [0.4444444444444444, \"#bd3786\"], [0.5555555555555556, \"#d8576b\"], [0.6666666666666666, \"#ed7953\"], [0.7777777777777778, \"#fb9f3a\"], [0.8888888888888888, \"#fdca26\"], [1.0, \"#f0f921\"]]}, \"colorway\": [\"#636efa\", \"#EF553B\", \"#00cc96\", \"#ab63fa\", \"#FFA15A\", \"#19d3f3\", \"#FF6692\", \"#B6E880\", \"#FF97FF\", \"#FECB52\"], \"font\": {\"color\": \"#2a3f5f\"}, \"geo\": {\"bgcolor\": \"white\", \"lakecolor\": \"white\", \"landcolor\": \"#E5ECF6\", \"showlakes\": true, \"showland\": true, \"subunitcolor\": \"white\"}, \"hoverlabel\": {\"align\": \"left\"}, \"hovermode\": \"closest\", \"mapbox\": {\"style\": \"light\"}, \"paper_bgcolor\": \"white\", \"plot_bgcolor\": \"#E5ECF6\", \"polar\": {\"angularaxis\": {\"gridcolor\": \"white\", \"linecolor\": \"white\", \"ticks\": \"\"}, \"bgcolor\": \"#E5ECF6\", \"radialaxis\": {\"gridcolor\": \"white\", \"linecolor\": \"white\", \"ticks\": \"\"}}, \"scene\": {\"xaxis\": {\"backgroundcolor\": \"#E5ECF6\", \"gridcolor\": \"white\", \"gridwidth\": 2, \"linecolor\": \"white\", \"showbackground\": true, \"ticks\": \"\", \"zerolinecolor\": \"white\"}, \"yaxis\": {\"backgroundcolor\": \"#E5ECF6\", \"gridcolor\": \"white\", \"gridwidth\": 2, \"linecolor\": \"white\", \"showbackground\": true, \"ticks\": \"\", \"zerolinecolor\": \"white\"}, \"zaxis\": {\"backgroundcolor\": \"#E5ECF6\", \"gridcolor\": \"white\", \"gridwidth\": 2, \"linecolor\": \"white\", \"showbackground\": true, \"ticks\": \"\", \"zerolinecolor\": \"white\"}}, \"shapedefaults\": {\"line\": {\"color\": \"#2a3f5f\"}}, \"ternary\": {\"aaxis\": {\"gridcolor\": \"white\", \"linecolor\": \"white\", \"ticks\": \"\"}, \"baxis\": {\"gridcolor\": \"white\", \"linecolor\": \"white\", \"ticks\": \"\"}, \"bgcolor\": \"#E5ECF6\", \"caxis\": {\"gridcolor\": \"white\", \"linecolor\": \"white\", \"ticks\": \"\"}}, \"title\": {\"x\": 0.05}, \"xaxis\": {\"automargin\": true, \"gridcolor\": \"white\", \"linecolor\": \"white\", \"ticks\": \"\", \"title\": {\"standoff\": 15}, \"zerolinecolor\": \"white\", \"zerolinewidth\": 2}, \"yaxis\": {\"automargin\": true, \"gridcolor\": \"white\", \"linecolor\": \"white\", \"ticks\": \"\", \"title\": {\"standoff\": 15}, \"zerolinecolor\": \"white\", \"zerolinewidth\": 2}}}, \"xaxis\": {\"anchor\": \"y\", \"domain\": [0.0, 1.0]}, \"yaxis\": {\"anchor\": \"x\", \"domain\": [0.0, 1.0], \"title\": {\"text\": \"count\"}}},\n",
              "                        {\"responsive\": true}\n",
              "                    ).then(function(){\n",
              "                            \n",
              "var gd = document.getElementById('6ac37efa-9434-47f1-82fb-64210a17c9d8');\n",
              "var x = new MutationObserver(function (mutations, observer) {{\n",
              "        var display = window.getComputedStyle(gd).display;\n",
              "        if (!display || display === 'none') {{\n",
              "            console.log([gd, 'removed!']);\n",
              "            Plotly.purge(gd);\n",
              "            observer.disconnect();\n",
              "        }}\n",
              "}});\n",
              "\n",
              "// Listen for the removal of the full notebook cells\n",
              "var notebookContainer = gd.closest('#notebook-container');\n",
              "if (notebookContainer) {{\n",
              "    x.observe(notebookContainer, {childList: true});\n",
              "}}\n",
              "\n",
              "// Listen for the clearing of the current output cell\n",
              "var outputEl = gd.closest('.output');\n",
              "if (outputEl) {{\n",
              "    x.observe(outputEl, {childList: true});\n",
              "}}\n",
              "\n",
              "                        })\n",
              "                };\n",
              "                \n",
              "            </script>\n",
              "        </div>\n",
              "</body>\n",
              "</html>"
            ]
          },
          "metadata": {
            "tags": []
          }
        }
      ]
    },
    {
      "cell_type": "code",
      "metadata": {
        "id": "psHbOUixBW5a",
        "colab_type": "code",
        "colab": {
          "base_uri": "https://localhost:8080/",
          "height": 319
        },
        "outputId": "06692e55-c295-4cc1-e1ea-99d70228cbeb"
      },
      "source": [
        "df.plot.bar(x = 'unique_mos_id', y = 'count' )\n",
        "df.shape"
      ],
      "execution_count": 16,
      "outputs": [
        {
          "output_type": "execute_result",
          "data": {
            "text/plain": [
              "(13, 3)"
            ]
          },
          "metadata": {
            "tags": []
          },
          "execution_count": 16
        },
        {
          "output_type": "display_data",
          "data": {
            "image/png": "[encoded data removed]",
            "text/plain": [
              "<Figure size 432x288 with 1 Axes>"
            ]
          },
          "metadata": {
            "tags": [],
            "needs_background": "light"
          }
        }
      ]
    },
    {
      "cell_type": "code",
      "metadata": {
        "id": "pWnz5d4VCRME",
        "colab_type": "code",
        "colab": {
          "base_uri": "https://localhost:8080/",
          "height": 359
        },
        "outputId": "d2d13983-09eb-4ae4-9f73-ab647090e0d3"
      },
      "source": [
        "offencies = df.groupby('allegation').agg(\"sum\")\n",
        "offencies.plot.bar()"
      ],
      "execution_count": 17,
      "outputs": [
        {
          "output_type": "execute_result",
          "data": {
            "text/plain": [
              "<matplotlib.axes._subplots.AxesSubplot at 0x7f1062c58240>"
            ]
          },
          "metadata": {
            "tags": []
          },
          "execution_count": 17
        },
        {
          "output_type": "display_data",
          "data": {
            "image/png": "[encoded data removed]",
            "text/plain": [
              "<Figure size 432x288 with 1 Axes>"
            ]
          },
          "metadata": {
            "tags": [],
            "needs_background": "light"
          }
        }
      ]
    },
    {
      "cell_type": "markdown",
      "metadata": {
        "id": "eYhsbBGLCGP0",
        "colab_type": "text"
      },
      "source": [
        "This group constitues the officers that have the most complaints issued against them. They also appear to be the most violent as physical force complaints vastly outnumber the others. "
      ]
    },
    {
      "cell_type": "code",
      "metadata": {
        "id": "CEUgrOQ8GhWK",
        "colab_type": "code",
        "colab": {}
      },
      "source": [
        "id = df['unique_mos_id']\n",
        "id = id.to_list()"
      ],
      "execution_count": 18,
      "outputs": []
    },
    {
      "cell_type": "code",
      "metadata": {
        "id": "CivdMv1_HNBV",
        "colab_type": "code",
        "colab": {
          "base_uri": "https://localhost:8080/",
          "height": 54
        },
        "outputId": "4fd5e17b-ea0f-4fa7-aa64-b3b215e0ad59"
      },
      "source": [
        "df = sqlContext.read.csv(\"/content/data.csv\", header= True)\n",
        "df.select(\"unique_mos_id\", \"rank_now\",\"rank_incident\",\"complainant_ethnicity\",\"complainant_age_incident\",\"complainant_gender\",\"allegation\",\"board_disposition\")"
      ],
      "execution_count": 19,
      "outputs": [
        {
          "output_type": "execute_result",
          "data": {
            "text/plain": [
              "DataFrame[unique_mos_id: string, rank_now: string, rank_incident: string, complainant_ethnicity: string, complainant_age_incident: string, complainant_gender: string, allegation: string, board_disposition: string]"
            ]
          },
          "metadata": {
            "tags": []
          },
          "execution_count": 19
        }
      ]
    },
    {
      "cell_type": "markdown",
      "metadata": {
        "id": "fOPz-ZsDdBxw",
        "colab_type": "text"
      },
      "source": [
        "Filtering data to only officers that have the most complaints against them"
      ]
    },
    {
      "cell_type": "code",
      "metadata": {
        "id": "IhOk1C4USxKq",
        "colab_type": "code",
        "colab": {}
      },
      "source": [
        "problem = df.filter(f.col(\"unique_mos_id\").isin(id))"
      ],
      "execution_count": 20,
      "outputs": []
    },
    {
      "cell_type": "code",
      "metadata": {
        "id": "DovTiMnperoc",
        "colab_type": "code",
        "colab": {}
      },
      "source": [
        " df_1 = problem.select(\"year_received\",\"rank_incident\",\"unique_mos_id\")\n",
        "\n",
        " "
      ],
      "execution_count": 21,
      "outputs": []
    },
    {
      "cell_type": "code",
      "metadata": {
        "id": "PoXpF8kl_vly",
        "colab_type": "code",
        "colab": {}
      },
      "source": [
        "minTest = df_1.sort(\"year_received\", ascending = False)\n",
        "maxTest = df_1.sort(\"year_received\", ascending = True)\n"
      ],
      "execution_count": 22,
      "outputs": []
    },
    {
      "cell_type": "code",
      "metadata": {
        "id": "m8XNs9ktgtLe",
        "colab_type": "code",
        "colab": {}
      },
      "source": [
        "#df.filter(f.col(\"unique_mos_id\").isin(\"25861\")).show()\n",
        "table_list = list()\n",
        "id_list = list()\n",
        "year_list = []\n",
        "rank_list = []\n",
        "\n",
        "for i in id:\n",
        " table = df.filter(f.col(\"unique_mos_id\").isin(i))\n",
        " table = table.select(\"unique_mos_id\", \"rank_incident\",\"year_received\")\n",
        " table = table.limit(1).collect()\n",
        " id_list.append(table[0][0])\n",
        " rank_list.append(table[0][1])\n",
        " year_list.append(table[0][2])\n",
        " "
      ],
      "execution_count": 23,
      "outputs": []
    },
    {
      "cell_type": "code",
      "metadata": {
        "id": "5ee6GLa6M6VF",
        "colab_type": "code",
        "colab": {}
      },
      "source": [
        "id_test = pd.DataFrame(id_list)\n",
        "year_test = pd.DataFrame(year_list)\n",
        "rank_test = pd.DataFrame(rank_list)\n"
      ],
      "execution_count": 24,
      "outputs": []
    },
    {
      "cell_type": "code",
      "metadata": {
        "id": "Pb0AzRD16tRB",
        "colab_type": "code",
        "colab": {
          "base_uri": "https://localhost:8080/",
          "height": 269
        },
        "outputId": "d79c201b-c263-4b4e-e311-d0feac09f128"
      },
      "source": [
        "table = pd.concat([id_test, year_test, rank_test], axis=1, ignore_index=True)\n",
        "table = sqlContext.createDataFrame(table)\n",
        "table = table.withColumnRenamed(\"0\",\"ID\")\n",
        "table = table.withColumnRenamed(\"1\", \"Year\")\n",
        "table = table.withColumnRenamed(\"2\",\"Rank\")\n",
        "table.groupBy('ID',\"Year\",\"Rank\").count().show()"
      ],
      "execution_count": 25,
      "outputs": [
        {
          "output_type": "stream",
          "text": [
            "+-----+----+--------------+-----+\n",
            "|   ID|Year|          Rank|count|\n",
            "+-----+----+--------------+-----+\n",
            "|25861|2005|Police Officer|    2|\n",
            "|21450|2003|Police Officer|    1|\n",
            "|18090|2017|      Sergeant|    1|\n",
            "|21527|1999|Police Officer|    1|\n",
            "|26487|2010|     Detective|    1|\n",
            "|20982|2005|Police Officer|    2|\n",
            "|18731|2003|      Sergeant|    2|\n",
            "|18612|2004|Police Officer|    1|\n",
            "|25814|2005|    Lieutenant|    1|\n",
            "| 8518|1999|Police Officer|    1|\n",
            "+-----+----+--------------+-----+\n",
            "\n"
          ],
          "name": "stdout"
        }
      ]
    },
    {
      "cell_type": "markdown",
      "metadata": {
        "id": "zFs91FI4HFyx",
        "colab_type": "text"
      },
      "source": [
        "Overall for when people make their first complaint"
      ]
    },
    {
      "cell_type": "code",
      "metadata": {
        "id": "9mt2JKktbk24",
        "colab_type": "code",
        "colab": {}
      },
      "source": [
        "table_list = list()\n",
        "id_list = list()\n",
        "year_list = []\n",
        "rank_list = []\n",
        "maxTest = df.sort(\"year_received\", ascending = True)\n",
        "count = 0\n",
        "\n",
        "id = df.select('unique_mos_id').distinct().collect()\n",
        "\n",
        "filter_id = []\n",
        "for i in id:\n",
        " filter_id.append(i[0])\n",
        "maxTest = maxTest.select(\"unique_mos_id\", \"rank_incident\",\"year_received\")"
      ],
      "execution_count": 26,
      "outputs": []
    },
    {
      "cell_type": "code",
      "metadata": {
        "id": "Ep3MxTqvPqHH",
        "colab_type": "code",
        "colab": {}
      },
      "source": [
        "\n",
        "filter_id_One = filter_id[:400]\n",
        "filter_id_Two = filter_id[400:800]\n",
        "filter_id_Three = filter_id[800:1200] \n",
        "filter_id_Four = filter_id[1200:1600] \n",
        "filter_id_Five = filter_id[1600:2000]\n",
        "filter_id_Sixth = filter_id[2000:2400]\n",
        "filter_id_Seventh = filter_id[2400:2800]\n",
        "filter_id_Eighth = filter_id[2800:3200]\n",
        "filter_id_Nineth = filter_id[3200:3600]\n",
        "filter_id_Tenth = filter_id[3600:]"
      ],
      "execution_count": 27,
      "outputs": []
    },
    {
      "cell_type": "code",
      "metadata": {
        "id": "_GWf46byWCDr",
        "colab_type": "code",
        "colab": {
          "base_uri": "https://localhost:8080/",
          "height": 1000
        },
        "outputId": "13679bcd-2b6e-4199-e1c8-2b6ca584cfc9"
      },
      "source": [
        "class FirstSegment(Thread):\n",
        "  def run(self):\n",
        "    count = 0\n",
        "    for i in filter_id_One :\n",
        "        table = maxTest.filter(f.col(\"unique_mos_id\").isin(i))\n",
        "        table = table.limit(1).collect()\n",
        " \n",
        "        id_list.append(table[0][0])\n",
        "        rank_list.append(table[0][1])\n",
        "        year_list.append(table[0][2])\n",
        "        count = count + 1\n",
        "        sleep(.3)\n",
        "    id_test = pd.DataFrame(id_list)\n",
        "    year_test = pd.DataFrame(year_list)\n",
        "    rank_test = pd.DataFrame(rank_list)   \n",
        "    table = pd.concat([id_test, year_test, rank_test], axis=1, ignore_index=True)\n",
        "    table = sqlContext.createDataFrame(table)\n",
        "    table = table.withColumnRenamed(\"0\",\"ID\")\n",
        "    table = table.withColumnRenamed(\"1\", \"Year\")\n",
        "    table = table.withColumnRenamed(\"2\",\"Rank\") \n",
        "    table = table.groupBy('ID',\"Year\",\"Rank\").count()   \n",
        "    table.write.parquet(\"FirstSegment.parquet\")\n",
        "        \n",
        " \n",
        "class SecondSegment(Thread):\n",
        "  def run(self):\n",
        "    count = 0\n",
        "    for i in filter_id_Two:\n",
        "        table = maxTest.filter(f.col(\"unique_mos_id\").isin(i))\n",
        "        table = table.limit(1).collect()\n",
        " \n",
        "        id_list.append(table[0][0])\n",
        "        rank_list.append(table[0][1])\n",
        "        year_list.append(table[0][2])\n",
        "        count = count + 1\n",
        "        sleep(.3)\n",
        "    id_test = pd.DataFrame(id_list)\n",
        "    year_test = pd.DataFrame(year_list)\n",
        "    rank_test = pd.DataFrame(rank_list)  \n",
        "    table = pd.concat([id_test, year_test, rank_test], axis=1, ignore_index=True)\n",
        "    table = sqlContext.createDataFrame(table)\n",
        "    table = table.withColumnRenamed(\"0\",\"ID\")\n",
        "    table = table.withColumnRenamed(\"1\", \"Year\")\n",
        "    table = table.withColumnRenamed(\"2\",\"Rank\")\n",
        "    table = table.groupBy('ID',\"Year\",\"Rank\").count()  \n",
        "    table.write.parquet(\"SecondSegment.parquet\")\n",
        " \n",
        "class ThirdSegment(Thread):\n",
        "  def run(self):\n",
        "    count = 0\n",
        "    for i in filter_id_Three:\n",
        "        table = maxTest.filter(f.col(\"unique_mos_id\").isin(i))\n",
        "        table = table.limit(1).collect()\n",
        " \n",
        "        id_list.append(table[0][0])\n",
        "        rank_list.append(table[0][1])\n",
        "        year_list.append(table[0][2])\n",
        "        count = count + 1\n",
        "        sleep(.3) \n",
        "    id_test = pd.DataFrame(id_list)\n",
        "    year_test = pd.DataFrame(year_list)\n",
        "    rank_test = pd.DataFrame(rank_list)\n",
        "    table = pd.concat([id_test, year_test, rank_test], axis=1, ignore_index=True)\n",
        "    table = sqlContext.createDataFrame(table)\n",
        "    table = table.withColumnRenamed(\"0\",\"ID\")\n",
        "    table = table.withColumnRenamed(\"1\", \"Year\")\n",
        "    table = table.withColumnRenamed(\"2\",\"Rank\")\n",
        "    table = table.groupBy('ID',\"Year\",\"Rank\").count()  \n",
        "    table.write.parquet(\"ThirdSegment.parquet\")\n",
        "        \n",
        " \n",
        "class FourthSegment(Thread):\n",
        "  def run(self):\n",
        "    count = 0\n",
        "    for i in filter_id_Four:\n",
        "        table = maxTest.filter(f.col(\"unique_mos_id\").isin(i))\n",
        "        table = table.limit(1).collect()\n",
        " \n",
        "        id_list.append(table[0][0])\n",
        "        rank_list.append(table[0][1])\n",
        "        year_list.append(table[0][2])\n",
        "        count = count + 1\n",
        "        sleep(.3) \n",
        "    id_test = pd.DataFrame(id_list)\n",
        "    year_test = pd.DataFrame(year_list)\n",
        "    rank_test = pd.DataFrame(rank_list)   \n",
        "    table = pd.concat([id_test, year_test, rank_test], axis=1, ignore_index=True)\n",
        "    table = sqlContext.createDataFrame(table)\n",
        "    table = table.withColumnRenamed(\"0\",\"ID\")\n",
        "    table = table.withColumnRenamed(\"1\", \"Year\")\n",
        "    table = table.withColumnRenamed(\"2\",\"Rank\")\n",
        "    table = table.groupBy('ID',\"Year\",\"Rank\").count()  \n",
        "    table.write.parquet(\"FourthSegment.parquet\")\n",
        " \n",
        "class FifthSegment(Thread):\n",
        "  def run(self):\n",
        "    count = 0\n",
        "    for i in filter_id_Five:\n",
        "        table = maxTest.filter(f.col(\"unique_mos_id\").isin(i))\n",
        "        table = table.limit(1).collect()\n",
        " \n",
        "        id_list.append(table[0][0])\n",
        "        rank_list.append(table[0][1])\n",
        "        year_list.append(table[0][2])\n",
        "        count = count + 1\n",
        "        sleep(.3)  \n",
        "    id_test = pd.DataFrame(id_list)\n",
        "    year_test = pd.DataFrame(year_list)\n",
        "    rank_test = pd.DataFrame(rank_list)  \n",
        "    table = pd.concat([id_test, year_test, rank_test], axis=1, ignore_index=True)\n",
        "    table = sqlContext.createDataFrame(table)\n",
        "    table = table.withColumnRenamed(\"0\",\"ID\")\n",
        "    table = table.withColumnRenamed(\"1\", \"Year\")\n",
        "    table = table.withColumnRenamed(\"2\",\"Rank\") \n",
        "    table = table.groupBy('ID',\"Year\",\"Rank\").count()  \n",
        "    table.write.parquet(\"FifthSegment.parquet\")\n",
        " \n",
        "class SixthSegment(Thread):\n",
        "  def run(self):\n",
        "    count = 0\n",
        "    for i in filter_id_Sixth:\n",
        "        table = maxTest.filter(f.col(\"unique_mos_id\").isin(i))\n",
        "        table = table.limit(1).collect()\n",
        " \n",
        "        id_list.append(table[0][0])\n",
        "        rank_list.append(table[0][1])\n",
        "        year_list.append(table[0][2])\n",
        "        count = count + 1\n",
        "        sleep(.3) \n",
        "    id_test = pd.DataFrame(id_list)\n",
        "    year_test = pd.DataFrame(year_list)\n",
        "    rank_test = pd.DataFrame(rank_list)   \n",
        "    table = pd.concat([id_test, year_test, rank_test], axis=1, ignore_index=True)\n",
        "    table = sqlContext.createDataFrame(table)\n",
        "    table = table.withColumnRenamed(\"0\",\"ID\")\n",
        "    table = table.withColumnRenamed(\"1\", \"Year\")\n",
        "    table = table.withColumnRenamed(\"2\",\"Rank\")\n",
        "    table = table.groupBy('ID',\"Year\",\"Rank\").count()  \n",
        "    table.write.parquet(\"SixthSegment.parquet\")\n",
        " \n",
        "class SeventhSegment(Thread):\n",
        "  def run(self):\n",
        "    count = 0\n",
        "    for i in filter_id_Seventh :\n",
        "        table = maxTest.filter(f.col(\"unique_mos_id\").isin(i))\n",
        "        table = table.limit(1).collect()\n",
        " \n",
        "        id_list.append(table[0][0])\n",
        "        rank_list.append(table[0][1])\n",
        "        year_list.append(table[0][2])\n",
        "        count = count + 1\n",
        "        sleep(.3)\n",
        "    id_test = pd.DataFrame(id_list)\n",
        "    year_test = pd.DataFrame(year_list)\n",
        "    rank_test = pd.DataFrame(rank_list)   \n",
        "    table = pd.concat([id_test, year_test, rank_test], axis=1, ignore_index=True)\n",
        "    table = sqlContext.createDataFrame(table)\n",
        "    table = table.withColumnRenamed(\"0\",\"ID\")\n",
        "    table = table.withColumnRenamed(\"1\", \"Year\")\n",
        "    table = table.withColumnRenamed(\"2\",\"Rank\") \n",
        "    table = table.groupBy('ID',\"Year\",\"Rank\").count()  \n",
        "    table.write.parquet(\"SevethSegment.parquet\")      \n",
        "   \n",
        "class EighthSegment(Thread):\n",
        "  def run(self):\n",
        "    count = 0\n",
        "    for i in filter_id_Eighth:\n",
        "        table = maxTest.filter(f.col(\"unique_mos_id\").isin(i))\n",
        "        table = table.limit(1).collect()\n",
        " \n",
        "        id_list.append(table[0][0])\n",
        "        rank_list.append(table[0][1])\n",
        "        year_list.append(table[0][2])\n",
        "        count = count + 1\n",
        "        sleep(.3)\n",
        "    id_test = pd.DataFrame(id_list)\n",
        "    year_test = pd.DataFrame(year_list)\n",
        "    rank_test = pd.DataFrame(rank_list)   \n",
        "    table = pd.concat([id_test, year_test, rank_test], axis=1, ignore_index=True)\n",
        "    table = sqlContext.createDataFrame(table)\n",
        "    table = table.withColumnRenamed(\"0\",\"ID\")\n",
        "    table = table.withColumnRenamed(\"1\", \"Year\")\n",
        "    table = table.withColumnRenamed(\"2\",\"Rank\") \n",
        "    table = table.groupBy('ID',\"Year\",\"Rank\").count()  \n",
        "    table.write.parquet(\"EigthSegment.parquet\")   \n",
        " \n",
        "class NinethSegment(Thread):\n",
        "  def run(self):\n",
        "    count = 0\n",
        "    for i in filter_id_Nineth :\n",
        "        table = maxTest.filter(f.col(\"unique_mos_id\").isin(i))\n",
        "        table = table.limit(1).collect()\n",
        " \n",
        "        id_list.append(table[0][0])\n",
        "        rank_list.append(table[0][1])\n",
        "        year_list.append(table[0][2])\n",
        "        count = count + 1\n",
        "        sleep(.3)\n",
        "    id_test = pd.DataFrame(id_list)\n",
        "    year_test = pd.DataFrame(year_list)\n",
        "    rank_test = pd.DataFrame(rank_list)   \n",
        "    table = pd.concat([id_test, year_test, rank_test], axis=1, ignore_index=True)\n",
        "    table = sqlContext.createDataFrame(table)\n",
        "    table = table.withColumnRenamed(\"0\",\"ID\")\n",
        "    table = table.withColumnRenamed(\"1\", \"Year\")\n",
        "    table = table.groupBy('ID',\"Year\",\"Rank\").count()  \n",
        "    table.write.parquet(\"NinethSegment.parquet\")        \n",
        " \n",
        "class TenthSegment(Thread):\n",
        "  def run(self):\n",
        "    count = 0\n",
        "    for i in filter_id_Tenth :\n",
        "        table = maxTest.filter(f.col(\"unique_mos_id\").isin(i))\n",
        "        table = table.limit(1).collect()\n",
        " \n",
        "        id_list.append(table[0][0])\n",
        "        rank_list.append(table[0][1])\n",
        "        year_list.append(table[0][2])\n",
        "        count = count + 1\n",
        "        sleep(.3)\n",
        "    id_test = pd.DataFrame(id_list)\n",
        "    year_test = pd.DataFrame(year_list)\n",
        "    rank_test = pd.DataFrame(rank_list)   \n",
        "    table = pd.concat([id_test, year_test, rank_test], axis=1, ignore_index=True)\n",
        "    table = sqlContext.createDataFrame(table)\n",
        "    table = table.withColumnRenamed(\"0\",\"ID\")\n",
        "    table = table.withColumnRenamed(\"1\", \"Year\")\n",
        "    table = table.withColumnRenamed(\"2\",\"Rank\") \n",
        "    table = table.groupBy('ID',\"Year\",\"Rank\").count()  \n",
        "    table.write.parquet(\"TenthSegment.parquet\")       \n",
        " \n",
        "first = FirstSegment()\n",
        "second = SecondSegment()\n",
        "third = ThirdSegment()\n",
        "fourth = FourthSegment()\n",
        "fifth = FifthSegment()\n",
        "sixth = SixthSegment()\n",
        "seventh = SeventhSegment()\n",
        "eighth = EighthSegment()\n",
        "nineth = NinethSegment()\n",
        "tenth = TenthSegment()\n",
        "\n",
        " \n",
        "start_time = time.time() \n",
        "first.start()\n",
        "sleep(0.3)\n",
        "second.start() \n",
        "sleep(0.3)\n",
        "third.start()\n",
        "sleep(0.3)\n",
        "fourth.start()\n",
        "sleep(0.3)\n",
        "fifth.start()\n",
        "sleep(0.3)\n",
        "sixth.start()\n",
        "sleep(0.3)\n",
        "seventh.start()\n",
        "sleep(0.3)\n",
        "eighth.start()\n",
        "sleep(0.3)\n",
        "nineth.start()\n",
        "sleep(0.3)\n",
        "tenth.start()\n",
        "\n",
        "first.join()\n",
        "second.join()\n",
        "third.join()\n",
        "fourth.join()\n",
        "fifth.join()\n",
        "sixth.join()\n",
        "seventh.join()\n",
        "eighth.join()\n",
        "nineth.join()\n",
        "tenth.join()\n",
        "\n",
        "\n",
        "print(\"My program took\", time.time() - start_time, \"to run\") \n"
      ],
      "execution_count": 28,
      "outputs": [
        {
          "output_type": "stream",
          "text": [
            "Exception in thread Thread-5:\n",
            "Traceback (most recent call last):\n",
            "  File \"/usr/lib/python3.6/threading.py\", line 916, in _bootstrap_inner\n",
            "    self.run()\n",
            "  File \"<ipython-input-28-b711cc16b8c8>\", line 22, in run\n",
            "    table.write.parquet(\"FirstSegment.parquet\")\n",
            "  File \"/usr/local/lib/python3.6/dist-packages/pyspark/sql/readwriter.py\", line 936, in parquet\n",
            "    self._jwrite.parquet(path)\n",
            "  File \"/usr/local/lib/python3.6/dist-packages/py4j/java_gateway.py\", line 1305, in __call__\n",
            "    answer, self.gateway_client, self.target_id, self.name)\n",
            "  File \"/usr/local/lib/python3.6/dist-packages/pyspark/sql/utils.py\", line 137, in deco\n",
            "    raise_from(converted)\n",
            "  File \"<string>\", line 3, in raise_from\n",
            "pyspark.sql.utils.AnalysisException: path file:/content/FirstSegment.parquet already exists.;\n",
            "\n",
            "Exception in thread Thread-6:\n",
            "Traceback (most recent call last):\n",
            "  File \"/usr/lib/python3.6/threading.py\", line 916, in _bootstrap_inner\n",
            "    self.run()\n",
            "  File \"<ipython-input-28-b711cc16b8c8>\", line 46, in run\n",
            "    table.write.parquet(\"SecondSegment.parquet\")\n",
            "  File \"/usr/local/lib/python3.6/dist-packages/pyspark/sql/readwriter.py\", line 936, in parquet\n",
            "    self._jwrite.parquet(path)\n",
            "  File \"/usr/local/lib/python3.6/dist-packages/py4j/java_gateway.py\", line 1305, in __call__\n",
            "    answer, self.gateway_client, self.target_id, self.name)\n",
            "  File \"/usr/local/lib/python3.6/dist-packages/pyspark/sql/utils.py\", line 137, in deco\n",
            "    raise_from(converted)\n",
            "  File \"<string>\", line 3, in raise_from\n",
            "pyspark.sql.utils.AnalysisException: path file:/content/SecondSegment.parquet already exists.;\n",
            "\n",
            "Exception in thread Thread-7:\n",
            "Traceback (most recent call last):\n",
            "  File \"/usr/lib/python3.6/threading.py\", line 916, in _bootstrap_inner\n",
            "    self.run()\n",
            "  File \"<ipython-input-28-b711cc16b8c8>\", line 69, in run\n",
            "    table.write.parquet(\"ThirdSegment.parquet\")\n",
            "  File \"/usr/local/lib/python3.6/dist-packages/pyspark/sql/readwriter.py\", line 936, in parquet\n",
            "    self._jwrite.parquet(path)\n",
            "  File \"/usr/local/lib/python3.6/dist-packages/py4j/java_gateway.py\", line 1305, in __call__\n",
            "    answer, self.gateway_client, self.target_id, self.name)\n",
            "  File \"/usr/local/lib/python3.6/dist-packages/pyspark/sql/utils.py\", line 137, in deco\n",
            "    raise_from(converted)\n",
            "  File \"<string>\", line 3, in raise_from\n",
            "pyspark.sql.utils.AnalysisException: path file:/content/ThirdSegment.parquet already exists.;\n",
            "\n",
            "Exception in thread Thread-8:\n",
            "Traceback (most recent call last):\n",
            "  File \"/usr/lib/python3.6/threading.py\", line 916, in _bootstrap_inner\n",
            "    self.run()\n",
            "  File \"<ipython-input-28-b711cc16b8c8>\", line 93, in run\n",
            "    table.write.parquet(\"FourthSegment.parquet\")\n",
            "  File \"/usr/local/lib/python3.6/dist-packages/pyspark/sql/readwriter.py\", line 936, in parquet\n",
            "    self._jwrite.parquet(path)\n",
            "  File \"/usr/local/lib/python3.6/dist-packages/py4j/java_gateway.py\", line 1305, in __call__\n",
            "    answer, self.gateway_client, self.target_id, self.name)\n",
            "  File \"/usr/local/lib/python3.6/dist-packages/pyspark/sql/utils.py\", line 137, in deco\n",
            "    raise_from(converted)\n",
            "  File \"<string>\", line 3, in raise_from\n",
            "pyspark.sql.utils.AnalysisException: path file:/content/FourthSegment.parquet already exists.;\n",
            "\n",
            "Exception in thread Thread-9:\n",
            "Traceback (most recent call last):\n",
            "  File \"/usr/lib/python3.6/threading.py\", line 916, in _bootstrap_inner\n",
            "    self.run()\n",
            "  File \"<ipython-input-28-b711cc16b8c8>\", line 116, in run\n",
            "    table.write.parquet(\"FifthSegment.parquet\")\n",
            "  File \"/usr/local/lib/python3.6/dist-packages/pyspark/sql/readwriter.py\", line 936, in parquet\n",
            "    self._jwrite.parquet(path)\n",
            "  File \"/usr/local/lib/python3.6/dist-packages/py4j/java_gateway.py\", line 1305, in __call__\n",
            "    answer, self.gateway_client, self.target_id, self.name)\n",
            "  File \"/usr/local/lib/python3.6/dist-packages/pyspark/sql/utils.py\", line 137, in deco\n",
            "    raise_from(converted)\n",
            "  File \"<string>\", line 3, in raise_from\n",
            "pyspark.sql.utils.AnalysisException: path file:/content/FifthSegment.parquet already exists.;\n",
            "\n",
            "Exception in thread Thread-10:\n",
            "Traceback (most recent call last):\n",
            "  File \"/usr/lib/python3.6/threading.py\", line 916, in _bootstrap_inner\n",
            "    self.run()\n",
            "  File \"<ipython-input-28-b711cc16b8c8>\", line 139, in run\n",
            "    table.write.parquet(\"SixthSegment.parquet\")\n",
            "  File \"/usr/local/lib/python3.6/dist-packages/pyspark/sql/readwriter.py\", line 936, in parquet\n",
            "    self._jwrite.parquet(path)\n",
            "  File \"/usr/local/lib/python3.6/dist-packages/py4j/java_gateway.py\", line 1305, in __call__\n",
            "    answer, self.gateway_client, self.target_id, self.name)\n",
            "  File \"/usr/local/lib/python3.6/dist-packages/pyspark/sql/utils.py\", line 137, in deco\n",
            "    raise_from(converted)\n",
            "  File \"<string>\", line 3, in raise_from\n",
            "pyspark.sql.utils.AnalysisException: path file:/content/SixthSegment.parquet already exists.;\n",
            "\n",
            "Exception in thread Thread-12:\n",
            "Traceback (most recent call last):\n",
            "  File \"/usr/lib/python3.6/threading.py\", line 916, in _bootstrap_inner\n",
            "    self.run()\n",
            "  File \"<ipython-input-28-b711cc16b8c8>\", line 185, in run\n",
            "    table.write.parquet(\"EigthSegment.parquet\")\n",
            "  File \"/usr/local/lib/python3.6/dist-packages/pyspark/sql/readwriter.py\", line 936, in parquet\n",
            "    self._jwrite.parquet(path)\n",
            "  File \"/usr/local/lib/python3.6/dist-packages/py4j/java_gateway.py\", line 1305, in __call__\n",
            "    answer, self.gateway_client, self.target_id, self.name)\n",
            "  File \"/usr/local/lib/python3.6/dist-packages/pyspark/sql/utils.py\", line 137, in deco\n",
            "    raise_from(converted)\n",
            "  File \"<string>\", line 3, in raise_from\n",
            "pyspark.sql.utils.AnalysisException: path file:/content/EigthSegment.parquet already exists.;\n",
            "\n"
          ],
          "name": "stderr"
        },
        {
          "output_type": "stream",
          "text": [
            "My program took 547.4528217315674 to run\n"
          ],
          "name": "stdout"
        },
        {
          "output_type": "stream",
          "text": [
            "Exception in thread Thread-13:\n",
            "Traceback (most recent call last):\n",
            "  File \"/usr/lib/python3.6/threading.py\", line 916, in _bootstrap_inner\n",
            "    self.run()\n",
            "  File \"<ipython-input-28-b711cc16b8c8>\", line 206, in run\n",
            "    table = table.groupBy('ID',\"Year\",\"Rank\").count()\n",
            "  File \"/usr/local/lib/python3.6/dist-packages/pyspark/sql/group.py\", line 33, in _api\n",
            "    jdf = getattr(self._jgd, name)()\n",
            "  File \"/usr/local/lib/python3.6/dist-packages/py4j/java_gateway.py\", line 1305, in __call__\n",
            "    answer, self.gateway_client, self.target_id, self.name)\n",
            "  File \"/usr/local/lib/python3.6/dist-packages/pyspark/sql/utils.py\", line 137, in deco\n",
            "    raise_from(converted)\n",
            "  File \"<string>\", line 3, in raise_from\n",
            "pyspark.sql.utils.AnalysisException: cannot resolve '`Rank`' given input columns: [2, ID, Year];;\n",
            "'Aggregate [ID#12629, Year#12637, 'Rank], [ID#12629, Year#12637, 'Rank, count(1) AS count#12647L]\n",
            "+- Project [ID#12629, 1#12620 AS Year#12637, 2#12621]\n",
            "   +- Project [0#12619 AS ID#12629, 1#12620, 2#12621]\n",
            "      +- LogicalRDD [0#12619, 1#12620, 2#12621], false\n",
            "\n",
            "\n",
            "Exception in thread Thread-11:\n",
            "Traceback (most recent call last):\n",
            "  File \"/usr/lib/python3.6/threading.py\", line 916, in _bootstrap_inner\n",
            "    self.run()\n",
            "  File \"<ipython-input-28-b711cc16b8c8>\", line 162, in run\n",
            "    table.write.parquet(\"SevethSegment.parquet\")\n",
            "  File \"/usr/local/lib/python3.6/dist-packages/pyspark/sql/readwriter.py\", line 936, in parquet\n",
            "    self._jwrite.parquet(path)\n",
            "  File \"/usr/local/lib/python3.6/dist-packages/py4j/java_gateway.py\", line 1305, in __call__\n",
            "    answer, self.gateway_client, self.target_id, self.name)\n",
            "  File \"/usr/local/lib/python3.6/dist-packages/pyspark/sql/utils.py\", line 137, in deco\n",
            "    raise_from(converted)\n",
            "  File \"<string>\", line 3, in raise_from\n",
            "pyspark.sql.utils.AnalysisException: path file:/content/SevethSegment.parquet already exists.;\n",
            "\n"
          ],
          "name": "stderr"
        }
      ]
    },
    {
      "cell_type": "code",
      "metadata": {
        "id": "J5DkFk1F3Vqp",
        "colab_type": "code",
        "colab": {
          "base_uri": "https://localhost:8080/",
          "height": 766
        },
        "outputId": "420fa980-2c9b-44a8-fc3d-0c6656ddbfd7"
      },
      "source": [
        " files = [\"FirstSegment.parquet\", \"SecondSegment.parquet\", \"ThirdSegment.parquet\",\n",
        "               \"FourthSegment.parquet\", \"FifthSegment.parquet\", \"SixthSegment.parquet\",\n",
        "               \"SevethSegment.parquet\", \"EigthSegment.parquet\", \"NinethSegment.parquet\",\n",
        "                \"TenthSegment.parquet\"]\n",
        "\n",
        "df = sqlContext.read.parquet(\"/content/\" + files[0])\n",
        "\n",
        "for i in files[1:]:\n",
        "  df.union(sqlContext.read.parquet(\"/content/\" + i))\n",
        "\n"
      ],
      "execution_count": 48,
      "outputs": [
        {
          "output_type": "stream",
          "text": [
            "+-----+----+--------------+-----+\n",
            "|   ID|Year|          Rank|count|\n",
            "+-----+----+--------------+-----+\n",
            "|32506|2002|Police Officer|    1|\n",
            "| 6586|2014|Police Officer|    1|\n",
            "|16236|2003|Police Officer|    1|\n",
            "|20864|2004|Police Officer|    1|\n",
            "|18616|1996|      Sergeant|    1|\n",
            "|20500|1991|Police Officer|    1|\n",
            "|20256|2013|Police Officer|    1|\n",
            "|19825|2014|Police Officer|    1|\n",
            "| 4543|2007|Police Officer|    1|\n",
            "| 3070|2014|Police Officer|    1|\n",
            "|26017|2013|Police Officer|    1|\n",
            "|20861|2015|      Sergeant|    1|\n",
            "|14265|2008|Police Officer|    1|\n",
            "| 6852|2016|Police Officer|    1|\n",
            "|21042|2013|Police Officer|    1|\n",
            "|35930|2014|Police Officer|    1|\n",
            "|16877|2008|Police Officer|    1|\n",
            "|26882|2004|      Sergeant|    1|\n",
            "| 3742|2008|Police Officer|    1|\n",
            "|17045|1998|Police Officer|    1|\n",
            "+-----+----+--------------+-----+\n",
            "only showing top 20 rows\n",
            "\n"
          ],
          "name": "stdout"
        },
        {
          "output_type": "error",
          "ename": "AttributeError",
          "evalue": "ignored",
          "traceback": [
            "\u001b[0;31m---------------------------------------------------------------------------\u001b[0m",
            "\u001b[0;31mAttributeError\u001b[0m                            Traceback (most recent call last)",
            "\u001b[0;32m<ipython-input-48-aad6d5109162>\u001b[0m in \u001b[0;36m<module>\u001b[0;34m()\u001b[0m\n\u001b[1;32m     11\u001b[0m \u001b[0mdf\u001b[0m\u001b[0;34m.\u001b[0m\u001b[0mshow\u001b[0m\u001b[0;34m(\u001b[0m\u001b[0;34m)\u001b[0m\u001b[0;34m\u001b[0m\u001b[0;34m\u001b[0m\u001b[0m\n\u001b[1;32m     12\u001b[0m \u001b[0;34m\u001b[0m\u001b[0m\n\u001b[0;32m---> 13\u001b[0;31m \u001b[0mdf\u001b[0m\u001b[0;34m.\u001b[0m\u001b[0mshape\u001b[0m\u001b[0;34m(\u001b[0m\u001b[0;34m)\u001b[0m\u001b[0;34m\u001b[0m\u001b[0;34m\u001b[0m\u001b[0m\n\u001b[0m\u001b[1;32m     14\u001b[0m \u001b[0;34m\u001b[0m\u001b[0m\n",
            "\u001b[0;32m/usr/local/lib/python3.6/dist-packages/pyspark/sql/dataframe.py\u001b[0m in \u001b[0;36m__getattr__\u001b[0;34m(self, name)\u001b[0m\n\u001b[1;32m   1399\u001b[0m         \u001b[0;32mif\u001b[0m \u001b[0mname\u001b[0m \u001b[0;32mnot\u001b[0m \u001b[0;32min\u001b[0m \u001b[0mself\u001b[0m\u001b[0;34m.\u001b[0m\u001b[0mcolumns\u001b[0m\u001b[0;34m:\u001b[0m\u001b[0;34m\u001b[0m\u001b[0;34m\u001b[0m\u001b[0m\n\u001b[1;32m   1400\u001b[0m             raise AttributeError(\n\u001b[0;32m-> 1401\u001b[0;31m                 \"'%s' object has no attribute '%s'\" % (self.__class__.__name__, name))\n\u001b[0m\u001b[1;32m   1402\u001b[0m         \u001b[0mjc\u001b[0m \u001b[0;34m=\u001b[0m \u001b[0mself\u001b[0m\u001b[0;34m.\u001b[0m\u001b[0m_jdf\u001b[0m\u001b[0;34m.\u001b[0m\u001b[0mapply\u001b[0m\u001b[0;34m(\u001b[0m\u001b[0mname\u001b[0m\u001b[0;34m)\u001b[0m\u001b[0;34m\u001b[0m\u001b[0;34m\u001b[0m\u001b[0m\n\u001b[1;32m   1403\u001b[0m         \u001b[0;32mreturn\u001b[0m \u001b[0mColumn\u001b[0m\u001b[0;34m(\u001b[0m\u001b[0mjc\u001b[0m\u001b[0;34m)\u001b[0m\u001b[0;34m\u001b[0m\u001b[0;34m\u001b[0m\u001b[0m\n",
            "\u001b[0;31mAttributeError\u001b[0m: 'DataFrame' object has no attribute 'shape'"
          ]
        }
      ]
    },
    {
      "cell_type": "code",
      "metadata": {
        "id": "7EagJ4iwH4fp",
        "colab_type": "code",
        "colab": {
          "base_uri": "https://localhost:8080/",
          "height": 219
        },
        "outputId": "63a471d6-edc7-44bb-eca8-5c7eb509c297"
      },
      "source": [
        "df.write.parquet(\"firstProblem.parquet\")"
      ],
      "execution_count": 52,
      "outputs": [
        {
          "output_type": "error",
          "ename": "AnalysisException",
          "evalue": "ignored",
          "traceback": [
            "\u001b[0;31m---------------------------------------------------------------------------\u001b[0m",
            "\u001b[0;31mAnalysisException\u001b[0m                         Traceback (most recent call last)",
            "\u001b[0;32m<ipython-input-52-7d1c6613c62f>\u001b[0m in \u001b[0;36m<module>\u001b[0;34m()\u001b[0m\n\u001b[0;32m----> 1\u001b[0;31m \u001b[0mdf\u001b[0m\u001b[0;34m.\u001b[0m\u001b[0mwrite\u001b[0m\u001b[0;34m.\u001b[0m\u001b[0mparquet\u001b[0m\u001b[0;34m(\u001b[0m\u001b[0;34m\"firstProblem.parquet\"\u001b[0m\u001b[0;34m)\u001b[0m\u001b[0;34m\u001b[0m\u001b[0;34m\u001b[0m\u001b[0m\n\u001b[0m",
            "\u001b[0;32m/usr/local/lib/python3.6/dist-packages/pyspark/sql/readwriter.py\u001b[0m in \u001b[0;36mparquet\u001b[0;34m(self, path, mode, partitionBy, compression)\u001b[0m\n\u001b[1;32m    934\u001b[0m             \u001b[0mself\u001b[0m\u001b[0;34m.\u001b[0m\u001b[0mpartitionBy\u001b[0m\u001b[0;34m(\u001b[0m\u001b[0mpartitionBy\u001b[0m\u001b[0;34m)\u001b[0m\u001b[0;34m\u001b[0m\u001b[0;34m\u001b[0m\u001b[0m\n\u001b[1;32m    935\u001b[0m         \u001b[0mself\u001b[0m\u001b[0;34m.\u001b[0m\u001b[0m_set_opts\u001b[0m\u001b[0;34m(\u001b[0m\u001b[0mcompression\u001b[0m\u001b[0;34m=\u001b[0m\u001b[0mcompression\u001b[0m\u001b[0;34m)\u001b[0m\u001b[0;34m\u001b[0m\u001b[0;34m\u001b[0m\u001b[0m\n\u001b[0;32m--> 936\u001b[0;31m         \u001b[0mself\u001b[0m\u001b[0;34m.\u001b[0m\u001b[0m_jwrite\u001b[0m\u001b[0;34m.\u001b[0m\u001b[0mparquet\u001b[0m\u001b[0;34m(\u001b[0m\u001b[0mpath\u001b[0m\u001b[0;34m)\u001b[0m\u001b[0;34m\u001b[0m\u001b[0;34m\u001b[0m\u001b[0m\n\u001b[0m\u001b[1;32m    937\u001b[0m \u001b[0;34m\u001b[0m\u001b[0m\n\u001b[1;32m    938\u001b[0m     \u001b[0;34m@\u001b[0m\u001b[0msince\u001b[0m\u001b[0;34m(\u001b[0m\u001b[0;36m1.6\u001b[0m\u001b[0;34m)\u001b[0m\u001b[0;34m\u001b[0m\u001b[0;34m\u001b[0m\u001b[0m\n",
            "\u001b[0;32m/usr/local/lib/python3.6/dist-packages/py4j/java_gateway.py\u001b[0m in \u001b[0;36m__call__\u001b[0;34m(self, *args)\u001b[0m\n\u001b[1;32m   1303\u001b[0m         \u001b[0manswer\u001b[0m \u001b[0;34m=\u001b[0m \u001b[0mself\u001b[0m\u001b[0;34m.\u001b[0m\u001b[0mgateway_client\u001b[0m\u001b[0;34m.\u001b[0m\u001b[0msend_command\u001b[0m\u001b[0;34m(\u001b[0m\u001b[0mcommand\u001b[0m\u001b[0;34m)\u001b[0m\u001b[0;34m\u001b[0m\u001b[0;34m\u001b[0m\u001b[0m\n\u001b[1;32m   1304\u001b[0m         return_value = get_return_value(\n\u001b[0;32m-> 1305\u001b[0;31m             answer, self.gateway_client, self.target_id, self.name)\n\u001b[0m\u001b[1;32m   1306\u001b[0m \u001b[0;34m\u001b[0m\u001b[0m\n\u001b[1;32m   1307\u001b[0m         \u001b[0;32mfor\u001b[0m \u001b[0mtemp_arg\u001b[0m \u001b[0;32min\u001b[0m \u001b[0mtemp_args\u001b[0m\u001b[0;34m:\u001b[0m\u001b[0;34m\u001b[0m\u001b[0;34m\u001b[0m\u001b[0m\n",
            "\u001b[0;32m/usr/local/lib/python3.6/dist-packages/pyspark/sql/utils.py\u001b[0m in \u001b[0;36mdeco\u001b[0;34m(*a, **kw)\u001b[0m\n\u001b[1;32m    135\u001b[0m                 \u001b[0;31m# Hide where the exception came from that shows a non-Pythonic\u001b[0m\u001b[0;34m\u001b[0m\u001b[0;34m\u001b[0m\u001b[0;34m\u001b[0m\u001b[0m\n\u001b[1;32m    136\u001b[0m                 \u001b[0;31m# JVM exception message.\u001b[0m\u001b[0;34m\u001b[0m\u001b[0;34m\u001b[0m\u001b[0;34m\u001b[0m\u001b[0m\n\u001b[0;32m--> 137\u001b[0;31m                 \u001b[0mraise_from\u001b[0m\u001b[0;34m(\u001b[0m\u001b[0mconverted\u001b[0m\u001b[0;34m)\u001b[0m\u001b[0;34m\u001b[0m\u001b[0;34m\u001b[0m\u001b[0m\n\u001b[0m\u001b[1;32m    138\u001b[0m             \u001b[0;32melse\u001b[0m\u001b[0;34m:\u001b[0m\u001b[0;34m\u001b[0m\u001b[0;34m\u001b[0m\u001b[0m\n\u001b[1;32m    139\u001b[0m                 \u001b[0;32mraise\u001b[0m\u001b[0;34m\u001b[0m\u001b[0;34m\u001b[0m\u001b[0m\n",
            "\u001b[0;32m/usr/local/lib/python3.6/dist-packages/pyspark/sql/utils.py\u001b[0m in \u001b[0;36mraise_from\u001b[0;34m(e)\u001b[0m\n",
            "\u001b[0;31mAnalysisException\u001b[0m: path file:/content/firstProblem.parquet already exists.;"
          ]
        }
      ]
    }
  ]
}