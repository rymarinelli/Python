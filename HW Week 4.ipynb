{
 "cells": [
  {
   "cell_type": "markdown",
   "metadata": {},
   "source": [
    "# Week 4 Homework: Visualization\n",
    "\n",
    "One last assignment! This week you have only one homework question to turn in, but you are encouraged to work on a project and apply what you've learned to it.\n",
    "\n",
    "## Question 1\n",
    "\n",
    "Load the MovieData.csv file (one last time...) and:\n",
    "\n",
    "a) Create a scatter-plot with Movie Budgets as the X axis, and Profit Margin (Total Revenue / Budget) as the Y axis. Resize the Y axis as needed to convey the most information.\n",
    "\n",
    "b) Create two time series: one a count of movies released by month-year (Jan-1990, Feb-1990, etc.), the other those movies' average profitability. Plot both series either in two aligned subplots or in a single subplot with a secondary axis."
   ]
  },
  {
   "cell_type": "code",
   "execution_count": null,
   "metadata": {},
   "outputs": [],
   "source": [
    "data = read_csv(\"Mov\")"
   ]
  }
 ],
 "metadata": {
  "anaconda-cloud": {},
  "kernelspec": {
   "display_name": "Python 3",
   "language": "python",
   "name": "python3"
  },
  "language_info": {
   "codemirror_mode": {
    "name": "ipython",
    "version": 3
   },
   "file_extension": ".py",
   "mimetype": "text/x-python",
   "name": "python",
   "nbconvert_exporter": "python",
   "pygments_lexer": "ipython3",
   "version": "3.7.3"
  }
 },
 "nbformat": 4,
 "nbformat_minor": 1
}
